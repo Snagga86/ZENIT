{
 "cells": [
  {
   "cell_type": "code",
   "execution_count": 1,
   "metadata": {},
   "outputs": [
    {
     "name": "stdout",
     "output_type": "stream",
     "text": [
      "env: CUDA_VISIBLE_DEVICES=0\n"
     ]
    }
   ],
   "source": [
    "%env CUDA_VISIBLE_DEVICES=0"
   ]
  },
  {
   "cell_type": "code",
   "execution_count": 2,
   "metadata": {},
   "outputs": [],
   "source": [
    "DATA_DIR='/home/HDD6TB/datasets/emotions/EmotiW/engagement/'"
   ]
  },
  {
   "cell_type": "code",
   "execution_count": 3,
   "metadata": {},
   "outputs": [],
   "source": [
    "import os\n",
    "from PIL import Image\n",
    "import cv2\n",
    "from sklearn.model_selection import train_test_split\n",
    "from sklearn import preprocessing\n",
    "from sklearn import svm\n",
    "from sklearn.ensemble import RandomForestClassifier,RandomForestRegressor\n",
    "from sklearn import svm,metrics,preprocessing\n",
    "from sklearn.neighbors import KNeighborsClassifier\n",
    "from sklearn.decomposition import PCA\n",
    "from sklearn.pipeline import Pipeline\n",
    "import mord\n",
    "\n",
    "from collections import defaultdict\n",
    "import os\n",
    "import random\n",
    "import numpy as np\n",
    "from tqdm import tqdm\n",
    "import time\n",
    "import pickle\n",
    "import pandas as pd\n",
    "import matplotlib.pyplot as plt"
   ]
  },
  {
   "cell_type": "code",
   "execution_count": 4,
   "metadata": {},
   "outputs": [],
   "source": [
    "compare_filenames=lambda x: int(os.path.splitext(x)[0])"
   ]
  },
  {
   "cell_type": "markdown",
   "metadata": {},
   "source": [
    "# Feature extraction"
   ]
  },
  {
   "cell_type": "code",
   "execution_count": 5,
   "metadata": {},
   "outputs": [
    {
     "name": "stdout",
     "output_type": "stream",
     "text": [
      "2.4.1\n"
     ]
    }
   ],
   "source": [
    "import pathlib\n",
    "import tensorflow as tf\n",
    "from tensorflow.keras.applications.resnet import preprocess_input\n",
    "from tensorflow.keras.layers import TimeDistributed, GRU, Dense, Dropout, Flatten, LSTM, Activation, MaxPooling2D\n",
    "from tensorflow.keras.regularizers import l2 as L2_reg\n",
    "from tensorflow.keras.layers import Conv2D, BatchNormalization, \\\n",
    "    MaxPool2D, GlobalMaxPool2D, Input, Masking, Conv3D, MaxPooling3D, GlobalMaxPool3D\n",
    "from tensorflow.keras.optimizers import SGD, Adam\n",
    "\n",
    "print(tf.__version__)\n",
    "from tensorflow.compat.v1.keras.backend import set_session \n",
    "config = tf.compat.v1.ConfigProto()\n",
    "config.gpu_options.allow_growth = True\n",
    "sess=tf.compat.v1.Session(config=config)\n",
    "set_session(sess)"
   ]
  },
  {
   "cell_type": "markdown",
   "metadata": {},
   "source": [
    "## Extract frames"
   ]
  },
  {
   "cell_type": "code",
   "execution_count": 21,
   "metadata": {},
   "outputs": [
    {
     "name": "stdout",
     "output_type": "stream",
     "text": [
      "Train\n"
     ]
    },
    {
     "data": {
      "application/vnd.jupyter.widget-view+json": {
       "model_id": "1ce859237938492aa6bf8532472af65e",
       "version_major": 2,
       "version_minor": 0
      },
      "text/plain": [
       "  0%|          | 0/148 [00:00<?, ?it/s]"
      ]
     },
     "metadata": {},
     "output_type": "display_data"
    },
    {
     "name": "stdout",
     "output_type": "stream",
     "text": [
      "ffmpeg -r 1 -i /home/HDD6TB/datasets/emotions/EmotiW/engagement/Train/subject_43_Vid_7.avi -r 1 '/home/HDD6TB/datasets/emotions/EmotiW/engagement/frames/Train/subject_43_Vid_7/%05d.png'\n",
      "ffmpeg -r 1 -i /home/HDD6TB/datasets/emotions/EmotiW/engagement/Train/subject_41_Vid_7.avi -r 1 '/home/HDD6TB/datasets/emotions/EmotiW/engagement/frames/Train/subject_41_Vid_7/%05d.png'\n",
      "ffmpeg -r 1 -i /home/HDD6TB/datasets/emotions/EmotiW/engagement/Train/subject_66_Vid_6.wmv -r 1 '/home/HDD6TB/datasets/emotions/EmotiW/engagement/frames/Train/subject_66_Vid_6/%05d.png'\n",
      "ffmpeg -r 1 -i /home/HDD6TB/datasets/emotions/EmotiW/engagement/Train/subject_70_Vid_2.avi -r 1 '/home/HDD6TB/datasets/emotions/EmotiW/engagement/frames/Train/subject_70_Vid_2/%05d.png'\n",
      "ffmpeg -r 1 -i /home/HDD6TB/datasets/emotions/EmotiW/engagement/Train/subject_80_Vid_2.avi -r 1 '/home/HDD6TB/datasets/emotions/EmotiW/engagement/frames/Train/subject_80_Vid_2/%05d.png'\n",
      "ffmpeg -r 1 -i /home/HDD6TB/datasets/emotions/EmotiW/engagement/Train/subject_26_Vid_1.avi -r 1 '/home/HDD6TB/datasets/emotions/EmotiW/engagement/frames/Train/subject_26_Vid_1/%05d.png'\n",
      "ffmpeg -r 1 -i /home/HDD6TB/datasets/emotions/EmotiW/engagement/Train/subject_75_Vid_7.webm -r 1 '/home/HDD6TB/datasets/emotions/EmotiW/engagement/frames/Train/subject_75_Vid_7/%05d.png'\n",
      "ffmpeg -r 1 -i /home/HDD6TB/datasets/emotions/EmotiW/engagement/Train/subject_48_Vid_7.wmv -r 1 '/home/HDD6TB/datasets/emotions/EmotiW/engagement/frames/Train/subject_48_Vid_7/%05d.png'\n",
      "ffmpeg -r 1 -i /home/HDD6TB/datasets/emotions/EmotiW/engagement/Train/subject_67_Vid_5.avi -r 1 '/home/HDD6TB/datasets/emotions/EmotiW/engagement/frames/Train/subject_67_Vid_5/%05d.png'\n",
      "ffmpeg -r 1 -i /home/HDD6TB/datasets/emotions/EmotiW/engagement/Train/subject_53_Vid_4.avi -r 1 '/home/HDD6TB/datasets/emotions/EmotiW/engagement/frames/Train/subject_53_Vid_4/%05d.png'\n",
      "ffmpeg -r 1 -i /home/HDD6TB/datasets/emotions/EmotiW/engagement/Train/subject_26_Vid_3.avi -r 1 '/home/HDD6TB/datasets/emotions/EmotiW/engagement/frames/Train/subject_26_Vid_3/%05d.png'\n",
      "ffmpeg -r 1 -i /home/HDD6TB/datasets/emotions/EmotiW/engagement/Train/subject_50_Vid_5.avi -r 1 '/home/HDD6TB/datasets/emotions/EmotiW/engagement/frames/Train/subject_50_Vid_5/%05d.png'\n",
      "ffmpeg -r 1 -i /home/HDD6TB/datasets/emotions/EmotiW/engagement/Train/subject_57_Vid_7.MP4 -r 1 '/home/HDD6TB/datasets/emotions/EmotiW/engagement/frames/Train/subject_57_Vid_7/%05d.png'\n",
      "ffmpeg -r 1 -i /home/HDD6TB/datasets/emotions/EmotiW/engagement/Train/subject_40_Vid_7.wmv -r 1 '/home/HDD6TB/datasets/emotions/EmotiW/engagement/frames/Train/subject_40_Vid_7/%05d.png'\n",
      "ffmpeg -r 1 -i /home/HDD6TB/datasets/emotions/EmotiW/engagement/Train/subject_73_Vid_6.wmv -r 1 '/home/HDD6TB/datasets/emotions/EmotiW/engagement/frames/Train/subject_73_Vid_6/%05d.png'\n",
      "ffmpeg -r 1 -i /home/HDD6TB/datasets/emotions/EmotiW/engagement/Train/subject_69_Vid_7.wmv -r 1 '/home/HDD6TB/datasets/emotions/EmotiW/engagement/frames/Train/subject_69_Vid_7/%05d.png'\n",
      "ffmpeg -r 1 -i /home/HDD6TB/datasets/emotions/EmotiW/engagement/Train/subject_34_Vid_2.webm -r 1 '/home/HDD6TB/datasets/emotions/EmotiW/engagement/frames/Train/subject_34_Vid_2/%05d.png'\n",
      "ffmpeg -r 1 -i /home/HDD6TB/datasets/emotions/EmotiW/engagement/Train/subject_77_Vid_3.avi -r 1 '/home/HDD6TB/datasets/emotions/EmotiW/engagement/frames/Train/subject_77_Vid_3/%05d.png'\n",
      "ffmpeg -r 1 -i /home/HDD6TB/datasets/emotions/EmotiW/engagement/Train/subject_70_Vid_1.avi -r 1 '/home/HDD6TB/datasets/emotions/EmotiW/engagement/frames/Train/subject_70_Vid_1/%05d.png'\n",
      "ffmpeg -r 1 -i /home/HDD6TB/datasets/emotions/EmotiW/engagement/Train/subject_40_Vid_6.wmv -r 1 '/home/HDD6TB/datasets/emotions/EmotiW/engagement/frames/Train/subject_40_Vid_6/%05d.png'\n",
      "ffmpeg -r 1 -i /home/HDD6TB/datasets/emotions/EmotiW/engagement/Train/subject_56_Vid_2.avi -r 1 '/home/HDD6TB/datasets/emotions/EmotiW/engagement/frames/Train/subject_56_Vid_2/%05d.png'\n",
      "ffmpeg -r 1 -i /home/HDD6TB/datasets/emotions/EmotiW/engagement/Train/subject_62_Vid_6.avi -r 1 '/home/HDD6TB/datasets/emotions/EmotiW/engagement/frames/Train/subject_62_Vid_6/%05d.png'\n",
      "ffmpeg -r 1 -i /home/HDD6TB/datasets/emotions/EmotiW/engagement/Train/subject_33_Vid_3.avi -r 1 '/home/HDD6TB/datasets/emotions/EmotiW/engagement/frames/Train/subject_33_Vid_3/%05d.png'\n",
      "ffmpeg -r 1 -i /home/HDD6TB/datasets/emotions/EmotiW/engagement/Train/subject_41_Vid_5_2.avi -r 1 '/home/HDD6TB/datasets/emotions/EmotiW/engagement/frames/Train/subject_41_Vid_5_2/%05d.png'\n",
      "ffmpeg -r 1 -i /home/HDD6TB/datasets/emotions/EmotiW/engagement/Train/subject_50_Vid_6.avi -r 1 '/home/HDD6TB/datasets/emotions/EmotiW/engagement/frames/Train/subject_50_Vid_6/%05d.png'\n",
      "ffmpeg -r 1 -i /home/HDD6TB/datasets/emotions/EmotiW/engagement/Train/subject_80_Vid_6.avi -r 1 '/home/HDD6TB/datasets/emotions/EmotiW/engagement/frames/Train/subject_80_Vid_6/%05d.png'\n",
      "ffmpeg -r 1 -i /home/HDD6TB/datasets/emotions/EmotiW/engagement/Train/subject_86_Vid_7.avi -r 1 '/home/HDD6TB/datasets/emotions/EmotiW/engagement/frames/Train/subject_86_Vid_7/%05d.png'\n",
      "ffmpeg -r 1 -i /home/HDD6TB/datasets/emotions/EmotiW/engagement/Train/subject_34_Vid_5.webm -r 1 '/home/HDD6TB/datasets/emotions/EmotiW/engagement/frames/Train/subject_34_Vid_5/%05d.png'\n",
      "ffmpeg -r 1 -i /home/HDD6TB/datasets/emotions/EmotiW/engagement/Train/subject_26_Vid_7.avi -r 1 '/home/HDD6TB/datasets/emotions/EmotiW/engagement/frames/Train/subject_26_Vid_7/%05d.png'\n",
      "ffmpeg -r 1 -i /home/HDD6TB/datasets/emotions/EmotiW/engagement/Train/subject_64_Vid_7.wmv -r 1 '/home/HDD6TB/datasets/emotions/EmotiW/engagement/frames/Train/subject_64_Vid_7/%05d.png'\n",
      "ffmpeg -r 1 -i /home/HDD6TB/datasets/emotions/EmotiW/engagement/Train/subject_48_Vid_6.wmv -r 1 '/home/HDD6TB/datasets/emotions/EmotiW/engagement/frames/Train/subject_48_Vid_6/%05d.png'\n",
      "ffmpeg -r 1 -i /home/HDD6TB/datasets/emotions/EmotiW/engagement/Train/subject_53_Vid_5.avi -r 1 '/home/HDD6TB/datasets/emotions/EmotiW/engagement/frames/Train/subject_53_Vid_5/%05d.png'\n",
      "ffmpeg -r 1 -i /home/HDD6TB/datasets/emotions/EmotiW/engagement/Train/subject_33_Vid_1.avi -r 1 '/home/HDD6TB/datasets/emotions/EmotiW/engagement/frames/Train/subject_33_Vid_1/%05d.png'\n",
      "ffmpeg -r 1 -i /home/HDD6TB/datasets/emotions/EmotiW/engagement/Train/subject_70_Vid_5.avi -r 1 '/home/HDD6TB/datasets/emotions/EmotiW/engagement/frames/Train/subject_70_Vid_5/%05d.png'\n",
      "ffmpeg -r 1 -i /home/HDD6TB/datasets/emotions/EmotiW/engagement/Train/subject_32_Vid_2.avi -r 1 '/home/HDD6TB/datasets/emotions/EmotiW/engagement/frames/Train/subject_32_Vid_2/%05d.png'\n",
      "ffmpeg -r 1 -i /home/HDD6TB/datasets/emotions/EmotiW/engagement/Train/subject_39_Vid_7.wmv -r 1 '/home/HDD6TB/datasets/emotions/EmotiW/engagement/frames/Train/subject_39_Vid_7/%05d.png'\n",
      "ffmpeg -r 1 -i /home/HDD6TB/datasets/emotions/EmotiW/engagement/Train/subject_47_Vid_6.wmv -r 1 '/home/HDD6TB/datasets/emotions/EmotiW/engagement/frames/Train/subject_47_Vid_6/%05d.png'\n",
      "ffmpeg -r 1 -i /home/HDD6TB/datasets/emotions/EmotiW/engagement/Train/subject_26_Vid_2.avi -r 1 '/home/HDD6TB/datasets/emotions/EmotiW/engagement/frames/Train/subject_26_Vid_2/%05d.png'\n",
      "ffmpeg -r 1 -i /home/HDD6TB/datasets/emotions/EmotiW/engagement/Train/subject_41_Vid_2.avi -r 1 '/home/HDD6TB/datasets/emotions/EmotiW/engagement/frames/Train/subject_41_Vid_2/%05d.png'\n",
      "ffmpeg -r 1 -i /home/HDD6TB/datasets/emotions/EmotiW/engagement/Train/subject_32_Vid_7.webm -r 1 '/home/HDD6TB/datasets/emotions/EmotiW/engagement/frames/Train/subject_32_Vid_7/%05d.png'\n",
      "ffmpeg -r 1 -i /home/HDD6TB/datasets/emotions/EmotiW/engagement/Train/subject_62_Vid_1.avi -r 1 '/home/HDD6TB/datasets/emotions/EmotiW/engagement/frames/Train/subject_62_Vid_1/%05d.png'\n",
      "ffmpeg -r 1 -i /home/HDD6TB/datasets/emotions/EmotiW/engagement/Train/subject_49_Vid_7.avi -r 1 '/home/HDD6TB/datasets/emotions/EmotiW/engagement/frames/Train/subject_49_Vid_7/%05d.png'\n",
      "ffmpeg -r 1 -i /home/HDD6TB/datasets/emotions/EmotiW/engagement/Train/subject_54_Vid_6.webm -r 1 '/home/HDD6TB/datasets/emotions/EmotiW/engagement/frames/Train/subject_54_Vid_6/%05d.png'\n",
      "ffmpeg -r 1 -i /home/HDD6TB/datasets/emotions/EmotiW/engagement/Train/subject_77_Vid_4.avi -r 1 '/home/HDD6TB/datasets/emotions/EmotiW/engagement/frames/Train/subject_77_Vid_4/%05d.png'\n"
     ]
    },
    {
     "name": "stdout",
     "output_type": "stream",
     "text": [
      "ffmpeg -r 1 -i /home/HDD6TB/datasets/emotions/EmotiW/engagement/Train/subject_85_Vid_7.avi -r 1 '/home/HDD6TB/datasets/emotions/EmotiW/engagement/frames/Train/subject_85_Vid_7/%05d.png'\n",
      "ffmpeg -r 1 -i /home/HDD6TB/datasets/emotions/EmotiW/engagement/Train/subject_26_Vid_5.avi -r 1 '/home/HDD6TB/datasets/emotions/EmotiW/engagement/frames/Train/subject_26_Vid_5/%05d.png'\n",
      "ffmpeg -r 1 -i /home/HDD6TB/datasets/emotions/EmotiW/engagement/Train/subject_68_Vid_6.wmv -r 1 '/home/HDD6TB/datasets/emotions/EmotiW/engagement/frames/Train/subject_68_Vid_6/%05d.png'\n",
      "ffmpeg -r 1 -i /home/HDD6TB/datasets/emotions/EmotiW/engagement/Train/subject_30_Vid_3.avi -r 1 '/home/HDD6TB/datasets/emotions/EmotiW/engagement/frames/Train/subject_30_Vid_3/%05d.png'\n",
      "ffmpeg -r 1 -i /home/HDD6TB/datasets/emotions/EmotiW/engagement/Train/subject_53_Vid_2.avi -r 1 '/home/HDD6TB/datasets/emotions/EmotiW/engagement/frames/Train/subject_53_Vid_2/%05d.png'\n",
      "ffmpeg -r 1 -i /home/HDD6TB/datasets/emotions/EmotiW/engagement/Train/subject_63_Vid_7.webm -r 1 '/home/HDD6TB/datasets/emotions/EmotiW/engagement/frames/Train/subject_63_Vid_7/%05d.png'\n",
      "ffmpeg -r 1 -i /home/HDD6TB/datasets/emotions/EmotiW/engagement/Train/subject_50_Vid_1.avi -r 1 '/home/HDD6TB/datasets/emotions/EmotiW/engagement/frames/Train/subject_50_Vid_1/%05d.png'\n",
      "ffmpeg -r 1 -i /home/HDD6TB/datasets/emotions/EmotiW/engagement/Train/subject_50_Vid_2.avi -r 1 '/home/HDD6TB/datasets/emotions/EmotiW/engagement/frames/Train/subject_50_Vid_2/%05d.png'\n",
      "ffmpeg -r 1 -i /home/HDD6TB/datasets/emotions/EmotiW/engagement/Train/subject_84_Vid_5.avi -r 1 '/home/HDD6TB/datasets/emotions/EmotiW/engagement/frames/Train/subject_84_Vid_5/%05d.png'\n",
      "ffmpeg -r 1 -i /home/HDD6TB/datasets/emotions/EmotiW/engagement/Train/subject_50_Vid_3.avi -r 1 '/home/HDD6TB/datasets/emotions/EmotiW/engagement/frames/Train/subject_50_Vid_3/%05d.png'\n",
      "ffmpeg -r 1 -i /home/HDD6TB/datasets/emotions/EmotiW/engagement/Train/subject_80_Vid_5.avi -r 1 '/home/HDD6TB/datasets/emotions/EmotiW/engagement/frames/Train/subject_80_Vid_5/%05d.png'\n",
      "ffmpeg -r 1 -i /home/HDD6TB/datasets/emotions/EmotiW/engagement/Train/subject_74_Vid_7.webm -r 1 '/home/HDD6TB/datasets/emotions/EmotiW/engagement/frames/Train/subject_74_Vid_7/%05d.png'\n",
      "ffmpeg -r 1 -i /home/HDD6TB/datasets/emotions/EmotiW/engagement/Train/subject_78_Vid_6.avi -r 1 '/home/HDD6TB/datasets/emotions/EmotiW/engagement/frames/Train/subject_78_Vid_6/%05d.png'\n",
      "ffmpeg -r 1 -i /home/HDD6TB/datasets/emotions/EmotiW/engagement/Train/subject_46_Vid_6.avi -r 1 '/home/HDD6TB/datasets/emotions/EmotiW/engagement/frames/Train/subject_46_Vid_6/%05d.png'\n",
      "ffmpeg -r 1 -i /home/HDD6TB/datasets/emotions/EmotiW/engagement/Train/subject_67_Vid_6.avi -r 1 '/home/HDD6TB/datasets/emotions/EmotiW/engagement/frames/Train/subject_67_Vid_6/%05d.png'\n",
      "ffmpeg -r 1 -i /home/HDD6TB/datasets/emotions/EmotiW/engagement/Train/subject_58_Vid_7.avi -r 1 '/home/HDD6TB/datasets/emotions/EmotiW/engagement/frames/Train/subject_58_Vid_7/%05d.png'\n",
      "ffmpeg -r 1 -i /home/HDD6TB/datasets/emotions/EmotiW/engagement/Train/subject_72_Vid_6.wmv -r 1 '/home/HDD6TB/datasets/emotions/EmotiW/engagement/frames/Train/subject_72_Vid_6/%05d.png'\n",
      "ffmpeg -r 1 -i /home/HDD6TB/datasets/emotions/EmotiW/engagement/Train/subject_59_Vid_7.avi -r 1 '/home/HDD6TB/datasets/emotions/EmotiW/engagement/frames/Train/subject_59_Vid_7/%05d.png'\n",
      "ffmpeg -r 1 -i /home/HDD6TB/datasets/emotions/EmotiW/engagement/Train/subject_80_Vid_4.avi -r 1 '/home/HDD6TB/datasets/emotions/EmotiW/engagement/frames/Train/subject_80_Vid_4/%05d.png'\n",
      "ffmpeg -r 1 -i /home/HDD6TB/datasets/emotions/EmotiW/engagement/Train/subject_34_Vid_1.webm -r 1 '/home/HDD6TB/datasets/emotions/EmotiW/engagement/frames/Train/subject_34_Vid_1/%05d.png'\n",
      "ffmpeg -r 1 -i /home/HDD6TB/datasets/emotions/EmotiW/engagement/Train/subject_35_Vid_7.wmv -r 1 '/home/HDD6TB/datasets/emotions/EmotiW/engagement/frames/Train/subject_35_Vid_7/%05d.png'\n",
      "ffmpeg -r 1 -i /home/HDD6TB/datasets/emotions/EmotiW/engagement/Train/subject_35_Vid_6.wmv -r 1 '/home/HDD6TB/datasets/emotions/EmotiW/engagement/frames/Train/subject_35_Vid_6/%05d.png'\n",
      "ffmpeg -r 1 -i /home/HDD6TB/datasets/emotions/EmotiW/engagement/Train/subject_30_Vid_5.avi -r 1 '/home/HDD6TB/datasets/emotions/EmotiW/engagement/frames/Train/subject_30_Vid_5/%05d.png'\n",
      "ffmpeg -r 1 -i /home/HDD6TB/datasets/emotions/EmotiW/engagement/Train/subject_81_Vid_7.webm -r 1 '/home/HDD6TB/datasets/emotions/EmotiW/engagement/frames/Train/subject_81_Vid_7/%05d.png'\n",
      "ffmpeg -r 1 -i /home/HDD6TB/datasets/emotions/EmotiW/engagement/Train/subject_32_Vid_4.avi -r 1 '/home/HDD6TB/datasets/emotions/EmotiW/engagement/frames/Train/subject_32_Vid_4/%05d.png'\n",
      "ffmpeg -r 1 -i /home/HDD6TB/datasets/emotions/EmotiW/engagement/Train/subject_80_Vid_1.avi -r 1 '/home/HDD6TB/datasets/emotions/EmotiW/engagement/frames/Train/subject_80_Vid_1/%05d.png'\n",
      "ffmpeg -r 1 -i /home/HDD6TB/datasets/emotions/EmotiW/engagement/Train/subject_41_Vid_6.avi -r 1 '/home/HDD6TB/datasets/emotions/EmotiW/engagement/frames/Train/subject_41_Vid_6/%05d.png'\n",
      "ffmpeg -r 1 -i /home/HDD6TB/datasets/emotions/EmotiW/engagement/Train/subject_41_Vid_4.avi -r 1 '/home/HDD6TB/datasets/emotions/EmotiW/engagement/frames/Train/subject_41_Vid_4/%05d.png'\n",
      "ffmpeg -r 1 -i /home/HDD6TB/datasets/emotions/EmotiW/engagement/Train/subject_50_Vid_4.avi -r 1 '/home/HDD6TB/datasets/emotions/EmotiW/engagement/frames/Train/subject_50_Vid_4/%05d.png'\n",
      "ffmpeg -r 1 -i /home/HDD6TB/datasets/emotions/EmotiW/engagement/Train/subject_26_Vid_4.avi -r 1 '/home/HDD6TB/datasets/emotions/EmotiW/engagement/frames/Train/subject_26_Vid_4/%05d.png'\n",
      "ffmpeg -r 1 -i /home/HDD6TB/datasets/emotions/EmotiW/engagement/Train/subject_34_Vid_3.webm -r 1 '/home/HDD6TB/datasets/emotions/EmotiW/engagement/frames/Train/subject_34_Vid_3/%05d.png'\n",
      "ffmpeg -r 1 -i /home/HDD6TB/datasets/emotions/EmotiW/engagement/Train/subject_62_Vid_4.avi -r 1 '/home/HDD6TB/datasets/emotions/EmotiW/engagement/frames/Train/subject_62_Vid_4/%05d.png'\n",
      "ffmpeg -r 1 -i /home/HDD6TB/datasets/emotions/EmotiW/engagement/Train/subject_56_Vid_5.avi -r 1 '/home/HDD6TB/datasets/emotions/EmotiW/engagement/frames/Train/subject_56_Vid_5/%05d.png'\n",
      "ffmpeg -r 1 -i /home/HDD6TB/datasets/emotions/EmotiW/engagement/Train/subject_79_Vid_7.wmv -r 1 '/home/HDD6TB/datasets/emotions/EmotiW/engagement/frames/Train/subject_79_Vid_7/%05d.png'\n",
      "ffmpeg -r 1 -i /home/HDD6TB/datasets/emotions/EmotiW/engagement/Train/subject_84_Vid_4.avi -r 1 '/home/HDD6TB/datasets/emotions/EmotiW/engagement/frames/Train/subject_84_Vid_4/%05d.png'\n",
      "ffmpeg -r 1 -i /home/HDD6TB/datasets/emotions/EmotiW/engagement/Train/subject_42_Vid_7.webm -r 1 '/home/HDD6TB/datasets/emotions/EmotiW/engagement/frames/Train/subject_42_Vid_7/%05d.png'\n",
      "ffmpeg -r 1 -i /home/HDD6TB/datasets/emotions/EmotiW/engagement/Train/subject_32_Vid_3.avi -r 1 '/home/HDD6TB/datasets/emotions/EmotiW/engagement/frames/Train/subject_32_Vid_3/%05d.png'\n",
      "ffmpeg -r 1 -i /home/HDD6TB/datasets/emotions/EmotiW/engagement/Train/subject_52_Vid_7.webm -r 1 '/home/HDD6TB/datasets/emotions/EmotiW/engagement/frames/Train/subject_52_Vid_7/%05d.png'\n",
      "ffmpeg -r 1 -i /home/HDD6TB/datasets/emotions/EmotiW/engagement/Train/subject_26_Vid_5_2.avi -r 1 '/home/HDD6TB/datasets/emotions/EmotiW/engagement/frames/Train/subject_26_Vid_5_2/%05d.png'\n",
      "ffmpeg -r 1 -i /home/HDD6TB/datasets/emotions/EmotiW/engagement/Train/subject_27_Vid_1.wmv -r 1 '/home/HDD6TB/datasets/emotions/EmotiW/engagement/frames/Train/subject_27_Vid_1/%05d.png'\n",
      "ffmpeg -r 1 -i /home/HDD6TB/datasets/emotions/EmotiW/engagement/Train/subject_51_Vid_7.avi -r 1 '/home/HDD6TB/datasets/emotions/EmotiW/engagement/frames/Train/subject_51_Vid_7/%05d.png'\n",
      "ffmpeg -r 1 -i /home/HDD6TB/datasets/emotions/EmotiW/engagement/Train/subject_37_Vid_7.avi -r 1 '/home/HDD6TB/datasets/emotions/EmotiW/engagement/frames/Train/subject_37_Vid_7/%05d.png'\n",
      "ffmpeg -r 1 -i /home/HDD6TB/datasets/emotions/EmotiW/engagement/Train/subject_36_Vid_7.webm -r 1 '/home/HDD6TB/datasets/emotions/EmotiW/engagement/frames/Train/subject_36_Vid_7/%05d.png'\n",
      "ffmpeg -r 1 -i /home/HDD6TB/datasets/emotions/EmotiW/engagement/Train/subject_58_Vid_6.avi -r 1 '/home/HDD6TB/datasets/emotions/EmotiW/engagement/frames/Train/subject_58_Vid_6/%05d.png'\n"
     ]
    },
    {
     "name": "stdout",
     "output_type": "stream",
     "text": [
      "ffmpeg -r 1 -i /home/HDD6TB/datasets/emotions/EmotiW/engagement/Train/subject_77_Vid_2.avi -r 1 '/home/HDD6TB/datasets/emotions/EmotiW/engagement/frames/Train/subject_77_Vid_2/%05d.png'\n",
      "ffmpeg -r 1 -i /home/HDD6TB/datasets/emotions/EmotiW/engagement/Train/subject_29_Vid_6.wmv -r 1 '/home/HDD6TB/datasets/emotions/EmotiW/engagement/frames/Train/subject_29_Vid_6/%05d.png'\n",
      "ffmpeg -r 1 -i /home/HDD6TB/datasets/emotions/EmotiW/engagement/Train/subject_30_Vid_1.avi -r 1 '/home/HDD6TB/datasets/emotions/EmotiW/engagement/frames/Train/subject_30_Vid_1/%05d.png'\n",
      "ffmpeg -r 1 -i /home/HDD6TB/datasets/emotions/EmotiW/engagement/Train/subject_34_Vid_7.webm -r 1 '/home/HDD6TB/datasets/emotions/EmotiW/engagement/frames/Train/subject_34_Vid_7/%05d.png'\n",
      "ffmpeg -r 1 -i /home/HDD6TB/datasets/emotions/EmotiW/engagement/Train/subject_80_Vid_3.avi -r 1 '/home/HDD6TB/datasets/emotions/EmotiW/engagement/frames/Train/subject_80_Vid_3/%05d.png'\n",
      "ffmpeg -r 1 -i /home/HDD6TB/datasets/emotions/EmotiW/engagement/Train/subject_32_Vid_5.avi -r 1 '/home/HDD6TB/datasets/emotions/EmotiW/engagement/frames/Train/subject_32_Vid_5/%05d.png'\n",
      "ffmpeg -r 1 -i /home/HDD6TB/datasets/emotions/EmotiW/engagement/Train/subject_73_Vid_7.wmv -r 1 '/home/HDD6TB/datasets/emotions/EmotiW/engagement/frames/Train/subject_73_Vid_7/%05d.png'\n",
      "ffmpeg -r 1 -i /home/HDD6TB/datasets/emotions/EmotiW/engagement/Train/subject_56_Vid_4.avi -r 1 '/home/HDD6TB/datasets/emotions/EmotiW/engagement/frames/Train/subject_56_Vid_4/%05d.png'\n",
      "ffmpeg -r 1 -i /home/HDD6TB/datasets/emotions/EmotiW/engagement/Train/subject_76_Vid_6.wmv -r 1 '/home/HDD6TB/datasets/emotions/EmotiW/engagement/frames/Train/subject_76_Vid_6/%05d.png'\n",
      "ffmpeg -r 1 -i /home/HDD6TB/datasets/emotions/EmotiW/engagement/Train/subject_82_Vid_7.avi -r 1 '/home/HDD6TB/datasets/emotions/EmotiW/engagement/frames/Train/subject_82_Vid_7/%05d.png'\n",
      "ffmpeg -r 1 -i /home/HDD6TB/datasets/emotions/EmotiW/engagement/Train/subject_33_Vid_7.avi -r 1 '/home/HDD6TB/datasets/emotions/EmotiW/engagement/frames/Train/subject_33_Vid_7/%05d.png'\n",
      "ffmpeg -r 1 -i /home/HDD6TB/datasets/emotions/EmotiW/engagement/Train/subject_77_Vid_5.avi -r 1 '/home/HDD6TB/datasets/emotions/EmotiW/engagement/frames/Train/subject_77_Vid_5/%05d.png'\n",
      "ffmpeg -r 1 -i /home/HDD6TB/datasets/emotions/EmotiW/engagement/Train/subject_62_Vid_5.avi -r 1 '/home/HDD6TB/datasets/emotions/EmotiW/engagement/frames/Train/subject_62_Vid_5/%05d.png'\n",
      "ffmpeg -r 1 -i /home/HDD6TB/datasets/emotions/EmotiW/engagement/Train/subject_53_Vid_3.avi -r 1 '/home/HDD6TB/datasets/emotions/EmotiW/engagement/frames/Train/subject_53_Vid_3/%05d.png'\n",
      "ffmpeg -r 1 -i /home/HDD6TB/datasets/emotions/EmotiW/engagement/Train/subject_44_Vid_7.MP4 -r 1 '/home/HDD6TB/datasets/emotions/EmotiW/engagement/frames/Train/subject_44_Vid_7/%05d.png'\n",
      "ffmpeg -r 1 -i /home/HDD6TB/datasets/emotions/EmotiW/engagement/Train/subject_67_Vid_1.avi -r 1 '/home/HDD6TB/datasets/emotions/EmotiW/engagement/frames/Train/subject_67_Vid_1/%05d.png'\n",
      "ffmpeg -r 1 -i /home/HDD6TB/datasets/emotions/EmotiW/engagement/Train/subject_68_Vid_7.wmv -r 1 '/home/HDD6TB/datasets/emotions/EmotiW/engagement/frames/Train/subject_68_Vid_7/%05d.png'\n",
      "ffmpeg -r 1 -i /home/HDD6TB/datasets/emotions/EmotiW/engagement/Train/subject_77_Vid_1.avi -r 1 '/home/HDD6TB/datasets/emotions/EmotiW/engagement/frames/Train/subject_77_Vid_1/%05d.png'\n",
      "ffmpeg -r 1 -i /home/HDD6TB/datasets/emotions/EmotiW/engagement/Train/subject_84_Vid_3.avi -r 1 '/home/HDD6TB/datasets/emotions/EmotiW/engagement/frames/Train/subject_84_Vid_3/%05d.png'\n",
      "ffmpeg -r 1 -i /home/HDD6TB/datasets/emotions/EmotiW/engagement/Train/subject_62_Vid_2.avi -r 1 '/home/HDD6TB/datasets/emotions/EmotiW/engagement/frames/Train/subject_62_Vid_2/%05d.png'\n",
      "ffmpeg -r 1 -i /home/HDD6TB/datasets/emotions/EmotiW/engagement/Train/subject_62_Vid_3.avi -r 1 '/home/HDD6TB/datasets/emotions/EmotiW/engagement/frames/Train/subject_62_Vid_3/%05d.png'\n",
      "ffmpeg -r 1 -i /home/HDD6TB/datasets/emotions/EmotiW/engagement/Train/subject_69_Vid_6.wmv -r 1 '/home/HDD6TB/datasets/emotions/EmotiW/engagement/frames/Train/subject_69_Vid_6/%05d.png'\n",
      "ffmpeg -r 1 -i /home/HDD6TB/datasets/emotions/EmotiW/engagement/Train/subject_70_Vid_4.avi -r 1 '/home/HDD6TB/datasets/emotions/EmotiW/engagement/frames/Train/subject_70_Vid_4/%05d.png'\n",
      "ffmpeg -r 1 -i /home/HDD6TB/datasets/emotions/EmotiW/engagement/Train/subject_70_Vid_6.avi -r 1 '/home/HDD6TB/datasets/emotions/EmotiW/engagement/frames/Train/subject_70_Vid_6/%05d.png'\n",
      "ffmpeg -r 1 -i /home/HDD6TB/datasets/emotions/EmotiW/engagement/Train/subject_30_Vid_2.avi -r 1 '/home/HDD6TB/datasets/emotions/EmotiW/engagement/frames/Train/subject_30_Vid_2/%05d.png'\n",
      "ffmpeg -r 1 -i /home/HDD6TB/datasets/emotions/EmotiW/engagement/Train/subject_84_Vid_2.avi -r 1 '/home/HDD6TB/datasets/emotions/EmotiW/engagement/frames/Train/subject_84_Vid_2/%05d.png'\n",
      "ffmpeg -r 1 -i /home/HDD6TB/datasets/emotions/EmotiW/engagement/Train/subject_84_Vid_6.avi -r 1 '/home/HDD6TB/datasets/emotions/EmotiW/engagement/frames/Train/subject_84_Vid_6/%05d.png'\n",
      "ffmpeg -r 1 -i /home/HDD6TB/datasets/emotions/EmotiW/engagement/Train/subject_64_Vid_6.wmv -r 1 '/home/HDD6TB/datasets/emotions/EmotiW/engagement/frames/Train/subject_64_Vid_6/%05d.png'\n",
      "ffmpeg -r 1 -i /home/HDD6TB/datasets/emotions/EmotiW/engagement/Train/subject_32_Vid_6.avi -r 1 '/home/HDD6TB/datasets/emotions/EmotiW/engagement/frames/Train/subject_32_Vid_6/%05d.png'\n",
      "ffmpeg -r 1 -i /home/HDD6TB/datasets/emotions/EmotiW/engagement/Train/subject_83_Vid_7.webm -r 1 '/home/HDD6TB/datasets/emotions/EmotiW/engagement/frames/Train/subject_83_Vid_7/%05d.png'\n",
      "ffmpeg -r 1 -i /home/HDD6TB/datasets/emotions/EmotiW/engagement/Train/subject_26_Vid_5_1.avi -r 1 '/home/HDD6TB/datasets/emotions/EmotiW/engagement/frames/Train/subject_26_Vid_5_1/%05d.png'\n",
      "ffmpeg -r 1 -i /home/HDD6TB/datasets/emotions/EmotiW/engagement/Train/subject_60_Vid_6.avi -r 1 '/home/HDD6TB/datasets/emotions/EmotiW/engagement/frames/Train/subject_60_Vid_6/%05d.png'\n",
      "ffmpeg -r 1 -i /home/HDD6TB/datasets/emotions/EmotiW/engagement/Train/subject_56_Vid_3.avi -r 1 '/home/HDD6TB/datasets/emotions/EmotiW/engagement/frames/Train/subject_56_Vid_3/%05d.png'\n",
      "ffmpeg -r 1 -i /home/HDD6TB/datasets/emotions/EmotiW/engagement/Train/subject_41_Vid_5.avi -r 1 '/home/HDD6TB/datasets/emotions/EmotiW/engagement/frames/Train/subject_41_Vid_5/%05d.png'\n",
      "ffmpeg -r 1 -i /home/HDD6TB/datasets/emotions/EmotiW/engagement/Train/subject_33_Vid_4.avi -r 1 '/home/HDD6TB/datasets/emotions/EmotiW/engagement/frames/Train/subject_33_Vid_4/%05d.png'\n",
      "ffmpeg -r 1 -i /home/HDD6TB/datasets/emotions/EmotiW/engagement/Train/subject_70_Vid_3.avi -r 1 '/home/HDD6TB/datasets/emotions/EmotiW/engagement/frames/Train/subject_70_Vid_3/%05d.png'\n",
      "ffmpeg -r 1 -i /home/HDD6TB/datasets/emotions/EmotiW/engagement/Train/subject_33_Vid_2.avi -r 1 '/home/HDD6TB/datasets/emotions/EmotiW/engagement/frames/Train/subject_33_Vid_2/%05d.png'\n",
      "ffmpeg -r 1 -i /home/HDD6TB/datasets/emotions/EmotiW/engagement/Train/subject_41_Vid_5_1.avi -r 1 '/home/HDD6TB/datasets/emotions/EmotiW/engagement/frames/Train/subject_41_Vid_5_1/%05d.png'\n",
      "ffmpeg -r 1 -i /home/HDD6TB/datasets/emotions/EmotiW/engagement/Train/subject_65_Vid_6.avi -r 1 '/home/HDD6TB/datasets/emotions/EmotiW/engagement/frames/Train/subject_65_Vid_6/%05d.png'\n",
      "ffmpeg -r 1 -i /home/HDD6TB/datasets/emotions/EmotiW/engagement/Train/subject_66_Vid_7.wmv -r 1 '/home/HDD6TB/datasets/emotions/EmotiW/engagement/frames/Train/subject_66_Vid_7/%05d.png'\n",
      "ffmpeg -r 1 -i /home/HDD6TB/datasets/emotions/EmotiW/engagement/Train/subject_67_Vid_2.avi -r 1 '/home/HDD6TB/datasets/emotions/EmotiW/engagement/frames/Train/subject_67_Vid_2/%05d.png'\n",
      "ffmpeg -r 1 -i /home/HDD6TB/datasets/emotions/EmotiW/engagement/Train/subject_67_Vid_4.avi -r 1 '/home/HDD6TB/datasets/emotions/EmotiW/engagement/frames/Train/subject_67_Vid_4/%05d.png'\n",
      "ffmpeg -r 1 -i /home/HDD6TB/datasets/emotions/EmotiW/engagement/Train/subject_32_Vid_1.avi -r 1 '/home/HDD6TB/datasets/emotions/EmotiW/engagement/frames/Train/subject_32_Vid_1/%05d.png'\n",
      "ffmpeg -r 1 -i /home/HDD6TB/datasets/emotions/EmotiW/engagement/Train/subject_60_Vid_7.avi -r 1 '/home/HDD6TB/datasets/emotions/EmotiW/engagement/frames/Train/subject_60_Vid_7/%05d.png'\n"
     ]
    },
    {
     "name": "stdout",
     "output_type": "stream",
     "text": [
      "ffmpeg -r 1 -i /home/HDD6TB/datasets/emotions/EmotiW/engagement/Train/subject_34_Vid_4.webm -r 1 '/home/HDD6TB/datasets/emotions/EmotiW/engagement/frames/Train/subject_34_Vid_4/%05d.png'\n",
      "ffmpeg -r 1 -i /home/HDD6TB/datasets/emotions/EmotiW/engagement/Train/subject_45_Vid_7.webm -r 1 '/home/HDD6TB/datasets/emotions/EmotiW/engagement/frames/Train/subject_45_Vid_7/%05d.png'\n",
      "ffmpeg -r 1 -i /home/HDD6TB/datasets/emotions/EmotiW/engagement/Train/subject_29_Vid_7.wmv -r 1 '/home/HDD6TB/datasets/emotions/EmotiW/engagement/frames/Train/subject_29_Vid_7/%05d.png'\n",
      "ffmpeg -r 1 -i /home/HDD6TB/datasets/emotions/EmotiW/engagement/Train/subject_76_Vid_7.wmv -r 1 '/home/HDD6TB/datasets/emotions/EmotiW/engagement/frames/Train/subject_76_Vid_7/%05d.png'\n",
      "ffmpeg -r 1 -i /home/HDD6TB/datasets/emotions/EmotiW/engagement/Train/subject_84_Vid_1.avi -r 1 '/home/HDD6TB/datasets/emotions/EmotiW/engagement/frames/Train/subject_84_Vid_1/%05d.png'\n",
      "ffmpeg -r 1 -i /home/HDD6TB/datasets/emotions/EmotiW/engagement/Train/subject_87_Vid_3.wmv -r 1 '/home/HDD6TB/datasets/emotions/EmotiW/engagement/frames/Train/subject_87_Vid_3/%05d.png'\n",
      "ffmpeg -r 1 -i /home/HDD6TB/datasets/emotions/EmotiW/engagement/Train/subject_41_Vid_3.avi -r 1 '/home/HDD6TB/datasets/emotions/EmotiW/engagement/frames/Train/subject_41_Vid_3/%05d.png'\n",
      "ffmpeg -r 1 -i /home/HDD6TB/datasets/emotions/EmotiW/engagement/Train/subject_55_Vid_6.avi -r 1 '/home/HDD6TB/datasets/emotions/EmotiW/engagement/frames/Train/subject_55_Vid_6/%05d.png'\n",
      "ffmpeg -r 1 -i /home/HDD6TB/datasets/emotions/EmotiW/engagement/Train/subject_39_Vid_6.wmv -r 1 '/home/HDD6TB/datasets/emotions/EmotiW/engagement/frames/Train/subject_39_Vid_6/%05d.png'\n",
      "ffmpeg -r 1 -i /home/HDD6TB/datasets/emotions/EmotiW/engagement/Train/subject_30_Vid_4.avi -r 1 '/home/HDD6TB/datasets/emotions/EmotiW/engagement/frames/Train/subject_30_Vid_4/%05d.png'\n",
      "ffmpeg -r 1 -i /home/HDD6TB/datasets/emotions/EmotiW/engagement/Train/subject_38_Vid_7.webm -r 1 '/home/HDD6TB/datasets/emotions/EmotiW/engagement/frames/Train/subject_38_Vid_7/%05d.png'\n",
      "ffmpeg -r 1 -i /home/HDD6TB/datasets/emotions/EmotiW/engagement/Train/subject_56_Vid_1.avi -r 1 '/home/HDD6TB/datasets/emotions/EmotiW/engagement/frames/Train/subject_56_Vid_1/%05d.png'\n",
      "ffmpeg -r 1 -i /home/HDD6TB/datasets/emotions/EmotiW/engagement/Train/subject_77_Vid_7.avi -r 1 '/home/HDD6TB/datasets/emotions/EmotiW/engagement/frames/Train/subject_77_Vid_7/%05d.png'\n",
      "ffmpeg -r 1 -i /home/HDD6TB/datasets/emotions/EmotiW/engagement/Train/subject_62_Vid_7.avi -r 1 '/home/HDD6TB/datasets/emotions/EmotiW/engagement/frames/Train/subject_62_Vid_7/%05d.png'\n",
      "ffmpeg -r 1 -i /home/HDD6TB/datasets/emotions/EmotiW/engagement/Train/subject_56_Vid_6.avi -r 1 '/home/HDD6TB/datasets/emotions/EmotiW/engagement/frames/Train/subject_56_Vid_6/%05d.png'\n"
     ]
    }
   ],
   "source": [
    "def process_dir(dirname):\n",
    "    print(dirname)\n",
    "    resdir=os.path.join(DATA_DIR,'frames')\n",
    "    d=os.path.join(DATA_DIR,dirname)\n",
    "    for filename in tqdm(os.listdir(d)):\n",
    "        if filename.lower().endswith('ini'):\n",
    "            continue\n",
    "        if os.path.isdir(os.path.join(d,filename)):\n",
    "            videofile=None\n",
    "            for fn in os.listdir(os.path.join(d,filename)):\n",
    "                if fn.lower().endswith('ini'):\n",
    "                    continue\n",
    "                videofile=fn\n",
    "            if videofile is None:\n",
    "                print(filename)\n",
    "                continue\n",
    "            filename=os.path.join(filename,videofile)\n",
    "        fn, ext = os.path.splitext(os.path.basename(filename))\n",
    "        outdir=os.path.join(resdir,dirname,fn)\n",
    "        if not os.path.exists(outdir):\n",
    "            os.makedirs(outdir)\n",
    "        command = \"ffmpeg -r 1 -i \"+os.path.join(d,filename) + \" -r 1 '\"+outdir+\"/%05d.png'\"\n",
    "        print(command)\n",
    "        os.system(command=command)\n",
    "\n",
    "#process_dir('validation')\n",
    "process_dir('Train')"
   ]
  },
  {
   "cell_type": "code",
   "execution_count": 12,
   "metadata": {},
   "outputs": [],
   "source": [
    "! find /home/HDD6TB/datasets/emotions/EmotiW/engagement/frames/validation/ -empty -type d -delete"
   ]
  },
  {
   "cell_type": "code",
   "execution_count": 7,
   "metadata": {},
   "outputs": [
    {
     "name": "stdout",
     "output_type": "stream",
     "text": [
      "['9865.png', '9866.png', '9867.png', '9868.png', '9869.png', '9870.png', '9871.png', '9872.png', '9873.png', '9874.png']\n"
     ]
    }
   ],
   "source": [
    "print(sorted(os.listdir(os.path.join(DATA_DIR,'frames/validation/subject_9_Vid_6')), key=compare_filenames)[-10:])"
   ]
  },
  {
   "cell_type": "code",
   "execution_count": null,
   "metadata": {},
   "outputs": [
    {
     "name": "stdout",
     "output_type": "stream",
     "text": [
      "/home/HDD6TB/datasets/emotions/EmotiW/engagement/frames/validation/\n",
      "/home/avsavchenko/src/distr/OpenFace/build/bin/FeatureExtraction -pose -aus -gaze -out_dir /home/HDD6TB/datasets/emotions/EmotiW/engagement/frames/faces/openface/validation/ -fdir subject_7_Vid_5 -fdir subject_9_Vid_6 -fdir subject_13_Vid_6 -fdir subject_8_Vid_6 -fdir subject_7_Vid_3 -fdir subject_20_Vid_5 -fdir subject_7_Vid_2 -fdir subject_1_Vid_2 -fdir subject_5_Vid_6 -fdir subject_11_Vid_6 -fdir subject_1_Vid_4 -fdir subject_1_Vid_3 -fdir subject_20_Vid_5_1 -fdir subject_18_Vid_6 -fdir subject_22_Vid_5 -fdir subject_3_Vid_2 -fdir subject_20_Vid_7 -fdir subject_16_Vid_6 -fdir subject_20_Vid_6 -fdir subject_7_Vid_4 -fdir subject_31_Vid_6 -fdir subject_3_Vid_1 -fdir subject_6_Vid_6 -fdir subject_14_Vid_6 -fdir subject_20_Vid_5_2 -fdir subject_3_Vid_6 -fdir subject_20_Vid_3 -fdir subject_3_Vid_5 -fdir subject_1_Vid_5 -fdir subject_12_Vid_6 -fdir subject_3_Vid_3 -fdir subject_3_Vid_7 -fdir subject_20_Vid_2 -fdir subject_20_Vid_1 -fdir subject_4_Vid_6 -fdir subject_3_Vid_4 -fdir subject_7_Vid_1 -fdir subject_20_Vid_4 -fdir subject_19_Vid_6 -fdir subject_15_Vid_6 -fdir subject_24_Vid_5 -fdir subject_17_Vid_6 -fdir subject_25_Vid_5 -fdir subject_23_Vid_5 -fdir subject_10_Vid_6 -fdir subject_2_Vid_6 -fdir subject_1_Vid_1 -fdir subject_21_Vid_5\n",
      "/home/HDD6TB/datasets/emotions/EmotiW/engagement/frames/Train/\n",
      "/home/avsavchenko/src/distr/OpenFace/build/bin/FeatureExtraction -pose -aus -gaze -out_dir /home/HDD6TB/datasets/emotions/EmotiW/engagement/frames/faces/openface/Train/ -fdir subject_83_Vid_7 -fdir subject_64_Vid_6 -fdir subject_55_Vid_6 -fdir subject_26_Vid_5 -fdir subject_62_Vid_3 -fdir subject_80_Vid_3 -fdir subject_29_Vid_7 -fdir subject_67_Vid_5 -fdir subject_77_Vid_4 -fdir subject_32_Vid_5 -fdir subject_50_Vid_6 -fdir subject_50_Vid_5 -fdir subject_34_Vid_1 -fdir subject_33_Vid_7 -fdir subject_76_Vid_7 -fdir subject_26_Vid_2 -fdir subject_41_Vid_5_2 -fdir subject_58_Vid_7 -fdir subject_67_Vid_1 -fdir subject_70_Vid_2 -fdir subject_66_Vid_6 -fdir subject_42_Vid_7 -fdir subject_32_Vid_6 -fdir subject_34_Vid_4 -fdir subject_67_Vid_4 -fdir subject_70_Vid_3 -fdir subject_40_Vid_7 -fdir subject_84_Vid_2 -fdir subject_33_Vid_2 -fdir subject_70_Vid_6 -fdir subject_41_Vid_5_1 -fdir subject_34_Vid_5 -fdir subject_78_Vid_6 -fdir subject_46_Vid_6 -fdir subject_26_Vid_4 -fdir subject_84_Vid_4 -fdir subject_56_Vid_6 -fdir subject_62_Vid_4 -fdir subject_84_Vid_1 -fdir subject_41_Vid_5 -fdir subject_84_Vid_6 -fdir subject_54_Vid_6 -fdir subject_39_Vid_6 -fdir subject_56_Vid_3 -fdir subject_77_Vid_2 -fdir subject_68_Vid_6 -fdir subject_32_Vid_4 -fdir subject_34_Vid_2 -fdir subject_67_Vid_6 -fdir subject_84_Vid_3 -fdir subject_73_Vid_6 -fdir subject_60_Vid_6 -fdir subject_32_Vid_3 -fdir subject_80_Vid_2 -fdir subject_66_Vid_7 -fdir subject_85_Vid_7 -fdir subject_73_Vid_7 -fdir subject_26_Vid_3 -fdir subject_80_Vid_6 -fdir subject_40_Vid_6 -fdir subject_58_Vid_6 -fdir subject_45_Vid_7 -fdir subject_26_Vid_1 -fdir subject_80_Vid_1 -fdir subject_34_Vid_7 -fdir subject_59_Vid_7 -fdir subject_62_Vid_7 -fdir subject_32_Vid_2 -fdir subject_39_Vid_7 -fdir subject_56_Vid_4 -fdir subject_62_Vid_2 -fdir subject_35_Vid_6 -fdir subject_33_Vid_1 -fdir subject_47_Vid_6 -fdir subject_77_Vid_1 -fdir subject_86_Vid_7 -fdir subject_48_Vid_6 -fdir subject_30_Vid_2 -fdir subject_41_Vid_6 -fdir subject_57_Vid_7 -fdir subject_26_Vid_7 -fdir subject_50_Vid_2 -fdir subject_56_Vid_1 -fdir subject_62_Vid_1 -fdir subject_26_Vid_5_2 -fdir subject_34_Vid_3 -fdir subject_30_Vid_3 -fdir subject_62_Vid_5 -fdir subject_50_Vid_3 -fdir subject_30_Vid_5 -fdir subject_32_Vid_7 -fdir subject_33_Vid_3 -fdir subject_70_Vid_1 -fdir subject_48_Vid_7 -fdir subject_41_Vid_3 -fdir subject_33_Vid_4 -fdir subject_82_Vid_7 -fdir subject_77_Vid_7 -fdir subject_41_Vid_2 -fdir subject_62_Vid_6 -fdir subject_75_Vid_7 -fdir subject_77_Vid_5 -fdir subject_51_Vid_7 -fdir subject_74_Vid_7 -fdir subject_49_Vid_7 -fdir subject_80_Vid_4 -fdir subject_38_Vid_7 -fdir subject_67_Vid_2 -fdir subject_32_Vid_1 -fdir subject_43_Vid_7 -fdir subject_64_Vid_7 -fdir subject_87_Vid_3 -fdir subject_53_Vid_4 -fdir subject_27_Vid_1 -fdir subject_77_Vid_3 -fdir subject_53_Vid_2 -fdir subject_50_Vid_4 -fdir subject_84_Vid_5 -fdir subject_53_Vid_5 -fdir subject_53_Vid_3 -fdir subject_50_Vid_1 -fdir subject_63_Vid_7 -fdir subject_76_Vid_6 -fdir subject_29_Vid_6 -fdir subject_70_Vid_4 -fdir subject_80_Vid_5 -fdir subject_81_Vid_7 -fdir subject_69_Vid_7 -fdir subject_65_Vid_6 -fdir subject_35_Vid_7 -fdir subject_36_Vid_7 -fdir subject_44_Vid_7 -fdir subject_70_Vid_5 -fdir subject_72_Vid_6 -fdir subject_30_Vid_1 -fdir subject_68_Vid_7 -fdir subject_41_Vid_7 -fdir subject_52_Vid_7 -fdir subject_41_Vid_4 -fdir subject_60_Vid_7 -fdir subject_56_Vid_5 -fdir subject_69_Vid_6 -fdir subject_56_Vid_2 -fdir subject_26_Vid_5_1 -fdir subject_30_Vid_4 -fdir subject_37_Vid_7 -fdir subject_79_Vid_7\n"
     ]
    }
   ],
   "source": [
    "def extract_openface_features(dirname,outdir):\n",
    "    print(dirname)\n",
    "    if not os.path.exists(outdir):\n",
    "        os.makedirs(outdir)\n",
    "    os.chdir(dirname)\n",
    "    command='/home/avsavchenko/src/distr/OpenFace/build/bin/FeatureExtraction -pose -aus -gaze -out_dir '+outdir\n",
    "    for filename in os.listdir('.'):\n",
    "        if filename.lower().endswith('ini'):\n",
    "            continue\n",
    "        \n",
    "        if os.path.isdir(filename):\n",
    "            command+=' -fdir '+filename\n",
    "        \n",
    "    print(command)\n",
    "    os.system(command=command)\n",
    "\n",
    "cur_dir=os.getcwd()\n",
    "extract_openface_features(os.path.join(DATA_DIR,'frames/validation/'),os.path.join(DATA_DIR,'frames/faces/openface/validation/'))\n",
    "extract_openface_features(os.path.join(DATA_DIR,'frames/Train/'),os.path.join(DATA_DIR,'frames/faces/openface/Train/'))\n",
    "os.chdir(cur_dir)\n",
    "print(os.getcwd())"
   ]
  },
  {
   "cell_type": "markdown",
   "metadata": {},
   "source": [
    "## Detect faces in frames"
   ]
  },
  {
   "cell_type": "code",
   "execution_count": 6,
   "metadata": {},
   "outputs": [],
   "source": [
    "from facial_analysis import FacialImageProcessing\n",
    "imgProcessing=FacialImageProcessing(False)"
   ]
  },
  {
   "cell_type": "code",
   "execution_count": null,
   "metadata": {},
   "outputs": [],
   "source": [
    "INPUT_SIZE = (224,224)\n",
    "def save_faces(source_path,save_path):\n",
    "    if not os.path.exists(save_path):\n",
    "        os.makedirs(save_path)\n",
    "    for folder in tqdm(os.listdir(source_path)):\n",
    "        if not os.path.exists(os.path.join(save_path, folder)):\n",
    "            os.mkdir(os.path.join(save_path, folder))\n",
    "\n",
    "            for image in os.listdir(os.path.join(source_path, folder)):\n",
    "                filename = os.path.join(source_path, folder, image)\n",
    "                frame_bgr = cv2.imread(filename)\n",
    "                frame = cv2.cvtColor(frame_bgr, cv2.COLOR_BGR2RGB)\n",
    "                bounding_boxes, _ = imgProcessing.detect_faces(frame)\n",
    "\n",
    "                if len(bounding_boxes)==0:\n",
    "                    print('No faces found for ',filename)\n",
    "                    face_img = frame_bgr\n",
    "                    faceFound='noface'\n",
    "                else:\n",
    "                    if len(bounding_boxes)>1:\n",
    "                        print('Too many faces (',len(bounding_boxes),') found for ',filename)\n",
    "                        bounding_boxes=bounding_boxes[:1]\n",
    "\n",
    "                    b=[int(bi) for bi in bounding_boxes[0]]\n",
    "                    x1,y1,x2,y2=b[0:4]\n",
    "                    face_img=frame_bgr[y1:y2,x1:x2,:]\n",
    "\n",
    "                    if np.prod(face_img.shape)==0:\n",
    "                        print('Empty face ',b,' found for ',filename)\n",
    "                        continue\n",
    "                    \n",
    "                    faceFound=''\n",
    "\n",
    "                #face_img=cv2.resize(face_img,INPUT_SIZE)\n",
    "                root,ext=os.path.splitext(image)\n",
    "                cv2.imwrite(os.path.join(save_path, folder, root+faceFound+ext), face_img) \n",
    "        else:\n",
    "            print(folder)\n",
    "        \n",
    "save_faces(os.path.join(DATA_DIR,'frames/validation'),os.path.join(DATA_DIR,'frames/faces/mtcnn_cropped/validation/'))\n",
    "save_faces(os.path.join(DATA_DIR,'frames/Train'),os.path.join(DATA_DIR,'frames/faces/mtcnn_cropped/Train/'))"
   ]
  },
  {
   "cell_type": "markdown",
   "metadata": {},
   "source": [
    "#### Aligned"
   ]
  },
  {
   "cell_type": "code",
   "execution_count": 7,
   "metadata": {},
   "outputs": [],
   "source": [
    "import numpy as np\n",
    "import cv2\n",
    "import math\n",
    "from skimage import transform as trans\n",
    "def get_iou(bb1, bb2):\n",
    "    \"\"\"\n",
    "    Calculate the Intersection over Union (IoU) of two bounding boxes.\n",
    "\n",
    "    Parameters\n",
    "    ----------\n",
    "    bb1 : array\n",
    "        order: {'x1', 'y1', 'x2', 'y2'}\n",
    "        The (x1, y1) position is at the top left corner,\n",
    "        the (x2, y2) position is at the bottom right corner\n",
    "    bb2 : array\n",
    "        order: {'x1', 'y1', 'x2', 'y2'}\n",
    "        The (x1, y1) position is at the top left corner,\n",
    "        the (x2, y2) position is at the bottom right corner\n",
    "\n",
    "    Returns\n",
    "    -------\n",
    "    float\n",
    "        in [0, 1]\n",
    "    \"\"\"\n",
    "\n",
    "    # determine the coordinates of the intersection rectangle\n",
    "    x_left = max(bb1[0], bb2[0])\n",
    "    y_top = max(bb1[1], bb2[1])\n",
    "    x_right = min(bb1[2], bb2[2])\n",
    "    y_bottom = min(bb1[3], bb2[3])\n",
    "\n",
    "    if x_right < x_left or y_bottom < y_top:\n",
    "        return 0.0\n",
    "\n",
    "    # The intersection of two axis-aligned bounding boxes is always an\n",
    "    # axis-aligned bounding box\n",
    "    intersection_area = (x_right - x_left) * (y_bottom - y_top)\n",
    "\n",
    "    # compute the area of both AABBs\n",
    "    bb1_area = (bb1[2] - bb1[0]) * (bb1[3] - bb1[1])\n",
    "    bb2_area = (bb2[2] - bb2[0]) * (bb2[3] - bb2[1])\n",
    "\n",
    "    # compute the intersection over union by taking the intersection\n",
    "    # area and dividing it by the sum of prediction + ground-truth\n",
    "    # areas - the interesection area\n",
    "    iou = intersection_area / float(bb1_area + bb2_area - intersection_area)\n",
    "    return iou\n",
    "\n",
    "#print(get_iou([10,10,20,20],[15,15,25,25]))\n",
    "\n",
    "def preprocess(img, bbox=None, landmark=None, **kwargs):\n",
    "    M = None\n",
    "    image_size = [224,224]\n",
    "    src = np.array([\n",
    "      [30.2946, 51.6963],\n",
    "      [65.5318, 51.5014],\n",
    "      [48.0252, 71.7366],\n",
    "      [33.5493, 92.3655],\n",
    "      [62.7299, 92.2041] ], dtype=np.float32 )\n",
    "    if image_size[1]==224:\n",
    "        src[:,0] += 8.0\n",
    "    src*=2\n",
    "    if landmark is not None:\n",
    "        dst = landmark.astype(np.float32)\n",
    "\n",
    "        tform = trans.SimilarityTransform()\n",
    "        #dst=dst[:3]\n",
    "        #src=src[:3]\n",
    "        #print(dst.shape,src.shape,dst,src)\n",
    "        tform.estimate(dst, src)\n",
    "        M = tform.params[0:2,:]\n",
    "        #M = cv2.estimateRigidTransform( dst.reshape(1,5,2), src.reshape(1,5,2), False)\n",
    "        #print(M)\n",
    "\n",
    "    if M is None:\n",
    "        if bbox is None: #use center crop\n",
    "            det = np.zeros(4, dtype=np.int32)\n",
    "            det[0] = int(img.shape[1]*0.0625)\n",
    "            det[1] = int(img.shape[0]*0.0625)\n",
    "            det[2] = img.shape[1] - det[0]\n",
    "            det[3] = img.shape[0] - det[1]\n",
    "        else:\n",
    "              det = bbox\n",
    "        margin = kwargs.get('margin', 44)\n",
    "        bb = np.zeros(4, dtype=np.int32)\n",
    "        bb[0] = np.maximum(det[0]-margin//2, 0)\n",
    "        bb[1] = np.maximum(det[1]-margin//2, 0)\n",
    "        bb[2] = np.minimum(det[2]+margin//2, img.shape[1])\n",
    "        bb[3] = np.minimum(det[3]+margin//2, img.shape[0])\n",
    "        ret = img[bb[1]:bb[3],bb[0]:bb[2],:]\n",
    "        if len(image_size)>0:\n",
    "              ret = cv2.resize(ret, (image_size[1], image_size[0]))\n",
    "        return ret \n",
    "    else: #do align using landmark\n",
    "        assert len(image_size)==2\n",
    "        warped = cv2.warpAffine(img,M,(image_size[1],image_size[0]), borderValue = 0.0)\n",
    "        return warped\n"
   ]
  },
  {
   "cell_type": "code",
   "execution_count": 8,
   "metadata": {},
   "outputs": [
    {
     "name": "stdout",
     "output_type": "stream",
     "text": [
      "/home/HDD6TB/datasets/emotions/EmotiW/engagement/frames/validation/subject_8_Vid_6/5205.png\n"
     ]
    },
    {
     "data": {
      "image/png": "[encoded data removed]",
      "text/plain": [
       "<Figure size 360x360 with 1 Axes>"
      ]
     },
     "metadata": {
      "needs_background": "light"
     },
     "output_type": "display_data"
    },
    {
     "data": {
      "text/plain": [
       "<Figure size 360x360 with 0 Axes>"
      ]
     },
     "metadata": {},
     "output_type": "display_data"
    },
    {
     "data": {
      "image/png": "[encoded data removed]",
      "text/plain": [
       "<Figure size 432x288 with 2 Axes>"
      ]
     },
     "metadata": {
      "needs_background": "light"
     },
     "output_type": "display_data"
    },
    {
     "data": {
      "text/plain": [
       "<Figure size 360x360 with 0 Axes>"
      ]
     },
     "metadata": {},
     "output_type": "display_data"
    },
    {
     "data": {
      "image/png": "[encoded data removed]",
      "text/plain": [
       "<Figure size 432x288 with 2 Axes>"
      ]
     },
     "metadata": {
      "needs_background": "light"
     },
     "output_type": "display_data"
    }
   ],
   "source": [
    "fpath=os.path.join(DATA_DIR,'frames/validation/subject_8_Vid_6/5205.png')\n",
    "print(fpath)\n",
    "frame_bgr=cv2.imread(fpath)\n",
    "plt.figure(figsize=(5, 5))\n",
    "frame = cv2.cvtColor(frame_bgr, cv2.COLOR_BGR2RGB)\n",
    "plt.imshow(frame)\n",
    "bounding_boxes, points = imgProcessing.detect_faces(frame)\n",
    "points = points.T\n",
    "for bbox,p in zip(bounding_boxes, points):\n",
    "    box = bbox.astype(np.int)\n",
    "    x1,y1,x2,y2=box[0:4]    \n",
    "    #face_img=frame[y1:y2,x1:x2,:]\n",
    "\n",
    "    #face_img=extract_image_chip(frame,p)\n",
    "    p = p.reshape((2,5)).T\n",
    "        \n",
    "    plt.figure(figsize=(5, 5))\n",
    "    fig, (ax1, ax2) = plt.subplots(1, 2)\n",
    "    face_img=preprocess(frame,box,None) #p)\n",
    "    ax1.set_title('Cropped')\n",
    "    ax1.imshow(face_img)\n",
    "    \n",
    "    face_img=preprocess(frame,box,p)\n",
    "    ax2.set_title('Aligned')\n",
    "    ax2.imshow(face_img)"
   ]
  },
  {
   "cell_type": "code",
   "execution_count": null,
   "metadata": {},
   "outputs": [
    {
     "name": "stderr",
     "output_type": "stream",
     "text": [
      "  2%|▏         | 1/48 [07:19<5:44:17, 439.51s/it]"
     ]
    },
    {
     "name": "stdout",
     "output_type": "stream",
     "text": [
      "No faces found for  /home/HDD6TB/datasets/emotions/EmotiW/engagement/frames/validation/subject_9_Vid_6/3872.png\n",
      "No faces found for  /home/HDD6TB/datasets/emotions/EmotiW/engagement/frames/validation/subject_9_Vid_6/3875.png\n",
      "No faces found for  /home/HDD6TB/datasets/emotions/EmotiW/engagement/frames/validation/subject_9_Vid_6/4014.png\n",
      "Too many faces ( 2 ) found for  /home/HDD6TB/datasets/emotions/EmotiW/engagement/frames/validation/subject_9_Vid_6/5358.png\n",
      "best_iou ( 0.9471880698414126 ) best_bb  [572.98185583 226.7768269  780.16819629 487.71917295   0.99999952]\n",
      "No faces found for  /home/HDD6TB/datasets/emotions/EmotiW/engagement/frames/validation/subject_9_Vid_6/6248.png\n",
      "No faces found for  /home/HDD6TB/datasets/emotions/EmotiW/engagement/frames/validation/subject_9_Vid_6/6249.png\n",
      "No faces found for  /home/HDD6TB/datasets/emotions/EmotiW/engagement/frames/validation/subject_9_Vid_6/6250.png\n",
      "No faces found for  /home/HDD6TB/datasets/emotions/EmotiW/engagement/frames/validation/subject_9_Vid_6/6251.png\n",
      "No faces found for  /home/HDD6TB/datasets/emotions/EmotiW/engagement/frames/validation/subject_9_Vid_6/6252.png\n",
      "No faces found for  /home/HDD6TB/datasets/emotions/EmotiW/engagement/frames/validation/subject_9_Vid_6/6253.png\n",
      "No faces found for  /home/HDD6TB/datasets/emotions/EmotiW/engagement/frames/validation/subject_9_Vid_6/6254.png\n",
      "No faces found for  /home/HDD6TB/datasets/emotions/EmotiW/engagement/frames/validation/subject_9_Vid_6/6255.png\n",
      "No faces found for  /home/HDD6TB/datasets/emotions/EmotiW/engagement/frames/validation/subject_9_Vid_6/6256.png\n",
      "No faces found for  /home/HDD6TB/datasets/emotions/EmotiW/engagement/frames/validation/subject_9_Vid_6/6257.png\n",
      "No faces found for  /home/HDD6TB/datasets/emotions/EmotiW/engagement/frames/validation/subject_9_Vid_6/6258.png\n",
      "No faces found for  /home/HDD6TB/datasets/emotions/EmotiW/engagement/frames/validation/subject_9_Vid_6/6259.png\n",
      "No faces found for  /home/HDD6TB/datasets/emotions/EmotiW/engagement/frames/validation/subject_9_Vid_6/6260.png\n",
      "No faces found for  /home/HDD6TB/datasets/emotions/EmotiW/engagement/frames/validation/subject_9_Vid_6/6261.png\n",
      "No faces found for  /home/HDD6TB/datasets/emotions/EmotiW/engagement/frames/validation/subject_9_Vid_6/6262.png\n",
      "No faces found for  /home/HDD6TB/datasets/emotions/EmotiW/engagement/frames/validation/subject_9_Vid_6/6263.png\n",
      "No faces found for  /home/HDD6TB/datasets/emotions/EmotiW/engagement/frames/validation/subject_9_Vid_6/6264.png\n",
      "No faces found for  /home/HDD6TB/datasets/emotions/EmotiW/engagement/frames/validation/subject_9_Vid_6/6265.png\n",
      "No faces found for  /home/HDD6TB/datasets/emotions/EmotiW/engagement/frames/validation/subject_9_Vid_6/6266.png\n",
      "No faces found for  /home/HDD6TB/datasets/emotions/EmotiW/engagement/frames/validation/subject_9_Vid_6/6267.png\n",
      "No faces found for  /home/HDD6TB/datasets/emotions/EmotiW/engagement/frames/validation/subject_9_Vid_6/6268.png\n",
      "No faces found for  /home/HDD6TB/datasets/emotions/EmotiW/engagement/frames/validation/subject_9_Vid_6/6269.png\n",
      "No faces found for  /home/HDD6TB/datasets/emotions/EmotiW/engagement/frames/validation/subject_9_Vid_6/6270.png\n",
      "No faces found for  /home/HDD6TB/datasets/emotions/EmotiW/engagement/frames/validation/subject_9_Vid_6/6271.png\n",
      "No faces found for  /home/HDD6TB/datasets/emotions/EmotiW/engagement/frames/validation/subject_9_Vid_6/6272.png\n",
      "No faces found for  /home/HDD6TB/datasets/emotions/EmotiW/engagement/frames/validation/subject_9_Vid_6/6273.png\n",
      "No faces found for  /home/HDD6TB/datasets/emotions/EmotiW/engagement/frames/validation/subject_9_Vid_6/6274.png\n",
      "No faces found for  /home/HDD6TB/datasets/emotions/EmotiW/engagement/frames/validation/subject_9_Vid_6/6275.png\n",
      "Too many faces ( 2 ) found for  /home/HDD6TB/datasets/emotions/EmotiW/engagement/frames/validation/subject_9_Vid_6/6349.png\n",
      "best_iou ( 0.9633874329676042 ) best_bb  [541.13594276 217.73163027 758.67260718 495.40538066   0.99999249]\n",
      "Too many faces ( 2 ) found for  /home/HDD6TB/datasets/emotions/EmotiW/engagement/frames/validation/subject_9_Vid_6/6350.png\n",
      "best_iou ( 0.5159040733893976 ) best_bb  [542.09217513 220.23296052 759.64439886 500.01057517   0.99999928]\n",
      "No faces found for  /home/HDD6TB/datasets/emotions/EmotiW/engagement/frames/validation/subject_9_Vid_6/7214.png\n",
      "No faces found for  /home/HDD6TB/datasets/emotions/EmotiW/engagement/frames/validation/subject_9_Vid_6/7215.png\n",
      "No faces found for  /home/HDD6TB/datasets/emotions/EmotiW/engagement/frames/validation/subject_9_Vid_6/7216.png\n",
      "No faces found for  /home/HDD6TB/datasets/emotions/EmotiW/engagement/frames/validation/subject_9_Vid_6/7217.png\n",
      "No faces found for  /home/HDD6TB/datasets/emotions/EmotiW/engagement/frames/validation/subject_9_Vid_6/7218.png\n",
      "No faces found for  /home/HDD6TB/datasets/emotions/EmotiW/engagement/frames/validation/subject_9_Vid_6/7219.png\n",
      "No faces found for  /home/HDD6TB/datasets/emotions/EmotiW/engagement/frames/validation/subject_9_Vid_6/7220.png\n",
      "No faces found for  /home/HDD6TB/datasets/emotions/EmotiW/engagement/frames/validation/subject_9_Vid_6/7221.png\n",
      "No faces found for  /home/HDD6TB/datasets/emotions/EmotiW/engagement/frames/validation/subject_9_Vid_6/7222.png\n",
      "No faces found for  /home/HDD6TB/datasets/emotions/EmotiW/engagement/frames/validation/subject_9_Vid_6/7223.png\n",
      "No faces found for  /home/HDD6TB/datasets/emotions/EmotiW/engagement/frames/validation/subject_9_Vid_6/7224.png\n",
      "No faces found for  /home/HDD6TB/datasets/emotions/EmotiW/engagement/frames/validation/subject_9_Vid_6/7225.png\n",
      "No faces found for  /home/HDD6TB/datasets/emotions/EmotiW/engagement/frames/validation/subject_9_Vid_6/7236.png\n",
      "No faces found for  /home/HDD6TB/datasets/emotions/EmotiW/engagement/frames/validation/subject_9_Vid_6/7237.png\n",
      "No faces found for  /home/HDD6TB/datasets/emotions/EmotiW/engagement/frames/validation/subject_9_Vid_6/7238.png\n",
      "No faces found for  /home/HDD6TB/datasets/emotions/EmotiW/engagement/frames/validation/subject_9_Vid_6/7239.png\n",
      "No faces found for  /home/HDD6TB/datasets/emotions/EmotiW/engagement/frames/validation/subject_9_Vid_6/7240.png\n",
      "No faces found for  /home/HDD6TB/datasets/emotions/EmotiW/engagement/frames/validation/subject_9_Vid_6/7241.png\n",
      "No faces found for  /home/HDD6TB/datasets/emotions/EmotiW/engagement/frames/validation/subject_9_Vid_6/7242.png\n",
      "No faces found for  /home/HDD6TB/datasets/emotions/EmotiW/engagement/frames/validation/subject_9_Vid_6/7243.png\n",
      "No faces found for  /home/HDD6TB/datasets/emotions/EmotiW/engagement/frames/validation/subject_9_Vid_6/7244.png\n",
      "No faces found for  /home/HDD6TB/datasets/emotions/EmotiW/engagement/frames/validation/subject_9_Vid_6/7245.png\n",
      "No faces found for  /home/HDD6TB/datasets/emotions/EmotiW/engagement/frames/validation/subject_9_Vid_6/7246.png\n",
      "No faces found for  /home/HDD6TB/datasets/emotions/EmotiW/engagement/frames/validation/subject_9_Vid_6/7247.png\n",
      "No faces found for  /home/HDD6TB/datasets/emotions/EmotiW/engagement/frames/validation/subject_9_Vid_6/7248.png\n",
      "No faces found for  /home/HDD6TB/datasets/emotions/EmotiW/engagement/frames/validation/subject_9_Vid_6/7249.png\n",
      "No faces found for  /home/HDD6TB/datasets/emotions/EmotiW/engagement/frames/validation/subject_9_Vid_6/7250.png\n",
      "No faces found for  /home/HDD6TB/datasets/emotions/EmotiW/engagement/frames/validation/subject_9_Vid_6/7251.png\n",
      "No faces found for  /home/HDD6TB/datasets/emotions/EmotiW/engagement/frames/validation/subject_9_Vid_6/7252.png\n",
      "No faces found for  /home/HDD6TB/datasets/emotions/EmotiW/engagement/frames/validation/subject_9_Vid_6/9366.png\n",
      "No faces found for  /home/HDD6TB/datasets/emotions/EmotiW/engagement/frames/validation/subject_9_Vid_6/9367.png\n",
      "No faces found for  /home/HDD6TB/datasets/emotions/EmotiW/engagement/frames/validation/subject_9_Vid_6/9368.png\n",
      "No faces found for  /home/HDD6TB/datasets/emotions/EmotiW/engagement/frames/validation/subject_9_Vid_6/9369.png\n",
      "No faces found for  /home/HDD6TB/datasets/emotions/EmotiW/engagement/frames/validation/subject_9_Vid_6/9370.png\n",
      "No faces found for  /home/HDD6TB/datasets/emotions/EmotiW/engagement/frames/validation/subject_9_Vid_6/9371.png\n",
      "No faces found for  /home/HDD6TB/datasets/emotions/EmotiW/engagement/frames/validation/subject_9_Vid_6/9372.png\n",
      "No faces found for  /home/HDD6TB/datasets/emotions/EmotiW/engagement/frames/validation/subject_9_Vid_6/9373.png\n"
     ]
    },
    {
     "name": "stdout",
     "output_type": "stream",
     "text": [
      "No faces found for  /home/HDD6TB/datasets/emotions/EmotiW/engagement/frames/validation/subject_9_Vid_6/9375.png\n",
      "No faces found for  /home/HDD6TB/datasets/emotions/EmotiW/engagement/frames/validation/subject_9_Vid_6/9376.png\n",
      "No faces found for  /home/HDD6TB/datasets/emotions/EmotiW/engagement/frames/validation/subject_9_Vid_6/9377.png\n",
      "No faces found for  /home/HDD6TB/datasets/emotions/EmotiW/engagement/frames/validation/subject_9_Vid_6/9378.png\n",
      "No faces found for  /home/HDD6TB/datasets/emotions/EmotiW/engagement/frames/validation/subject_9_Vid_6/9379.png\n",
      "No faces found for  /home/HDD6TB/datasets/emotions/EmotiW/engagement/frames/validation/subject_9_Vid_6/9380.png\n",
      "No faces found for  /home/HDD6TB/datasets/emotions/EmotiW/engagement/frames/validation/subject_9_Vid_6/9381.png\n",
      "No faces found for  /home/HDD6TB/datasets/emotions/EmotiW/engagement/frames/validation/subject_9_Vid_6/9382.png\n",
      "No faces found for  /home/HDD6TB/datasets/emotions/EmotiW/engagement/frames/validation/subject_9_Vid_6/9383.png\n",
      "No faces found for  /home/HDD6TB/datasets/emotions/EmotiW/engagement/frames/validation/subject_9_Vid_6/9384.png\n",
      "No faces found for  /home/HDD6TB/datasets/emotions/EmotiW/engagement/frames/validation/subject_9_Vid_6/9385.png\n",
      "No faces found for  /home/HDD6TB/datasets/emotions/EmotiW/engagement/frames/validation/subject_9_Vid_6/9386.png\n",
      "No faces found for  /home/HDD6TB/datasets/emotions/EmotiW/engagement/frames/validation/subject_9_Vid_6/9387.png\n",
      "No faces found for  /home/HDD6TB/datasets/emotions/EmotiW/engagement/frames/validation/subject_9_Vid_6/9390.png\n",
      "No faces found for  /home/HDD6TB/datasets/emotions/EmotiW/engagement/frames/validation/subject_9_Vid_6/9391.png\n",
      "No faces found for  /home/HDD6TB/datasets/emotions/EmotiW/engagement/frames/validation/subject_9_Vid_6/9393.png\n",
      "No faces found for  /home/HDD6TB/datasets/emotions/EmotiW/engagement/frames/validation/subject_9_Vid_6/9395.png\n",
      "No faces found for  /home/HDD6TB/datasets/emotions/EmotiW/engagement/frames/validation/subject_9_Vid_6/9396.png\n",
      "No faces found for  /home/HDD6TB/datasets/emotions/EmotiW/engagement/frames/validation/subject_9_Vid_6/9397.png\n",
      "No faces found for  /home/HDD6TB/datasets/emotions/EmotiW/engagement/frames/validation/subject_9_Vid_6/9398.png\n",
      "No faces found for  /home/HDD6TB/datasets/emotions/EmotiW/engagement/frames/validation/subject_9_Vid_6/9399.png\n",
      "No faces found for  /home/HDD6TB/datasets/emotions/EmotiW/engagement/frames/validation/subject_9_Vid_6/9400.png\n",
      "No faces found for  /home/HDD6TB/datasets/emotions/EmotiW/engagement/frames/validation/subject_9_Vid_6/9401.png\n",
      "No faces found for  /home/HDD6TB/datasets/emotions/EmotiW/engagement/frames/validation/subject_9_Vid_6/9402.png\n",
      "No faces found for  /home/HDD6TB/datasets/emotions/EmotiW/engagement/frames/validation/subject_9_Vid_6/9403.png\n",
      "No faces found for  /home/HDD6TB/datasets/emotions/EmotiW/engagement/frames/validation/subject_9_Vid_6/9404.png\n"
     ]
    },
    {
     "name": "stderr",
     "output_type": "stream",
     "text": [
      "\r",
      "  4%|▍         | 2/48 [31:48<13:21:09, 1044.99s/it]"
     ]
    },
    {
     "name": "stdout",
     "output_type": "stream",
     "text": [
      "No faces found for  /home/HDD6TB/datasets/emotions/EmotiW/engagement/frames/validation/subject_13_Vid_6/6139.png\n",
      "No faces found for  /home/HDD6TB/datasets/emotions/EmotiW/engagement/frames/validation/subject_13_Vid_6/6140.png\n",
      "No faces found for  /home/HDD6TB/datasets/emotions/EmotiW/engagement/frames/validation/subject_13_Vid_6/6141.png\n",
      "No faces found for  /home/HDD6TB/datasets/emotions/EmotiW/engagement/frames/validation/subject_13_Vid_6/6142.png\n",
      "No faces found for  /home/HDD6TB/datasets/emotions/EmotiW/engagement/frames/validation/subject_13_Vid_6/6143.png\n",
      "No faces found for  /home/HDD6TB/datasets/emotions/EmotiW/engagement/frames/validation/subject_13_Vid_6/6144.png\n",
      "No faces found for  /home/HDD6TB/datasets/emotions/EmotiW/engagement/frames/validation/subject_13_Vid_6/6145.png\n",
      "No faces found for  /home/HDD6TB/datasets/emotions/EmotiW/engagement/frames/validation/subject_13_Vid_6/6146.png\n",
      "No faces found for  /home/HDD6TB/datasets/emotions/EmotiW/engagement/frames/validation/subject_13_Vid_6/6147.png\n",
      "No faces found for  /home/HDD6TB/datasets/emotions/EmotiW/engagement/frames/validation/subject_13_Vid_6/6148.png\n",
      "No faces found for  /home/HDD6TB/datasets/emotions/EmotiW/engagement/frames/validation/subject_13_Vid_6/6149.png\n",
      "No faces found for  /home/HDD6TB/datasets/emotions/EmotiW/engagement/frames/validation/subject_13_Vid_6/6150.png\n",
      "No faces found for  /home/HDD6TB/datasets/emotions/EmotiW/engagement/frames/validation/subject_13_Vid_6/6151.png\n",
      "No faces found for  /home/HDD6TB/datasets/emotions/EmotiW/engagement/frames/validation/subject_13_Vid_6/6152.png\n",
      "No faces found for  /home/HDD6TB/datasets/emotions/EmotiW/engagement/frames/validation/subject_13_Vid_6/6153.png\n",
      "No faces found for  /home/HDD6TB/datasets/emotions/EmotiW/engagement/frames/validation/subject_13_Vid_6/6154.png\n",
      "No faces found for  /home/HDD6TB/datasets/emotions/EmotiW/engagement/frames/validation/subject_13_Vid_6/6155.png\n",
      "No faces found for  /home/HDD6TB/datasets/emotions/EmotiW/engagement/frames/validation/subject_13_Vid_6/6156.png\n",
      "No faces found for  /home/HDD6TB/datasets/emotions/EmotiW/engagement/frames/validation/subject_13_Vid_6/6157.png\n",
      "No faces found for  /home/HDD6TB/datasets/emotions/EmotiW/engagement/frames/validation/subject_13_Vid_6/6158.png\n",
      "No faces found for  /home/HDD6TB/datasets/emotions/EmotiW/engagement/frames/validation/subject_13_Vid_6/6159.png\n",
      "No faces found for  /home/HDD6TB/datasets/emotions/EmotiW/engagement/frames/validation/subject_13_Vid_6/6160.png\n",
      "No faces found for  /home/HDD6TB/datasets/emotions/EmotiW/engagement/frames/validation/subject_13_Vid_6/6161.png\n",
      "No faces found for  /home/HDD6TB/datasets/emotions/EmotiW/engagement/frames/validation/subject_13_Vid_6/6162.png\n",
      "No faces found for  /home/HDD6TB/datasets/emotions/EmotiW/engagement/frames/validation/subject_13_Vid_6/6163.png\n",
      "No faces found for  /home/HDD6TB/datasets/emotions/EmotiW/engagement/frames/validation/subject_13_Vid_6/6164.png\n",
      "No faces found for  /home/HDD6TB/datasets/emotions/EmotiW/engagement/frames/validation/subject_13_Vid_6/6165.png\n",
      "No faces found for  /home/HDD6TB/datasets/emotions/EmotiW/engagement/frames/validation/subject_13_Vid_6/6166.png\n",
      "No faces found for  /home/HDD6TB/datasets/emotions/EmotiW/engagement/frames/validation/subject_13_Vid_6/6167.png\n",
      "No faces found for  /home/HDD6TB/datasets/emotions/EmotiW/engagement/frames/validation/subject_13_Vid_6/6168.png\n",
      "No faces found for  /home/HDD6TB/datasets/emotions/EmotiW/engagement/frames/validation/subject_13_Vid_6/6169.png\n",
      "No faces found for  /home/HDD6TB/datasets/emotions/EmotiW/engagement/frames/validation/subject_13_Vid_6/6170.png\n",
      "No faces found for  /home/HDD6TB/datasets/emotions/EmotiW/engagement/frames/validation/subject_13_Vid_6/6171.png\n",
      "No faces found for  /home/HDD6TB/datasets/emotions/EmotiW/engagement/frames/validation/subject_13_Vid_6/6172.png\n",
      "No faces found for  /home/HDD6TB/datasets/emotions/EmotiW/engagement/frames/validation/subject_13_Vid_6/6173.png\n",
      "No faces found for  /home/HDD6TB/datasets/emotions/EmotiW/engagement/frames/validation/subject_13_Vid_6/6174.png\n",
      "No faces found for  /home/HDD6TB/datasets/emotions/EmotiW/engagement/frames/validation/subject_13_Vid_6/6175.png\n",
      "No faces found for  /home/HDD6TB/datasets/emotions/EmotiW/engagement/frames/validation/subject_13_Vid_6/6176.png\n",
      "No faces found for  /home/HDD6TB/datasets/emotions/EmotiW/engagement/frames/validation/subject_13_Vid_6/6177.png\n",
      "No faces found for  /home/HDD6TB/datasets/emotions/EmotiW/engagement/frames/validation/subject_13_Vid_6/6178.png\n",
      "No faces found for  /home/HDD6TB/datasets/emotions/EmotiW/engagement/frames/validation/subject_13_Vid_6/6179.png\n",
      "No faces found for  /home/HDD6TB/datasets/emotions/EmotiW/engagement/frames/validation/subject_13_Vid_6/6180.png\n",
      "No faces found for  /home/HDD6TB/datasets/emotions/EmotiW/engagement/frames/validation/subject_13_Vid_6/6183.png\n",
      "No faces found for  /home/HDD6TB/datasets/emotions/EmotiW/engagement/frames/validation/subject_13_Vid_6/6184.png\n",
      "No faces found for  /home/HDD6TB/datasets/emotions/EmotiW/engagement/frames/validation/subject_13_Vid_6/6185.png\n",
      "No faces found for  /home/HDD6TB/datasets/emotions/EmotiW/engagement/frames/validation/subject_13_Vid_6/6186.png\n",
      "No faces found for  /home/HDD6TB/datasets/emotions/EmotiW/engagement/frames/validation/subject_13_Vid_6/6187.png\n",
      "No faces found for  /home/HDD6TB/datasets/emotions/EmotiW/engagement/frames/validation/subject_13_Vid_6/6188.png\n",
      "No faces found for  /home/HDD6TB/datasets/emotions/EmotiW/engagement/frames/validation/subject_13_Vid_6/6189.png\n",
      "No faces found for  /home/HDD6TB/datasets/emotions/EmotiW/engagement/frames/validation/subject_13_Vid_6/6190.png\n",
      "No faces found for  /home/HDD6TB/datasets/emotions/EmotiW/engagement/frames/validation/subject_13_Vid_6/6191.png\n",
      "No faces found for  /home/HDD6TB/datasets/emotions/EmotiW/engagement/frames/validation/subject_13_Vid_6/6192.png\n",
      "No faces found for  /home/HDD6TB/datasets/emotions/EmotiW/engagement/frames/validation/subject_13_Vid_6/6193.png\n",
      "No faces found for  /home/HDD6TB/datasets/emotions/EmotiW/engagement/frames/validation/subject_13_Vid_6/6194.png\n",
      "No faces found for  /home/HDD6TB/datasets/emotions/EmotiW/engagement/frames/validation/subject_13_Vid_6/6195.png\n",
      "No faces found for  /home/HDD6TB/datasets/emotions/EmotiW/engagement/frames/validation/subject_13_Vid_6/6196.png\n",
      "No faces found for  /home/HDD6TB/datasets/emotions/EmotiW/engagement/frames/validation/subject_13_Vid_6/6197.png\n",
      "No faces found for  /home/HDD6TB/datasets/emotions/EmotiW/engagement/frames/validation/subject_13_Vid_6/6198.png\n",
      "No faces found for  /home/HDD6TB/datasets/emotions/EmotiW/engagement/frames/validation/subject_13_Vid_6/6199.png\n",
      "No faces found for  /home/HDD6TB/datasets/emotions/EmotiW/engagement/frames/validation/subject_13_Vid_6/6200.png\n",
      "No faces found for  /home/HDD6TB/datasets/emotions/EmotiW/engagement/frames/validation/subject_13_Vid_6/6201.png\n",
      "No faces found for  /home/HDD6TB/datasets/emotions/EmotiW/engagement/frames/validation/subject_13_Vid_6/6202.png\n",
      "No faces found for  /home/HDD6TB/datasets/emotions/EmotiW/engagement/frames/validation/subject_13_Vid_6/6203.png\n",
      "No faces found for  /home/HDD6TB/datasets/emotions/EmotiW/engagement/frames/validation/subject_13_Vid_6/6204.png\n",
      "No faces found for  /home/HDD6TB/datasets/emotions/EmotiW/engagement/frames/validation/subject_13_Vid_6/6205.png\n",
      "No faces found for  /home/HDD6TB/datasets/emotions/EmotiW/engagement/frames/validation/subject_13_Vid_6/6206.png\n",
      "No faces found for  /home/HDD6TB/datasets/emotions/EmotiW/engagement/frames/validation/subject_13_Vid_6/6207.png\n",
      "No faces found for  /home/HDD6TB/datasets/emotions/EmotiW/engagement/frames/validation/subject_13_Vid_6/6208.png\n",
      "No faces found for  /home/HDD6TB/datasets/emotions/EmotiW/engagement/frames/validation/subject_13_Vid_6/6209.png\n",
      "No faces found for  /home/HDD6TB/datasets/emotions/EmotiW/engagement/frames/validation/subject_13_Vid_6/6210.png\n",
      "No faces found for  /home/HDD6TB/datasets/emotions/EmotiW/engagement/frames/validation/subject_13_Vid_6/6211.png\n",
      "No faces found for  /home/HDD6TB/datasets/emotions/EmotiW/engagement/frames/validation/subject_13_Vid_6/6212.png\n",
      "No faces found for  /home/HDD6TB/datasets/emotions/EmotiW/engagement/frames/validation/subject_13_Vid_6/6213.png\n"
     ]
    },
    {
     "name": "stdout",
     "output_type": "stream",
     "text": [
      "No faces found for  /home/HDD6TB/datasets/emotions/EmotiW/engagement/frames/validation/subject_13_Vid_6/6214.png\n",
      "No faces found for  /home/HDD6TB/datasets/emotions/EmotiW/engagement/frames/validation/subject_13_Vid_6/6241.png\n",
      "No faces found for  /home/HDD6TB/datasets/emotions/EmotiW/engagement/frames/validation/subject_13_Vid_6/6242.png\n",
      "No faces found for  /home/HDD6TB/datasets/emotions/EmotiW/engagement/frames/validation/subject_13_Vid_6/6243.png\n",
      "No faces found for  /home/HDD6TB/datasets/emotions/EmotiW/engagement/frames/validation/subject_13_Vid_6/6244.png\n",
      "No faces found for  /home/HDD6TB/datasets/emotions/EmotiW/engagement/frames/validation/subject_13_Vid_6/6245.png\n",
      "No faces found for  /home/HDD6TB/datasets/emotions/EmotiW/engagement/frames/validation/subject_13_Vid_6/6246.png\n",
      "No faces found for  /home/HDD6TB/datasets/emotions/EmotiW/engagement/frames/validation/subject_13_Vid_6/6247.png\n",
      "No faces found for  /home/HDD6TB/datasets/emotions/EmotiW/engagement/frames/validation/subject_13_Vid_6/6248.png\n",
      "No faces found for  /home/HDD6TB/datasets/emotions/EmotiW/engagement/frames/validation/subject_13_Vid_6/6249.png\n",
      "No faces found for  /home/HDD6TB/datasets/emotions/EmotiW/engagement/frames/validation/subject_13_Vid_6/6250.png\n",
      "No faces found for  /home/HDD6TB/datasets/emotions/EmotiW/engagement/frames/validation/subject_13_Vid_6/6251.png\n",
      "No faces found for  /home/HDD6TB/datasets/emotions/EmotiW/engagement/frames/validation/subject_13_Vid_6/6252.png\n",
      "No faces found for  /home/HDD6TB/datasets/emotions/EmotiW/engagement/frames/validation/subject_13_Vid_6/6253.png\n",
      "No faces found for  /home/HDD6TB/datasets/emotions/EmotiW/engagement/frames/validation/subject_13_Vid_6/6254.png\n",
      "No faces found for  /home/HDD6TB/datasets/emotions/EmotiW/engagement/frames/validation/subject_13_Vid_6/6255.png\n",
      "No faces found for  /home/HDD6TB/datasets/emotions/EmotiW/engagement/frames/validation/subject_13_Vid_6/6256.png\n",
      "No faces found for  /home/HDD6TB/datasets/emotions/EmotiW/engagement/frames/validation/subject_13_Vid_6/6258.png\n",
      "No faces found for  /home/HDD6TB/datasets/emotions/EmotiW/engagement/frames/validation/subject_13_Vid_6/6259.png\n",
      "No faces found for  /home/HDD6TB/datasets/emotions/EmotiW/engagement/frames/validation/subject_13_Vid_6/6260.png\n",
      "No faces found for  /home/HDD6TB/datasets/emotions/EmotiW/engagement/frames/validation/subject_13_Vid_6/6261.png\n",
      "No faces found for  /home/HDD6TB/datasets/emotions/EmotiW/engagement/frames/validation/subject_13_Vid_6/6262.png\n",
      "No faces found for  /home/HDD6TB/datasets/emotions/EmotiW/engagement/frames/validation/subject_13_Vid_6/6263.png\n",
      "No faces found for  /home/HDD6TB/datasets/emotions/EmotiW/engagement/frames/validation/subject_13_Vid_6/6264.png\n",
      "No faces found for  /home/HDD6TB/datasets/emotions/EmotiW/engagement/frames/validation/subject_13_Vid_6/6265.png\n",
      "No faces found for  /home/HDD6TB/datasets/emotions/EmotiW/engagement/frames/validation/subject_13_Vid_6/6266.png\n",
      "No faces found for  /home/HDD6TB/datasets/emotions/EmotiW/engagement/frames/validation/subject_13_Vid_6/6267.png\n",
      "No faces found for  /home/HDD6TB/datasets/emotions/EmotiW/engagement/frames/validation/subject_13_Vid_6/6268.png\n",
      "No faces found for  /home/HDD6TB/datasets/emotions/EmotiW/engagement/frames/validation/subject_13_Vid_6/6269.png\n",
      "No faces found for  /home/HDD6TB/datasets/emotions/EmotiW/engagement/frames/validation/subject_13_Vid_6/6270.png\n",
      "No faces found for  /home/HDD6TB/datasets/emotions/EmotiW/engagement/frames/validation/subject_13_Vid_6/6286.png\n",
      "No faces found for  /home/HDD6TB/datasets/emotions/EmotiW/engagement/frames/validation/subject_13_Vid_6/9548.png\n",
      "No faces found for  /home/HDD6TB/datasets/emotions/EmotiW/engagement/frames/validation/subject_13_Vid_6/9549.png\n",
      "No faces found for  /home/HDD6TB/datasets/emotions/EmotiW/engagement/frames/validation/subject_13_Vid_6/9550.png\n",
      "No faces found for  /home/HDD6TB/datasets/emotions/EmotiW/engagement/frames/validation/subject_13_Vid_6/9551.png\n",
      "No faces found for  /home/HDD6TB/datasets/emotions/EmotiW/engagement/frames/validation/subject_13_Vid_6/9552.png\n",
      "No faces found for  /home/HDD6TB/datasets/emotions/EmotiW/engagement/frames/validation/subject_13_Vid_6/9553.png\n",
      "No faces found for  /home/HDD6TB/datasets/emotions/EmotiW/engagement/frames/validation/subject_13_Vid_6/9554.png\n",
      "No faces found for  /home/HDD6TB/datasets/emotions/EmotiW/engagement/frames/validation/subject_13_Vid_6/9555.png\n",
      "No faces found for  /home/HDD6TB/datasets/emotions/EmotiW/engagement/frames/validation/subject_13_Vid_6/9556.png\n",
      "No faces found for  /home/HDD6TB/datasets/emotions/EmotiW/engagement/frames/validation/subject_13_Vid_6/9557.png\n",
      "No faces found for  /home/HDD6TB/datasets/emotions/EmotiW/engagement/frames/validation/subject_13_Vid_6/9558.png\n",
      "No faces found for  /home/HDD6TB/datasets/emotions/EmotiW/engagement/frames/validation/subject_13_Vid_6/9559.png\n",
      "No faces found for  /home/HDD6TB/datasets/emotions/EmotiW/engagement/frames/validation/subject_13_Vid_6/9560.png\n",
      "No faces found for  /home/HDD6TB/datasets/emotions/EmotiW/engagement/frames/validation/subject_13_Vid_6/9561.png\n",
      "No faces found for  /home/HDD6TB/datasets/emotions/EmotiW/engagement/frames/validation/subject_13_Vid_6/9562.png\n",
      "No faces found for  /home/HDD6TB/datasets/emotions/EmotiW/engagement/frames/validation/subject_13_Vid_6/9563.png\n",
      "No faces found for  /home/HDD6TB/datasets/emotions/EmotiW/engagement/frames/validation/subject_13_Vid_6/9564.png\n",
      "No faces found for  /home/HDD6TB/datasets/emotions/EmotiW/engagement/frames/validation/subject_13_Vid_6/9565.png\n",
      "No faces found for  /home/HDD6TB/datasets/emotions/EmotiW/engagement/frames/validation/subject_13_Vid_6/9566.png\n",
      "No faces found for  /home/HDD6TB/datasets/emotions/EmotiW/engagement/frames/validation/subject_13_Vid_6/9567.png\n",
      "No faces found for  /home/HDD6TB/datasets/emotions/EmotiW/engagement/frames/validation/subject_13_Vid_6/9568.png\n",
      "No faces found for  /home/HDD6TB/datasets/emotions/EmotiW/engagement/frames/validation/subject_13_Vid_6/9569.png\n",
      "No faces found for  /home/HDD6TB/datasets/emotions/EmotiW/engagement/frames/validation/subject_13_Vid_6/9570.png\n",
      "No faces found for  /home/HDD6TB/datasets/emotions/EmotiW/engagement/frames/validation/subject_13_Vid_6/9571.png\n",
      "No faces found for  /home/HDD6TB/datasets/emotions/EmotiW/engagement/frames/validation/subject_13_Vid_6/9572.png\n",
      "No faces found for  /home/HDD6TB/datasets/emotions/EmotiW/engagement/frames/validation/subject_13_Vid_6/9573.png\n",
      "No faces found for  /home/HDD6TB/datasets/emotions/EmotiW/engagement/frames/validation/subject_13_Vid_6/9574.png\n",
      "No faces found for  /home/HDD6TB/datasets/emotions/EmotiW/engagement/frames/validation/subject_13_Vid_6/9575.png\n",
      "No faces found for  /home/HDD6TB/datasets/emotions/EmotiW/engagement/frames/validation/subject_13_Vid_6/9576.png\n",
      "No faces found for  /home/HDD6TB/datasets/emotions/EmotiW/engagement/frames/validation/subject_13_Vid_6/9577.png\n",
      "No faces found for  /home/HDD6TB/datasets/emotions/EmotiW/engagement/frames/validation/subject_13_Vid_6/9578.png\n",
      "No faces found for  /home/HDD6TB/datasets/emotions/EmotiW/engagement/frames/validation/subject_13_Vid_6/9579.png\n",
      "No faces found for  /home/HDD6TB/datasets/emotions/EmotiW/engagement/frames/validation/subject_13_Vid_6/9580.png\n",
      "No faces found for  /home/HDD6TB/datasets/emotions/EmotiW/engagement/frames/validation/subject_13_Vid_6/9581.png\n",
      "No faces found for  /home/HDD6TB/datasets/emotions/EmotiW/engagement/frames/validation/subject_13_Vid_6/9582.png\n",
      "No faces found for  /home/HDD6TB/datasets/emotions/EmotiW/engagement/frames/validation/subject_13_Vid_6/9583.png\n",
      "No faces found for  /home/HDD6TB/datasets/emotions/EmotiW/engagement/frames/validation/subject_13_Vid_6/9584.png\n",
      "No faces found for  /home/HDD6TB/datasets/emotions/EmotiW/engagement/frames/validation/subject_13_Vid_6/9585.png\n",
      "No faces found for  /home/HDD6TB/datasets/emotions/EmotiW/engagement/frames/validation/subject_13_Vid_6/9586.png\n",
      "No faces found for  /home/HDD6TB/datasets/emotions/EmotiW/engagement/frames/validation/subject_13_Vid_6/9587.png\n",
      "No faces found for  /home/HDD6TB/datasets/emotions/EmotiW/engagement/frames/validation/subject_13_Vid_6/9588.png\n",
      "No faces found for  /home/HDD6TB/datasets/emotions/EmotiW/engagement/frames/validation/subject_13_Vid_6/9589.png\n"
     ]
    },
    {
     "name": "stdout",
     "output_type": "stream",
     "text": [
      "No faces found for  /home/HDD6TB/datasets/emotions/EmotiW/engagement/frames/validation/subject_13_Vid_6/9590.png\n",
      "No faces found for  /home/HDD6TB/datasets/emotions/EmotiW/engagement/frames/validation/subject_13_Vid_6/9591.png\n",
      "No faces found for  /home/HDD6TB/datasets/emotions/EmotiW/engagement/frames/validation/subject_13_Vid_6/9592.png\n",
      "No faces found for  /home/HDD6TB/datasets/emotions/EmotiW/engagement/frames/validation/subject_13_Vid_6/9593.png\n",
      "No faces found for  /home/HDD6TB/datasets/emotions/EmotiW/engagement/frames/validation/subject_13_Vid_6/9594.png\n",
      "No faces found for  /home/HDD6TB/datasets/emotions/EmotiW/engagement/frames/validation/subject_13_Vid_6/9595.png\n",
      "No faces found for  /home/HDD6TB/datasets/emotions/EmotiW/engagement/frames/validation/subject_13_Vid_6/9596.png\n",
      "No faces found for  /home/HDD6TB/datasets/emotions/EmotiW/engagement/frames/validation/subject_13_Vid_6/9597.png\n",
      "No faces found for  /home/HDD6TB/datasets/emotions/EmotiW/engagement/frames/validation/subject_13_Vid_6/9598.png\n",
      "No faces found for  /home/HDD6TB/datasets/emotions/EmotiW/engagement/frames/validation/subject_13_Vid_6/9599.png\n",
      "No faces found for  /home/HDD6TB/datasets/emotions/EmotiW/engagement/frames/validation/subject_13_Vid_6/9600.png\n",
      "No faces found for  /home/HDD6TB/datasets/emotions/EmotiW/engagement/frames/validation/subject_13_Vid_6/9601.png\n",
      "No faces found for  /home/HDD6TB/datasets/emotions/EmotiW/engagement/frames/validation/subject_13_Vid_6/9602.png\n",
      "No faces found for  /home/HDD6TB/datasets/emotions/EmotiW/engagement/frames/validation/subject_13_Vid_6/9603.png\n",
      "No faces found for  /home/HDD6TB/datasets/emotions/EmotiW/engagement/frames/validation/subject_13_Vid_6/9604.png\n",
      "No faces found for  /home/HDD6TB/datasets/emotions/EmotiW/engagement/frames/validation/subject_13_Vid_6/9605.png\n",
      "No faces found for  /home/HDD6TB/datasets/emotions/EmotiW/engagement/frames/validation/subject_13_Vid_6/9606.png\n",
      "No faces found for  /home/HDD6TB/datasets/emotions/EmotiW/engagement/frames/validation/subject_13_Vid_6/9607.png\n"
     ]
    },
    {
     "name": "stderr",
     "output_type": "stream",
     "text": [
      "\r",
      "  6%|▋         | 3/48 [54:34<14:53:41, 1191.59s/it]"
     ]
    },
    {
     "name": "stdout",
     "output_type": "stream",
     "text": [
      "Too many faces ( 2 ) found for  /home/HDD6TB/datasets/emotions/EmotiW/engagement/frames/validation/subject_8_Vid_6/001.png\n",
      "Too many faces ( 2 ) found for  /home/HDD6TB/datasets/emotions/EmotiW/engagement/frames/validation/subject_8_Vid_6/002.png\n",
      "best_iou ( 0.9662958927908569 ) best_bb  [419.23013496 167.00970982 513.89385736 291.49962235   0.99997401]\n",
      "Too many faces ( 2 ) found for  /home/HDD6TB/datasets/emotions/EmotiW/engagement/frames/validation/subject_8_Vid_6/003.png\n",
      "best_iou ( 0.9771144710104013 ) best_bb  [418.70447123 166.44306989 514.01146936 291.60703207   0.99998057]\n",
      "Too many faces ( 2 ) found for  /home/HDD6TB/datasets/emotions/EmotiW/engagement/frames/validation/subject_8_Vid_6/004.png\n",
      "best_iou ( 0.9090387998772003 ) best_bb  [421.74396555 170.41334489 514.97912046 292.28668091   0.99999154]\n",
      "Too many faces ( 2 ) found for  /home/HDD6TB/datasets/emotions/EmotiW/engagement/frames/validation/subject_8_Vid_6/005.png\n",
      "best_iou ( 0.9625298419359716 ) best_bb  [421.84993768 171.05665824 514.967435   290.77818863   0.99999452]\n",
      "Too many faces ( 2 ) found for  /home/HDD6TB/datasets/emotions/EmotiW/engagement/frames/validation/subject_8_Vid_6/006.png\n",
      "best_iou ( 0.9295397733445308 ) best_bb  [420.83918151 166.44989136 512.33128883 292.0747848    0.99945849]\n",
      "Too many faces ( 2 ) found for  /home/HDD6TB/datasets/emotions/EmotiW/engagement/frames/validation/subject_8_Vid_6/007.png\n",
      "best_iou ( 0.9159040187707896 ) best_bb  [422.38671207 168.61500303 515.37929177 291.33093698   0.9999963 ]\n",
      "Too many faces ( 2 ) found for  /home/HDD6TB/datasets/emotions/EmotiW/engagement/frames/validation/subject_8_Vid_6/008.png\n",
      "best_iou ( 0.9489406720645072 ) best_bb  [419.32706966 166.43137033 514.25428689 291.43359845   0.99996352]\n",
      "Too many faces ( 2 ) found for  /home/HDD6TB/datasets/emotions/EmotiW/engagement/frames/validation/subject_8_Vid_6/009.png\n",
      "best_iou ( 0.987144766808553 ) best_bb  [418.9261445  166.58348995 513.80589892 291.68336765   0.99998343]\n",
      "Too many faces ( 2 ) found for  /home/HDD6TB/datasets/emotions/EmotiW/engagement/frames/validation/subject_8_Vid_6/010.png\n",
      "best_iou ( 0.9185811890493492 ) best_bb  [421.4292858  168.56300187 515.54915587 291.19422957   0.99999702]\n",
      "Too many faces ( 2 ) found for  /home/HDD6TB/datasets/emotions/EmotiW/engagement/frames/validation/subject_8_Vid_6/011.png\n",
      "best_iou ( 0.944236394142488 ) best_bb  [418.94624343 165.88140078 513.93510918 291.95003468   0.99997723]\n",
      "Too many faces ( 2 ) found for  /home/HDD6TB/datasets/emotions/EmotiW/engagement/frames/validation/subject_8_Vid_6/012.png\n",
      "best_iou ( 0.9596065721611527 ) best_bb  [418.79802096 167.75933874 513.9393211  291.1307475    0.99999917]\n",
      "Too many faces ( 2 ) found for  /home/HDD6TB/datasets/emotions/EmotiW/engagement/frames/validation/subject_8_Vid_6/013.png\n",
      "best_iou ( 0.9757845940185588 ) best_bb  [418.77665883 166.75245023 513.71005392 290.1435356    0.99999559]\n",
      "Too many faces ( 2 ) found for  /home/HDD6TB/datasets/emotions/EmotiW/engagement/frames/validation/subject_8_Vid_6/014.png\n",
      "best_iou ( 0.9657621615590424 ) best_bb  [419.53926048 167.20386323 513.68969891 290.19957575   0.9999963 ]\n",
      "Too many faces ( 2 ) found for  /home/HDD6TB/datasets/emotions/EmotiW/engagement/frames/validation/subject_8_Vid_6/015.png\n",
      "best_iou ( 0.9941300099218925 ) best_bb  [418.94588363 167.34846796 513.21157695 289.97102033   0.99998617]\n",
      "Too many faces ( 2 ) found for  /home/HDD6TB/datasets/emotions/EmotiW/engagement/frames/validation/subject_8_Vid_6/016.png\n",
      "best_iou ( 0.9726120741345698 ) best_bb  [418.72427697 166.30584966 513.5582357  290.07114314   0.99999571]\n",
      "Too many faces ( 2 ) found for  /home/HDD6TB/datasets/emotions/EmotiW/engagement/frames/validation/subject_8_Vid_6/017.png\n",
      "best_iou ( 0.9799687886016886 ) best_bb  [418.62038435 167.28130764 513.12883092 290.24420816   0.99999785]\n",
      "Too many faces ( 2 ) found for  /home/HDD6TB/datasets/emotions/EmotiW/engagement/frames/validation/subject_8_Vid_6/018.png\n",
      "best_iou ( 0.9782918092356335 ) best_bb  [417.65880136 167.74573696 512.51583381 289.12067799   0.99999833]\n",
      "Too many faces ( 2 ) found for  /home/HDD6TB/datasets/emotions/EmotiW/engagement/frames/validation/subject_8_Vid_6/019.png\n",
      "best_iou ( 0.9759565649235789 ) best_bb  [417.76692423 167.9957847  512.41177154 289.46156806   0.99999738]\n",
      "Too many faces ( 2 ) found for  /home/HDD6TB/datasets/emotions/EmotiW/engagement/frames/validation/subject_8_Vid_6/020.png\n",
      "best_iou ( 0.9703897954451597 ) best_bb  [419.02530886 167.12124041 512.6077854  288.85993839   0.99999595]\n",
      "Too many faces ( 2 ) found for  /home/HDD6TB/datasets/emotions/EmotiW/engagement/frames/validation/subject_8_Vid_6/021.png\n",
      "best_iou ( 0.9753822726644227 ) best_bb  [419.16390014 167.20344035 512.75396081 289.63739048   0.99999714]\n",
      "Too many faces ( 2 ) found for  /home/HDD6TB/datasets/emotions/EmotiW/engagement/frames/validation/subject_8_Vid_6/022.png\n",
      "best_iou ( 0.9586617042609905 ) best_bb  [419.4017861  170.11324839 512.59496489 289.71541517   0.99999368]\n",
      "Too many faces ( 2 ) found for  /home/HDD6TB/datasets/emotions/EmotiW/engagement/frames/validation/subject_8_Vid_6/023.png\n",
      "best_iou ( 0.9709615373920567 ) best_bb  [418.80241731 167.97477406 512.61018369 289.47835794   0.9999963 ]\n",
      "Too many faces ( 2 ) found for  /home/HDD6TB/datasets/emotions/EmotiW/engagement/frames/validation/subject_8_Vid_6/024.png\n",
      "best_iou ( 0.9355348286835563 ) best_bb  [421.46474569 168.08163622 513.19079929 289.97833996   0.99998832]\n",
      "Too many faces ( 2 ) found for  /home/HDD6TB/datasets/emotions/EmotiW/engagement/frames/validation/subject_8_Vid_6/025.png\n",
      "best_iou ( 0.94680363106331 ) best_bb  [417.57190254 167.78328158 512.52990954 290.36900617   0.99999619]\n",
      "Too many faces ( 2 ) found for  /home/HDD6TB/datasets/emotions/EmotiW/engagement/frames/validation/subject_8_Vid_6/026.png\n",
      "best_iou ( 0.960590269274794 ) best_bb  [418.96848991 167.3650777  513.20411795 289.5366815    0.99999344]\n",
      "Too many faces ( 2 ) found for  /home/HDD6TB/datasets/emotions/EmotiW/engagement/frames/validation/subject_8_Vid_6/027.png\n",
      "best_iou ( 0.9861062731634577 ) best_bb  [418.65772571 167.36495429 513.15563659 289.29712187   0.99999535]\n",
      "Too many faces ( 2 ) found for  /home/HDD6TB/datasets/emotions/EmotiW/engagement/frames/validation/subject_8_Vid_6/028.png\n",
      "best_iou ( 0.9737054089027949 ) best_bb  [417.9080279  167.8878814  512.23527828 290.27323186   0.99999654]\n",
      "Too many faces ( 2 ) found for  /home/HDD6TB/datasets/emotions/EmotiW/engagement/frames/validation/subject_8_Vid_6/029.png\n",
      "best_iou ( 0.9860190799672325 ) best_bb  [417.4359999  166.89695325 512.69435501 289.83118098   0.99999332]\n",
      "Too many faces ( 2 ) found for  /home/HDD6TB/datasets/emotions/EmotiW/engagement/frames/validation/subject_8_Vid_6/030.png\n",
      "best_iou ( 0.9383183703404201 ) best_bb  [419.98412152 167.89635074 512.88047339 289.90811414   0.99999177]\n",
      "Too many faces ( 2 ) found for  /home/HDD6TB/datasets/emotions/EmotiW/engagement/frames/validation/subject_8_Vid_6/031.png\n",
      "best_iou ( 0.978748324817456 ) best_bb  [419.07587938 166.69661933 513.35820093 289.45177897   0.99999452]\n",
      "Too many faces ( 2 ) found for  /home/HDD6TB/datasets/emotions/EmotiW/engagement/frames/validation/subject_8_Vid_6/032.png\n",
      "best_iou ( 0.9660750505629812 ) best_bb  [419.89567951 168.48771572 513.15435255 289.36055631   0.99998331]\n",
      "Too many faces ( 2 ) found for  /home/HDD6TB/datasets/emotions/EmotiW/engagement/frames/validation/subject_8_Vid_6/033.png\n",
      "best_iou ( 0.972146746911595 ) best_bb  [420.1055127  167.39782995 513.79707098 289.37800884   0.99998939]\n",
      "Too many faces ( 2 ) found for  /home/HDD6TB/datasets/emotions/EmotiW/engagement/frames/validation/subject_8_Vid_6/034.png\n",
      "best_iou ( 0.9838580722775268 ) best_bb  [419.95972236 168.19163775 513.11061192 289.59346597   0.99998307]\n",
      "Too many faces ( 2 ) found for  /home/HDD6TB/datasets/emotions/EmotiW/engagement/frames/validation/subject_8_Vid_6/035.png\n",
      "best_iou ( 0.9542239089608519 ) best_bb  [421.80066013 168.63385083 513.59930328 289.62944183   0.99996638]\n",
      "Too many faces ( 2 ) found for  /home/HDD6TB/datasets/emotions/EmotiW/engagement/frames/validation/subject_8_Vid_6/036.png\n",
      "best_iou ( 0.975895515176761 ) best_bb  [421.41758911 168.19051431 513.82772253 290.13956217   0.99997318]\n",
      "Too many faces ( 2 ) found for  /home/HDD6TB/datasets/emotions/EmotiW/engagement/frames/validation/subject_8_Vid_6/037.png\n",
      "best_iou ( 0.9792197256486637 ) best_bb  [420.71515766 169.60389701 512.99440239 289.43930867   0.99998677]\n",
      "Too many faces ( 2 ) found for  /home/HDD6TB/datasets/emotions/EmotiW/engagement/frames/validation/subject_8_Vid_6/038.png\n",
      "best_iou ( 0.9722299281173288 ) best_bb  [420.02505726 167.83024174 512.79256238 290.17091399   0.99999034]\n"
     ]
    },
    {
     "name": "stdout",
     "output_type": "stream",
     "text": [
      "Too many faces ( 2 ) found for  /home/HDD6TB/datasets/emotions/EmotiW/engagement/frames/validation/subject_8_Vid_6/039.png\n",
      "best_iou ( 0.9705252442403519 ) best_bb  [419.25724655 166.7678715  513.48420137 289.48277941   0.99999654]\n",
      "Too many faces ( 2 ) found for  /home/HDD6TB/datasets/emotions/EmotiW/engagement/frames/validation/subject_8_Vid_6/040.png\n",
      "best_iou ( 0.9450818814799892 ) best_bb  [421.7628605  168.80041981 513.20437348 289.1899178    0.99996388]\n",
      "Too many faces ( 2 ) found for  /home/HDD6TB/datasets/emotions/EmotiW/engagement/frames/validation/subject_8_Vid_6/041.png\n",
      "best_iou ( 0.9540020455301449 ) best_bb  [418.248555   168.82672989 512.88532495 290.18258694   0.99999702]\n",
      "Too many faces ( 2 ) found for  /home/HDD6TB/datasets/emotions/EmotiW/engagement/frames/validation/subject_8_Vid_6/042.png\n",
      "best_iou ( 0.9277426387528557 ) best_bb  [421.95865536 168.54471551 514.52837157 290.13681214   0.99996638]\n",
      "Too many faces ( 2 ) found for  /home/HDD6TB/datasets/emotions/EmotiW/engagement/frames/validation/subject_8_Vid_6/043.png\n",
      "best_iou ( 0.9733106714224129 ) best_bb  [421.72002909 169.9904018  513.80329704 290.08583605   0.99991369]\n",
      "Too many faces ( 2 ) found for  /home/HDD6TB/datasets/emotions/EmotiW/engagement/frames/validation/subject_8_Vid_6/044.png\n",
      "best_iou ( 0.9566483769660925 ) best_bb  [418.76954846 167.32830723 512.58858716 289.72514477   0.99999249]\n",
      "Too many faces ( 2 ) found for  /home/HDD6TB/datasets/emotions/EmotiW/engagement/frames/validation/subject_8_Vid_6/045.png\n",
      "best_iou ( 0.9112295039433073 ) best_bb  [421.96286076 169.2174584  514.19652732 290.13209164   0.99996257]\n",
      "Too many faces ( 2 ) found for  /home/HDD6TB/datasets/emotions/EmotiW/engagement/frames/validation/subject_8_Vid_6/046.png\n",
      "best_iou ( 0.9777999323175862 ) best_bb  [422.52478813 168.85235673 513.62294364 290.0734514    0.99997747]\n",
      "Too many faces ( 2 ) found for  /home/HDD6TB/datasets/emotions/EmotiW/engagement/frames/validation/subject_8_Vid_6/047.png\n",
      "best_iou ( 0.9703329158898938 ) best_bb  [421.93287129 169.78037888 514.08018822 290.37479168   0.999951  ]\n",
      "Too many faces ( 2 ) found for  /home/HDD6TB/datasets/emotions/EmotiW/engagement/frames/validation/subject_8_Vid_6/048.png\n",
      "best_iou ( 0.9494416781284871 ) best_bb  [423.25996847 167.91454525 515.56498888 290.23459542   0.99995804]\n",
      "Too many faces ( 2 ) found for  /home/HDD6TB/datasets/emotions/EmotiW/engagement/frames/validation/subject_8_Vid_6/049.png\n",
      "best_iou ( 0.9237558489297699 ) best_bb  [418.06880044 167.38526696 513.54378758 291.02322056   0.99999845]\n",
      "Too many faces ( 2 ) found for  /home/HDD6TB/datasets/emotions/EmotiW/engagement/frames/validation/subject_8_Vid_6/050.png\n",
      "best_iou ( 0.9656946971415774 ) best_bb  [419.80894279 166.17371166 513.37098184 291.67211092   0.99996984]\n",
      "Too many faces ( 2 ) found for  /home/HDD6TB/datasets/emotions/EmotiW/engagement/frames/validation/subject_8_Vid_6/051.png\n",
      "best_iou ( 0.9329890262138671 ) best_bb  [421.51992209 168.6857101  513.85795791 289.57970981   0.99997842]\n",
      "Too many faces ( 2 ) found for  /home/HDD6TB/datasets/emotions/EmotiW/engagement/frames/validation/subject_8_Vid_6/052.png\n",
      "best_iou ( 0.9495908566934641 ) best_bb  [419.07287112 166.66650914 512.39217888 290.67028596   0.99984646]\n",
      "Too many faces ( 2 ) found for  /home/HDD6TB/datasets/emotions/EmotiW/engagement/frames/validation/subject_8_Vid_6/053.png\n",
      "best_iou ( 0.9147075742878401 ) best_bb  [422.45638109 168.56621897 514.85425597 289.9059965    0.99997962]\n",
      "Too many faces ( 2 ) found for  /home/HDD6TB/datasets/emotions/EmotiW/engagement/frames/validation/subject_8_Vid_6/054.png\n",
      "best_iou ( 0.9322232623707812 ) best_bb  [419.53690666 167.8403458  515.43718946 292.35870057   0.99992657]\n",
      "Too many faces ( 2 ) found for  /home/HDD6TB/datasets/emotions/EmotiW/engagement/frames/validation/subject_8_Vid_6/055.png\n",
      "best_iou ( 0.9438600660657411 ) best_bb  [418.35264459 168.40901992 512.8365368  289.90279459   0.99999619]\n",
      "Too many faces ( 2 ) found for  /home/HDD6TB/datasets/emotions/EmotiW/engagement/frames/validation/subject_8_Vid_6/056.png\n",
      "best_iou ( 0.8965788499202472 ) best_bb  [422.38384572 169.97391041 515.22792172 290.49564807   0.99996424]\n",
      "Too many faces ( 2 ) found for  /home/HDD6TB/datasets/emotions/EmotiW/engagement/frames/validation/subject_8_Vid_6/057.png\n",
      "best_iou ( 0.9590658923128781 ) best_bb  [421.25423175 169.65151024 515.60430211 292.6988467    0.99991453]\n",
      "Too many faces ( 2 ) found for  /home/HDD6TB/datasets/emotions/EmotiW/engagement/frames/validation/subject_8_Vid_6/058.png\n",
      "best_iou ( 0.9288022184451252 ) best_bb  [418.95429902 168.31935343 512.28185296 289.80548236   0.9999907 ]\n",
      "Too many faces ( 2 ) found for  /home/HDD6TB/datasets/emotions/EmotiW/engagement/frames/validation/subject_8_Vid_6/059.png\n",
      "best_iou ( 0.9633125537185423 ) best_bb  [419.04432267 168.79344398 512.87117827 290.28656301   0.99998736]\n",
      "Too many faces ( 2 ) found for  /home/HDD6TB/datasets/emotions/EmotiW/engagement/frames/validation/subject_8_Vid_6/5133.png\n",
      "best_iou ( 0.9637711229792826 ) best_bb  [433.16302258 137.14326195 518.97288851 247.43295862   0.99864739]\n",
      "Too many faces ( 2 ) found for  /home/HDD6TB/datasets/emotions/EmotiW/engagement/frames/validation/subject_8_Vid_6/5134.png\n",
      "best_iou ( 0.8475901547756346 ) best_bb  [432.88786888 127.53544521 522.68221474 250.38588524   0.99871945]\n",
      "Too many faces ( 2 ) found for  /home/HDD6TB/datasets/emotions/EmotiW/engagement/frames/validation/subject_8_Vid_6/5135.png\n",
      "best_iou ( 0.8141703169849813 ) best_bb  [434.13523924 136.52530862 517.53021127 244.59975471   0.99914527]\n",
      "Too many faces ( 2 ) found for  /home/HDD6TB/datasets/emotions/EmotiW/engagement/frames/validation/subject_8_Vid_6/5138.png\n",
      "best_iou ( 0.7921664713418591 ) best_bb  [436.90042979 124.63601632 525.26974611 248.44462544   0.99946421]\n",
      "Too many faces ( 2 ) found for  /home/HDD6TB/datasets/emotions/EmotiW/engagement/frames/validation/subject_8_Vid_6/5146.png\n",
      "best_iou ( 0.9538797332193786 ) best_bb  [451.58838396 127.88716115 538.66899167 250.09922624   0.99846387]\n",
      "Too many faces ( 2 ) found for  /home/HDD6TB/datasets/emotions/EmotiW/engagement/frames/validation/subject_8_Vid_6/5147.png\n",
      "best_iou ( 0.9517925473074211 ) best_bb  [451.57488686 125.03328816 539.98087449 250.56768785   0.99845123]\n",
      "Too many faces ( 2 ) found for  /home/HDD6TB/datasets/emotions/EmotiW/engagement/frames/validation/subject_8_Vid_6/5148.png\n",
      "best_iou ( 0.9019378825059455 ) best_bb  [453.58969209 122.49144785 543.6894833  249.72391303   0.99892789]\n",
      "Too many faces ( 2 ) found for  /home/HDD6TB/datasets/emotions/EmotiW/engagement/frames/validation/subject_8_Vid_6/5150.png\n",
      "best_iou ( 0.09044493753215531 ) best_bb  [458.78255892 121.67963356 545.13717379 247.97175174   0.99943131]\n",
      "Too many faces ( 2 ) found for  /home/HDD6TB/datasets/emotions/EmotiW/engagement/frames/validation/subject_8_Vid_6/5154.png\n",
      "best_iou ( 0.8990438486783716 ) best_bb  [462.93890958 121.69513527 553.49459572 250.85857755   0.99915099]\n",
      "Too many faces ( 2 ) found for  /home/HDD6TB/datasets/emotions/EmotiW/engagement/frames/validation/subject_8_Vid_6/5157.png\n",
      "best_iou ( 0.8799820272310064 ) best_bb  [463.53938198 136.32670037 551.18910031 250.86026829   0.99810338]\n",
      "Too many faces ( 2 ) found for  /home/HDD6TB/datasets/emotions/EmotiW/engagement/frames/validation/subject_8_Vid_6/5166.png\n",
      "best_iou ( 0.8765954768230344 ) best_bb  [470.73139583 118.46468958 563.71591306 253.78101422   0.99939799]\n",
      "Too many faces ( 2 ) found for  /home/HDD6TB/datasets/emotions/EmotiW/engagement/frames/validation/subject_8_Vid_6/5168.png\n",
      "best_iou ( 0.9602531856175079 ) best_bb  [468.48236859 118.21266051 560.91231385 254.52834608   0.99898797]\n",
      "Too many faces ( 2 ) found for  /home/HDD6TB/datasets/emotions/EmotiW/engagement/frames/validation/subject_8_Vid_6/5170.png\n",
      "best_iou ( 0.056234511365271 ) best_bb  [468.38540104 133.03549166 559.3533626  251.62482682   0.9995364 ]\n",
      "Too many faces ( 2 ) found for  /home/HDD6TB/datasets/emotions/EmotiW/engagement/frames/validation/subject_8_Vid_6/5190.png\n",
      "best_iou ( 0.01292093647716647 ) best_bb  [482.00321397 120.79518282 571.25182775 245.44125091   0.99963057]\n",
      "Too many faces ( 2 ) found for  /home/HDD6TB/datasets/emotions/EmotiW/engagement/frames/validation/subject_8_Vid_6/5191.png\n",
      "best_iou ( 0.9367348773914631 ) best_bb  [483.38702726 123.89281346 572.41218781 245.34989777   0.99957174]\n"
     ]
    },
    {
     "name": "stdout",
     "output_type": "stream",
     "text": [
      "Too many faces ( 2 ) found for  /home/HDD6TB/datasets/emotions/EmotiW/engagement/frames/validation/subject_8_Vid_6/5193.png\n",
      "best_iou ( 0.917688964195378 ) best_bb  [488.68987811 120.64086393 577.2203517  244.79577036   0.99932492]\n",
      "Too many faces ( 2 ) found for  /home/HDD6TB/datasets/emotions/EmotiW/engagement/frames/validation/subject_8_Vid_6/5205.png\n",
      "best_iou ( 0.9271277361159475 ) best_bb  [493.80233039 120.60871249 586.52990787 247.48019699   0.99944431]\n",
      "Too many faces ( 2 ) found for  /home/HDD6TB/datasets/emotions/EmotiW/engagement/frames/validation/subject_8_Vid_6/5233.png\n",
      "best_iou ( 0.8956475418815156 ) best_bb  [480.94387597 118.48513627 586.1561904  258.51671311   0.99950194]\n"
     ]
    },
    {
     "name": "stderr",
     "output_type": "stream",
     "text": [
      " 10%|█         | 5/48 [1:09:34<8:47:23, 735.89s/it] "
     ]
    },
    {
     "name": "stdout",
     "output_type": "stream",
     "text": [
      "No faces found for  /home/HDD6TB/datasets/emotions/EmotiW/engagement/frames/validation/subject_20_Vid_5/001.png\n",
      "No faces found for  /home/HDD6TB/datasets/emotions/EmotiW/engagement/frames/validation/subject_20_Vid_5/002.png\n"
     ]
    },
    {
     "name": "stderr",
     "output_type": "stream",
     "text": [
      " 17%|█▋        | 8/48 [1:28:35<5:35:15, 502.88s/it]"
     ]
    },
    {
     "name": "stdout",
     "output_type": "stream",
     "text": [
      "No faces found for  /home/HDD6TB/datasets/emotions/EmotiW/engagement/frames/validation/subject_5_Vid_6/10313.png\n",
      "No faces found for  /home/HDD6TB/datasets/emotions/EmotiW/engagement/frames/validation/subject_5_Vid_6/10314.png\n",
      "No faces found for  /home/HDD6TB/datasets/emotions/EmotiW/engagement/frames/validation/subject_5_Vid_6/9083.png\n",
      "No faces found for  /home/HDD6TB/datasets/emotions/EmotiW/engagement/frames/validation/subject_5_Vid_6/9084.png\n",
      "No faces found for  /home/HDD6TB/datasets/emotions/EmotiW/engagement/frames/validation/subject_5_Vid_6/9085.png\n",
      "No faces found for  /home/HDD6TB/datasets/emotions/EmotiW/engagement/frames/validation/subject_5_Vid_6/9086.png\n",
      "No faces found for  /home/HDD6TB/datasets/emotions/EmotiW/engagement/frames/validation/subject_5_Vid_6/9087.png\n",
      "No faces found for  /home/HDD6TB/datasets/emotions/EmotiW/engagement/frames/validation/subject_5_Vid_6/9088.png\n",
      "No faces found for  /home/HDD6TB/datasets/emotions/EmotiW/engagement/frames/validation/subject_5_Vid_6/9089.png\n",
      "No faces found for  /home/HDD6TB/datasets/emotions/EmotiW/engagement/frames/validation/subject_5_Vid_6/9090.png\n",
      "No faces found for  /home/HDD6TB/datasets/emotions/EmotiW/engagement/frames/validation/subject_5_Vid_6/9091.png\n",
      "No faces found for  /home/HDD6TB/datasets/emotions/EmotiW/engagement/frames/validation/subject_5_Vid_6/9092.png\n",
      "No faces found for  /home/HDD6TB/datasets/emotions/EmotiW/engagement/frames/validation/subject_5_Vid_6/9093.png\n",
      "No faces found for  /home/HDD6TB/datasets/emotions/EmotiW/engagement/frames/validation/subject_5_Vid_6/9094.png\n",
      "No faces found for  /home/HDD6TB/datasets/emotions/EmotiW/engagement/frames/validation/subject_5_Vid_6/9095.png\n",
      "No faces found for  /home/HDD6TB/datasets/emotions/EmotiW/engagement/frames/validation/subject_5_Vid_6/9096.png\n",
      "No faces found for  /home/HDD6TB/datasets/emotions/EmotiW/engagement/frames/validation/subject_5_Vid_6/9097.png\n",
      "No faces found for  /home/HDD6TB/datasets/emotions/EmotiW/engagement/frames/validation/subject_5_Vid_6/9098.png\n",
      "No faces found for  /home/HDD6TB/datasets/emotions/EmotiW/engagement/frames/validation/subject_5_Vid_6/9099.png\n",
      "No faces found for  /home/HDD6TB/datasets/emotions/EmotiW/engagement/frames/validation/subject_5_Vid_6/9100.png\n"
     ]
    },
    {
     "name": "stderr",
     "output_type": "stream",
     "text": [
      "\r",
      " 19%|█▉        | 9/48 [1:54:30<9:00:39, 831.77s/it]"
     ]
    },
    {
     "name": "stdout",
     "output_type": "stream",
     "text": [
      "Too many faces ( 2 ) found for  /home/HDD6TB/datasets/emotions/EmotiW/engagement/frames/validation/subject_11_Vid_6/10391.png\n",
      "best_iou ( 0.9249182511002026 ) best_bb  [449.78973572 162.672832   687.67982236 477.50445809   0.99998832]\n",
      "Too many faces ( 2 ) found for  /home/HDD6TB/datasets/emotions/EmotiW/engagement/frames/validation/subject_11_Vid_6/10418.png\n",
      "best_iou ( 0.9621441131758565 ) best_bb  [401.78060167 157.25702196 625.12577363 450.94351629   0.99885857]\n",
      "Too many faces ( 2 ) found for  /home/HDD6TB/datasets/emotions/EmotiW/engagement/frames/validation/subject_11_Vid_6/10419.png\n",
      "best_iou ( 0.9587100153266698 ) best_bb  [402.76675332 154.25241512 627.60119878 454.03319224   0.99874216]\n",
      "Too many faces ( 2 ) found for  /home/HDD6TB/datasets/emotions/EmotiW/engagement/frames/validation/subject_11_Vid_6/10440.png\n",
      "best_iou ( 0.21404679093588377 ) best_bb  [409.13005602 152.87111628 636.72238916 452.00618558   0.9991861 ]\n"
     ]
    },
    {
     "name": "stderr",
     "output_type": "stream",
     "text": [
      "\r",
      " 21%|██        | 10/48 [2:22:52<11:37:02, 1100.60s/it]"
     ]
    },
    {
     "name": "stdout",
     "output_type": "stream",
     "text": [
      "Too many faces ( 2 ) found for  /home/HDD6TB/datasets/emotions/EmotiW/engagement/frames/validation/subject_1_Vid_4/4493.png\n",
      "best_iou ( 0.8916502451561565 ) best_bb  [242.33536394 180.46568053 409.77293377 386.42049263   0.99998331]\n"
     ]
    },
    {
     "name": "stderr",
     "output_type": "stream",
     "text": [
      " 25%|██▌       | 12/48 [2:38:59<7:48:38, 781.06s/it]  "
     ]
    },
    {
     "name": "stdout",
     "output_type": "stream",
     "text": [
      "Too many faces ( 2 ) found for  /home/HDD6TB/datasets/emotions/EmotiW/engagement/frames/validation/subject_20_Vid_5_1/1443.png\n",
      "best_iou ( 0.974463721602709 ) best_bb  [319.78170794 191.22717166 452.52242629 348.1462993    0.99999964]\n",
      "Too many faces ( 2 ) found for  /home/HDD6TB/datasets/emotions/EmotiW/engagement/frames/validation/subject_20_Vid_5_1/1444.png\n",
      "best_iou ( 0.9292930806316935 ) best_bb  [314.89314783 188.34928352 449.93272483 349.75343826   0.99999964]\n",
      "Too many faces ( 2 ) found for  /home/HDD6TB/datasets/emotions/EmotiW/engagement/frames/validation/subject_20_Vid_5_1/1469.png\n",
      "best_iou ( 0.9238376531954883 ) best_bb  [311.09270388 193.26144767 455.95128402 364.99257526   0.99999404]\n",
      "Too many faces ( 2 ) found for  /home/HDD6TB/datasets/emotions/EmotiW/engagement/frames/validation/subject_20_Vid_5_1/198.png\n",
      "best_iou ( 0.8983544260000854 ) best_bb  [324.58427987 193.42959128 450.36991522 347.09573748   1.        ]\n",
      "Too many faces ( 2 ) found for  /home/HDD6TB/datasets/emotions/EmotiW/engagement/frames/validation/subject_20_Vid_5_1/2092.png\n",
      "best_iou ( 0.9638664632800124 ) best_bb  [320.28349066 227.03281057 445.50772247 379.05349685   0.9999963 ]\n",
      "Too many faces ( 2 ) found for  /home/HDD6TB/datasets/emotions/EmotiW/engagement/frames/validation/subject_20_Vid_5_1/2391.png\n",
      "best_iou ( 0.9112183918213475 ) best_bb  [338.19526455 264.29399348 470.53413093 408.11235514   0.99992371]\n",
      "Too many faces ( 2 ) found for  /home/HDD6TB/datasets/emotions/EmotiW/engagement/frames/validation/subject_20_Vid_5_1/295.png\n",
      "best_iou ( 0.6124260122570525 ) best_bb  [288.9460783  209.22825432 422.31854057 360.67793083   0.99988282]\n",
      "Too many faces ( 2 ) found for  /home/HDD6TB/datasets/emotions/EmotiW/engagement/frames/validation/subject_20_Vid_5_1/2954.png\n",
      "best_iou ( 0.9721027137195176 ) best_bb  [284.2369559  235.82795933 412.58353567 386.81783853   0.99999988]\n",
      "Too many faces ( 2 ) found for  /home/HDD6TB/datasets/emotions/EmotiW/engagement/frames/validation/subject_20_Vid_5_1/302.png\n",
      "best_iou ( 0.5760739417098479 ) best_bb  [294.58940439 208.78498044 425.90370779 359.98497693   0.99998796]\n",
      "Too many faces ( 2 ) found for  /home/HDD6TB/datasets/emotions/EmotiW/engagement/frames/validation/subject_20_Vid_5_1/304.png\n",
      "best_iou ( 0.5176428823156525 ) best_bb  [296.21701916 209.64130601 425.21703854 359.2995379    0.99997342]\n",
      "Too many faces ( 2 ) found for  /home/HDD6TB/datasets/emotions/EmotiW/engagement/frames/validation/subject_20_Vid_5_1/306.png\n",
      "best_iou ( 0.5133819643771331 ) best_bb  [291.63428047 203.5077489  432.00054525 360.40561382   0.99998713]\n",
      "Too many faces ( 2 ) found for  /home/HDD6TB/datasets/emotions/EmotiW/engagement/frames/validation/subject_20_Vid_5_1/356.png\n",
      "best_iou ( 0.7788636803432085 ) best_bb  [323.57306819 233.792392   453.19949412 387.94110616   0.99999964]\n",
      "Too many faces ( 2 ) found for  /home/HDD6TB/datasets/emotions/EmotiW/engagement/frames/validation/subject_20_Vid_5_1/364.png\n",
      "best_iou ( 0.41616561424996507 ) best_bb  [335.37458052 192.9747448  467.69692171 359.86265763   1.        ]\n",
      "Too many faces ( 2 ) found for  /home/HDD6TB/datasets/emotions/EmotiW/engagement/frames/validation/subject_20_Vid_5_1/365.png\n",
      "best_iou ( 0.3836777450362087 ) best_bb  [337.96257314 192.24325298 468.72681729 358.33112961   1.        ]\n",
      "Too many faces ( 2 ) found for  /home/HDD6TB/datasets/emotions/EmotiW/engagement/frames/validation/subject_20_Vid_5_1/4555.png\n",
      "best_iou ( 0.8981574982044075 ) best_bb  [301.15287071 230.95406714 426.32524878 386.28636825   0.99999928]\n",
      "Too many faces ( 2 ) found for  /home/HDD6TB/datasets/emotions/EmotiW/engagement/frames/validation/subject_20_Vid_5_1/543.png\n",
      "best_iou ( 0.9588403511407381 ) best_bb  [332.96124804 185.00152141 470.66849479 356.08828661   0.99999928]\n",
      "Too many faces ( 2 ) found for  /home/HDD6TB/datasets/emotions/EmotiW/engagement/frames/validation/subject_20_Vid_5_1/559.png\n",
      "best_iou ( 0.9263950922010907 ) best_bb  [298.42996986 181.99453704 441.88425708 346.68349282   0.99999952]\n",
      "Too many faces ( 2 ) found for  /home/HDD6TB/datasets/emotions/EmotiW/engagement/frames/validation/subject_20_Vid_5_1/564.png\n",
      "best_iou ( 0.9040072048738094 ) best_bb  [296.36969692 180.58532929 436.96054755 339.66820654   0.99999833]\n",
      "Too many faces ( 2 ) found for  /home/HDD6TB/datasets/emotions/EmotiW/engagement/frames/validation/subject_20_Vid_5_1/893.png\n",
      "best_iou ( 0.9706692904896911 ) best_bb  [290.93569189 191.35032523 435.98409808 355.48209345   0.99999034]\n",
      "Too many faces ( 2 ) found for  /home/HDD6TB/datasets/emotions/EmotiW/engagement/frames/validation/subject_20_Vid_5_1/923.png\n",
      "best_iou ( 0.9760692860137904 ) best_bb  [302.68194328 193.19525705 438.80390947 354.84877244   0.99999988]\n"
     ]
    },
    {
     "name": "stderr",
     "output_type": "stream",
     "text": [
      "\r",
      " 27%|██▋       | 13/48 [2:46:22<6:36:02, 678.93s/it]"
     ]
    },
    {
     "name": "stdout",
     "output_type": "stream",
     "text": [
      "Too many faces ( 2 ) found for  /home/HDD6TB/datasets/emotions/EmotiW/engagement/frames/validation/subject_18_Vid_6/10667.png\n",
      "best_iou ( 0.9448786010075205 ) best_bb  [518.89193526 335.08599949 707.24555483 558.73805253   0.99994171]\n",
      "Too many faces ( 2 ) found for  /home/HDD6TB/datasets/emotions/EmotiW/engagement/frames/validation/subject_18_Vid_6/10675.png\n",
      "best_iou ( 0.8931386452370419 ) best_bb  [531.59407306 336.72417632 709.21869969 548.4732752    0.99997771]\n",
      "No faces found for  /home/HDD6TB/datasets/emotions/EmotiW/engagement/frames/validation/subject_18_Vid_6/1118.png\n",
      "No faces found for  /home/HDD6TB/datasets/emotions/EmotiW/engagement/frames/validation/subject_18_Vid_6/1127.png\n",
      "No faces found for  /home/HDD6TB/datasets/emotions/EmotiW/engagement/frames/validation/subject_18_Vid_6/1128.png\n",
      "No faces found for  /home/HDD6TB/datasets/emotions/EmotiW/engagement/frames/validation/subject_18_Vid_6/1129.png\n",
      "No faces found for  /home/HDD6TB/datasets/emotions/EmotiW/engagement/frames/validation/subject_18_Vid_6/1155.png\n",
      "No faces found for  /home/HDD6TB/datasets/emotions/EmotiW/engagement/frames/validation/subject_18_Vid_6/146.png\n",
      "No faces found for  /home/HDD6TB/datasets/emotions/EmotiW/engagement/frames/validation/subject_18_Vid_6/147.png\n",
      "No faces found for  /home/HDD6TB/datasets/emotions/EmotiW/engagement/frames/validation/subject_18_Vid_6/148.png\n",
      "No faces found for  /home/HDD6TB/datasets/emotions/EmotiW/engagement/frames/validation/subject_18_Vid_6/149.png\n",
      "No faces found for  /home/HDD6TB/datasets/emotions/EmotiW/engagement/frames/validation/subject_18_Vid_6/150.png\n",
      "No faces found for  /home/HDD6TB/datasets/emotions/EmotiW/engagement/frames/validation/subject_18_Vid_6/151.png\n",
      "No faces found for  /home/HDD6TB/datasets/emotions/EmotiW/engagement/frames/validation/subject_18_Vid_6/152.png\n",
      "No faces found for  /home/HDD6TB/datasets/emotions/EmotiW/engagement/frames/validation/subject_18_Vid_6/153.png\n",
      "No faces found for  /home/HDD6TB/datasets/emotions/EmotiW/engagement/frames/validation/subject_18_Vid_6/154.png\n",
      "No faces found for  /home/HDD6TB/datasets/emotions/EmotiW/engagement/frames/validation/subject_18_Vid_6/155.png\n",
      "No faces found for  /home/HDD6TB/datasets/emotions/EmotiW/engagement/frames/validation/subject_18_Vid_6/156.png\n",
      "No faces found for  /home/HDD6TB/datasets/emotions/EmotiW/engagement/frames/validation/subject_18_Vid_6/157.png\n",
      "No faces found for  /home/HDD6TB/datasets/emotions/EmotiW/engagement/frames/validation/subject_18_Vid_6/158.png\n",
      "No faces found for  /home/HDD6TB/datasets/emotions/EmotiW/engagement/frames/validation/subject_18_Vid_6/159.png\n",
      "No faces found for  /home/HDD6TB/datasets/emotions/EmotiW/engagement/frames/validation/subject_18_Vid_6/160.png\n",
      "No faces found for  /home/HDD6TB/datasets/emotions/EmotiW/engagement/frames/validation/subject_18_Vid_6/161.png\n",
      "No faces found for  /home/HDD6TB/datasets/emotions/EmotiW/engagement/frames/validation/subject_18_Vid_6/162.png\n",
      "No faces found for  /home/HDD6TB/datasets/emotions/EmotiW/engagement/frames/validation/subject_18_Vid_6/163.png\n",
      "No faces found for  /home/HDD6TB/datasets/emotions/EmotiW/engagement/frames/validation/subject_18_Vid_6/164.png\n",
      "No faces found for  /home/HDD6TB/datasets/emotions/EmotiW/engagement/frames/validation/subject_18_Vid_6/165.png\n",
      "No faces found for  /home/HDD6TB/datasets/emotions/EmotiW/engagement/frames/validation/subject_18_Vid_6/166.png\n",
      "No faces found for  /home/HDD6TB/datasets/emotions/EmotiW/engagement/frames/validation/subject_18_Vid_6/167.png\n",
      "No faces found for  /home/HDD6TB/datasets/emotions/EmotiW/engagement/frames/validation/subject_18_Vid_6/168.png\n",
      "No faces found for  /home/HDD6TB/datasets/emotions/EmotiW/engagement/frames/validation/subject_18_Vid_6/169.png\n",
      "No faces found for  /home/HDD6TB/datasets/emotions/EmotiW/engagement/frames/validation/subject_18_Vid_6/170.png\n",
      "No faces found for  /home/HDD6TB/datasets/emotions/EmotiW/engagement/frames/validation/subject_18_Vid_6/171.png\n",
      "No faces found for  /home/HDD6TB/datasets/emotions/EmotiW/engagement/frames/validation/subject_18_Vid_6/172.png\n",
      "No faces found for  /home/HDD6TB/datasets/emotions/EmotiW/engagement/frames/validation/subject_18_Vid_6/173.png\n",
      "No faces found for  /home/HDD6TB/datasets/emotions/EmotiW/engagement/frames/validation/subject_18_Vid_6/174.png\n",
      "No faces found for  /home/HDD6TB/datasets/emotions/EmotiW/engagement/frames/validation/subject_18_Vid_6/175.png\n",
      "No faces found for  /home/HDD6TB/datasets/emotions/EmotiW/engagement/frames/validation/subject_18_Vid_6/176.png\n",
      "No faces found for  /home/HDD6TB/datasets/emotions/EmotiW/engagement/frames/validation/subject_18_Vid_6/177.png\n",
      "No faces found for  /home/HDD6TB/datasets/emotions/EmotiW/engagement/frames/validation/subject_18_Vid_6/178.png\n",
      "No faces found for  /home/HDD6TB/datasets/emotions/EmotiW/engagement/frames/validation/subject_18_Vid_6/179.png\n",
      "No faces found for  /home/HDD6TB/datasets/emotions/EmotiW/engagement/frames/validation/subject_18_Vid_6/180.png\n",
      "No faces found for  /home/HDD6TB/datasets/emotions/EmotiW/engagement/frames/validation/subject_18_Vid_6/181.png\n",
      "No faces found for  /home/HDD6TB/datasets/emotions/EmotiW/engagement/frames/validation/subject_18_Vid_6/182.png\n",
      "No faces found for  /home/HDD6TB/datasets/emotions/EmotiW/engagement/frames/validation/subject_18_Vid_6/183.png\n",
      "No faces found for  /home/HDD6TB/datasets/emotions/EmotiW/engagement/frames/validation/subject_18_Vid_6/184.png\n",
      "No faces found for  /home/HDD6TB/datasets/emotions/EmotiW/engagement/frames/validation/subject_18_Vid_6/185.png\n",
      "No faces found for  /home/HDD6TB/datasets/emotions/EmotiW/engagement/frames/validation/subject_18_Vid_6/186.png\n",
      "No faces found for  /home/HDD6TB/datasets/emotions/EmotiW/engagement/frames/validation/subject_18_Vid_6/187.png\n",
      "No faces found for  /home/HDD6TB/datasets/emotions/EmotiW/engagement/frames/validation/subject_18_Vid_6/188.png\n",
      "No faces found for  /home/HDD6TB/datasets/emotions/EmotiW/engagement/frames/validation/subject_18_Vid_6/189.png\n",
      "No faces found for  /home/HDD6TB/datasets/emotions/EmotiW/engagement/frames/validation/subject_18_Vid_6/190.png\n",
      "No faces found for  /home/HDD6TB/datasets/emotions/EmotiW/engagement/frames/validation/subject_18_Vid_6/191.png\n",
      "No faces found for  /home/HDD6TB/datasets/emotions/EmotiW/engagement/frames/validation/subject_18_Vid_6/192.png\n",
      "No faces found for  /home/HDD6TB/datasets/emotions/EmotiW/engagement/frames/validation/subject_18_Vid_6/193.png\n",
      "No faces found for  /home/HDD6TB/datasets/emotions/EmotiW/engagement/frames/validation/subject_18_Vid_6/194.png\n",
      "No faces found for  /home/HDD6TB/datasets/emotions/EmotiW/engagement/frames/validation/subject_18_Vid_6/195.png\n",
      "No faces found for  /home/HDD6TB/datasets/emotions/EmotiW/engagement/frames/validation/subject_18_Vid_6/196.png\n",
      "No faces found for  /home/HDD6TB/datasets/emotions/EmotiW/engagement/frames/validation/subject_18_Vid_6/197.png\n",
      "No faces found for  /home/HDD6TB/datasets/emotions/EmotiW/engagement/frames/validation/subject_18_Vid_6/198.png\n",
      "No faces found for  /home/HDD6TB/datasets/emotions/EmotiW/engagement/frames/validation/subject_18_Vid_6/199.png\n",
      "No faces found for  /home/HDD6TB/datasets/emotions/EmotiW/engagement/frames/validation/subject_18_Vid_6/200.png\n",
      "No faces found for  /home/HDD6TB/datasets/emotions/EmotiW/engagement/frames/validation/subject_18_Vid_6/201.png\n",
      "No faces found for  /home/HDD6TB/datasets/emotions/EmotiW/engagement/frames/validation/subject_18_Vid_6/202.png\n",
      "No faces found for  /home/HDD6TB/datasets/emotions/EmotiW/engagement/frames/validation/subject_18_Vid_6/203.png\n",
      "No faces found for  /home/HDD6TB/datasets/emotions/EmotiW/engagement/frames/validation/subject_18_Vid_6/204.png\n",
      "No faces found for  /home/HDD6TB/datasets/emotions/EmotiW/engagement/frames/validation/subject_18_Vid_6/205.png\n",
      "No faces found for  /home/HDD6TB/datasets/emotions/EmotiW/engagement/frames/validation/subject_18_Vid_6/206.png\n",
      "No faces found for  /home/HDD6TB/datasets/emotions/EmotiW/engagement/frames/validation/subject_18_Vid_6/207.png\n",
      "No faces found for  /home/HDD6TB/datasets/emotions/EmotiW/engagement/frames/validation/subject_18_Vid_6/208.png\n",
      "No faces found for  /home/HDD6TB/datasets/emotions/EmotiW/engagement/frames/validation/subject_18_Vid_6/209.png\n"
     ]
    },
    {
     "name": "stdout",
     "output_type": "stream",
     "text": [
      "No faces found for  /home/HDD6TB/datasets/emotions/EmotiW/engagement/frames/validation/subject_18_Vid_6/210.png\n",
      "No faces found for  /home/HDD6TB/datasets/emotions/EmotiW/engagement/frames/validation/subject_18_Vid_6/211.png\n",
      "No faces found for  /home/HDD6TB/datasets/emotions/EmotiW/engagement/frames/validation/subject_18_Vid_6/212.png\n",
      "No faces found for  /home/HDD6TB/datasets/emotions/EmotiW/engagement/frames/validation/subject_18_Vid_6/213.png\n",
      "No faces found for  /home/HDD6TB/datasets/emotions/EmotiW/engagement/frames/validation/subject_18_Vid_6/214.png\n",
      "No faces found for  /home/HDD6TB/datasets/emotions/EmotiW/engagement/frames/validation/subject_18_Vid_6/215.png\n",
      "No faces found for  /home/HDD6TB/datasets/emotions/EmotiW/engagement/frames/validation/subject_18_Vid_6/216.png\n",
      "No faces found for  /home/HDD6TB/datasets/emotions/EmotiW/engagement/frames/validation/subject_18_Vid_6/217.png\n",
      "No faces found for  /home/HDD6TB/datasets/emotions/EmotiW/engagement/frames/validation/subject_18_Vid_6/218.png\n",
      "Too many faces ( 2 ) found for  /home/HDD6TB/datasets/emotions/EmotiW/engagement/frames/validation/subject_18_Vid_6/264.png\n",
      "best_iou ( 0.48804373722494526 ) best_bb  [492.82256293 262.15676379 693.40411341 512.0317182    0.99998915]\n",
      "Too many faces ( 2 ) found for  /home/HDD6TB/datasets/emotions/EmotiW/engagement/frames/validation/subject_18_Vid_6/270.png\n",
      "best_iou ( 0.39106680709698 ) best_bb  [471.67827244 287.45718655 654.7165121  513.52763968   0.99999428]\n",
      "Too many faces ( 2 ) found for  /home/HDD6TB/datasets/emotions/EmotiW/engagement/frames/validation/subject_18_Vid_6/271.png\n",
      "best_iou ( 0.34179368634733504 ) best_bb  [460.00834815 284.51477143 649.44026668 517.67016642   0.99997294]\n",
      "Too many faces ( 2 ) found for  /home/HDD6TB/datasets/emotions/EmotiW/engagement/frames/validation/subject_18_Vid_6/274.png\n",
      "best_iou ( 0.19199750400186397 ) best_bb  [450.54415874 306.30488801 639.57869473 537.2707277    0.99991   ]\n",
      "Too many faces ( 2 ) found for  /home/HDD6TB/datasets/emotions/EmotiW/engagement/frames/validation/subject_18_Vid_6/275.png\n",
      "best_iou ( 0.3619802264118304 ) best_bb  [444.07988109 303.66897672 642.71993946 545.94881255   0.9999522 ]\n",
      "Too many faces ( 2 ) found for  /home/HDD6TB/datasets/emotions/EmotiW/engagement/frames/validation/subject_18_Vid_6/277.png\n",
      "best_iou ( 0.33657773959994713 ) best_bb  [448.03349538 314.13842488 641.2851608  551.03129223   0.99966502]\n",
      "Too many faces ( 2 ) found for  /home/HDD6TB/datasets/emotions/EmotiW/engagement/frames/validation/subject_18_Vid_6/279.png\n",
      "best_iou ( 0.34397088807280557 ) best_bb  [454.94146666 317.86527115 647.49174719 560.18866006   0.99990118]\n",
      "Too many faces ( 2 ) found for  /home/HDD6TB/datasets/emotions/EmotiW/engagement/frames/validation/subject_18_Vid_6/280.png\n",
      "best_iou ( 0.3330522176360044 ) best_bb  [454.14269739 313.21534732 644.41432579 548.67837116   0.99991894]\n",
      "Too many faces ( 2 ) found for  /home/HDD6TB/datasets/emotions/EmotiW/engagement/frames/validation/subject_18_Vid_6/281.png\n",
      "best_iou ( 0.2935608348018521 ) best_bb  [451.24489391 313.35463364 650.98356992 554.05046231   0.99984837]\n",
      "Too many faces ( 2 ) found for  /home/HDD6TB/datasets/emotions/EmotiW/engagement/frames/validation/subject_18_Vid_6/282.png\n",
      "best_iou ( 0.347847284052232 ) best_bb  [459.6488487  314.49152745 650.46510382 552.86193035   0.99994016]\n",
      "Too many faces ( 2 ) found for  /home/HDD6TB/datasets/emotions/EmotiW/engagement/frames/validation/subject_18_Vid_6/285.png\n",
      "best_iou ( 0.4318486729802018 ) best_bb  [462.81349915 303.14192766 664.98837483 553.12753801   0.99988699]\n",
      "Too many faces ( 2 ) found for  /home/HDD6TB/datasets/emotions/EmotiW/engagement/frames/validation/subject_18_Vid_6/329.png\n",
      "best_iou ( 0.2572174605111319 ) best_bb  [457.07314371 235.26225765 657.3394765  467.4409707    0.99997222]\n",
      "Too many faces ( 2 ) found for  /home/HDD6TB/datasets/emotions/EmotiW/engagement/frames/validation/subject_18_Vid_6/407.png\n",
      "best_iou ( 0.13129589163404154 ) best_bb  [482.14782768 191.32192984 664.32739647 409.15298283   0.99999619]\n",
      "No faces found for  /home/HDD6TB/datasets/emotions/EmotiW/engagement/frames/validation/subject_18_Vid_6/429.png\n",
      "No faces found for  /home/HDD6TB/datasets/emotions/EmotiW/engagement/frames/validation/subject_18_Vid_6/430.png\n",
      "No faces found for  /home/HDD6TB/datasets/emotions/EmotiW/engagement/frames/validation/subject_18_Vid_6/431.png\n",
      "No faces found for  /home/HDD6TB/datasets/emotions/EmotiW/engagement/frames/validation/subject_18_Vid_6/432.png\n",
      "No faces found for  /home/HDD6TB/datasets/emotions/EmotiW/engagement/frames/validation/subject_18_Vid_6/433.png\n",
      "No faces found for  /home/HDD6TB/datasets/emotions/EmotiW/engagement/frames/validation/subject_18_Vid_6/434.png\n",
      "No faces found for  /home/HDD6TB/datasets/emotions/EmotiW/engagement/frames/validation/subject_18_Vid_6/435.png\n",
      "No faces found for  /home/HDD6TB/datasets/emotions/EmotiW/engagement/frames/validation/subject_18_Vid_6/436.png\n",
      "No faces found for  /home/HDD6TB/datasets/emotions/EmotiW/engagement/frames/validation/subject_18_Vid_6/437.png\n",
      "Too many faces ( 2 ) found for  /home/HDD6TB/datasets/emotions/EmotiW/engagement/frames/validation/subject_18_Vid_6/445.png\n",
      "best_iou ( 0.29452429126134333 ) best_bb  [482.05669395 206.80829339 701.25223093 477.148865     0.99999785]\n",
      "Too many faces ( 2 ) found for  /home/HDD6TB/datasets/emotions/EmotiW/engagement/frames/validation/subject_18_Vid_6/574.png\n",
      "best_iou ( 0.494626575916421 ) best_bb  [524.38186449 220.00935115 775.13742137 536.51089606   0.99998963]\n"
     ]
    },
    {
     "name": "stderr",
     "output_type": "stream",
     "text": [
      "\r",
      " 29%|██▉       | 14/48 [3:14:26<9:16:38, 982.32s/it]"
     ]
    },
    {
     "name": "stdout",
     "output_type": "stream",
     "text": [
      "Too many faces ( 2 ) found for  /home/HDD6TB/datasets/emotions/EmotiW/engagement/frames/validation/subject_22_Vid_5/001.png\n",
      "Too many faces ( 2 ) found for  /home/HDD6TB/datasets/emotions/EmotiW/engagement/frames/validation/subject_22_Vid_5/002.png\n",
      "best_iou ( 0.9755642849333136 ) best_bb  [351.82750881  83.92012402 476.42598044 245.11423119   0.99999869]\n",
      "Too many faces ( 2 ) found for  /home/HDD6TB/datasets/emotions/EmotiW/engagement/frames/validation/subject_22_Vid_5/003.png\n",
      "best_iou ( 0.9769086323482605 ) best_bb  [350.92161971  85.48593499 476.45632356 245.59962085   0.99999845]\n",
      "Too many faces ( 2 ) found for  /home/HDD6TB/datasets/emotions/EmotiW/engagement/frames/validation/subject_22_Vid_5/004.png\n",
      "best_iou ( 0.9782586279960757 ) best_bb  [351.26829466  85.63422534 476.97379977 245.03622438   0.99999809]\n",
      "Too many faces ( 2 ) found for  /home/HDD6TB/datasets/emotions/EmotiW/engagement/frames/validation/subject_22_Vid_5/005.png\n",
      "best_iou ( 0.9640570155542216 ) best_bb  [351.8467069   82.20454738 474.99414155 244.26454102   0.99999869]\n",
      "Too many faces ( 2 ) found for  /home/HDD6TB/datasets/emotions/EmotiW/engagement/frames/validation/subject_22_Vid_5/006.png\n",
      "best_iou ( 0.9573854520965415 ) best_bb  [351.10237826  84.92351022 476.93044347 244.22380169   0.99999809]\n",
      "Too many faces ( 2 ) found for  /home/HDD6TB/datasets/emotions/EmotiW/engagement/frames/validation/subject_22_Vid_5/007.png\n",
      "best_iou ( 0.9830454393383052 ) best_bb  [351.33960749  83.08197469 476.82439545 244.33919391   0.99999726]\n",
      "Too many faces ( 2 ) found for  /home/HDD6TB/datasets/emotions/EmotiW/engagement/frames/validation/subject_22_Vid_5/008.png\n",
      "best_iou ( 0.9691152744124942 ) best_bb  [352.51007613  85.58788863 476.18358848 243.75127931   0.99999595]\n",
      "Too many faces ( 2 ) found for  /home/HDD6TB/datasets/emotions/EmotiW/engagement/frames/validation/subject_22_Vid_5/009.png\n",
      "best_iou ( 0.9470460822196411 ) best_bb  [349.56001598  83.04493833 477.27483797 245.0267895    0.99999845]\n",
      "Too many faces ( 2 ) found for  /home/HDD6TB/datasets/emotions/EmotiW/engagement/frames/validation/subject_22_Vid_5/010.png\n",
      "best_iou ( 0.9841505802477588 ) best_bb  [349.94002086  82.50047247 476.55626111 244.66640425   0.99999869]\n",
      "Too many faces ( 2 ) found for  /home/HDD6TB/datasets/emotions/EmotiW/engagement/frames/validation/subject_22_Vid_5/011.png\n",
      "best_iou ( 0.9552663212144386 ) best_bb  [348.18285705  83.62133916 473.07944912 245.01296834   0.99999869]\n",
      "Too many faces ( 2 ) found for  /home/HDD6TB/datasets/emotions/EmotiW/engagement/frames/validation/subject_22_Vid_5/012.png\n",
      "best_iou ( 0.9842830569710884 ) best_bb  [348.53585732  82.93285136 472.5034858  243.84784047   0.99999857]\n",
      "Too many faces ( 2 ) found for  /home/HDD6TB/datasets/emotions/EmotiW/engagement/frames/validation/subject_22_Vid_5/013.png\n",
      "best_iou ( 0.9227076930672646 ) best_bb  [351.37173866  80.48055005 476.76955625 244.00132656   0.99999702]\n",
      "Too many faces ( 2 ) found for  /home/HDD6TB/datasets/emotions/EmotiW/engagement/frames/validation/subject_22_Vid_5/014.png\n",
      "best_iou ( 0.9655129214557877 ) best_bb  [350.38693969  78.01403095 477.78381696 244.67618397   0.99999845]\n",
      "Too many faces ( 2 ) found for  /home/HDD6TB/datasets/emotions/EmotiW/engagement/frames/validation/subject_22_Vid_5/015.png\n",
      "best_iou ( 0.931772456134555 ) best_bb  [347.32510078  80.2732569  472.56242734 243.87467294   0.99999833]\n",
      "Too many faces ( 2 ) found for  /home/HDD6TB/datasets/emotions/EmotiW/engagement/frames/validation/subject_22_Vid_5/016.png\n",
      "best_iou ( 0.8705475560235745 ) best_bb  [357.48411882  81.23574317 477.19483376 242.49437571   0.99999857]\n",
      "Too many faces ( 2 ) found for  /home/HDD6TB/datasets/emotions/EmotiW/engagement/frames/validation/subject_22_Vid_5/017.png\n",
      "best_iou ( 0.9859515670117895 ) best_bb  [356.91849062  80.28027284 477.97698596 242.1465092    0.99999928]\n",
      "Too many faces ( 2 ) found for  /home/HDD6TB/datasets/emotions/EmotiW/engagement/frames/validation/subject_22_Vid_5/018.png\n",
      "best_iou ( 0.9354295370715003 ) best_bb  [349.61426054  79.54195032 477.07041125 243.95205564   0.9999994 ]\n",
      "Too many faces ( 2 ) found for  /home/HDD6TB/datasets/emotions/EmotiW/engagement/frames/validation/subject_22_Vid_5/019.png\n",
      "best_iou ( 0.9621613264584621 ) best_bb  [350.69065773  80.29175471 475.09502919 243.3669799    0.99999964]\n",
      "Too many faces ( 2 ) found for  /home/HDD6TB/datasets/emotions/EmotiW/engagement/frames/validation/subject_22_Vid_5/020.png\n",
      "best_iou ( 0.9473121791689374 ) best_bb  [352.93989098  79.25515985 477.28971815 241.72374386   0.99999666]\n",
      "Too many faces ( 2 ) found for  /home/HDD6TB/datasets/emotions/EmotiW/engagement/frames/validation/subject_22_Vid_5/021.png\n",
      "best_iou ( 0.933388133023282 ) best_bb  [350.47334027  80.10152718 476.10838261 248.15009317   0.99999368]\n",
      "Too many faces ( 2 ) found for  /home/HDD6TB/datasets/emotions/EmotiW/engagement/frames/validation/subject_22_Vid_5/022.png\n",
      "best_iou ( 0.8888692488932027 ) best_bb  [356.19533113  82.87161455 476.50665052 240.5163803    0.99998224]\n",
      "Too many faces ( 2 ) found for  /home/HDD6TB/datasets/emotions/EmotiW/engagement/frames/validation/subject_22_Vid_5/023.png\n",
      "best_iou ( 0.8980738100178769 ) best_bb  [352.77543357  79.46352375 478.57984319 247.27839245   0.99999666]\n",
      "Too many faces ( 2 ) found for  /home/HDD6TB/datasets/emotions/EmotiW/engagement/frames/validation/subject_22_Vid_5/024.png\n",
      "best_iou ( 0.9132193470404306 ) best_bb  [357.49700576  80.98466265 480.42212516 244.40383144   0.99998784]\n",
      "Too many faces ( 2 ) found for  /home/HDD6TB/datasets/emotions/EmotiW/engagement/frames/validation/subject_22_Vid_5/025.png\n",
      "best_iou ( 0.8852492779041508 ) best_bb  [363.83188916  83.36054802 485.10752779 244.72292233   0.99998915]\n",
      "Too many faces ( 2 ) found for  /home/HDD6TB/datasets/emotions/EmotiW/engagement/frames/validation/subject_22_Vid_5/026.png\n",
      "best_iou ( 0.9869331089842085 ) best_bb  [363.77034646  82.73473527 485.04804014 244.77907977   0.99999869]\n",
      "Too many faces ( 2 ) found for  /home/HDD6TB/datasets/emotions/EmotiW/engagement/frames/validation/subject_22_Vid_5/027.png\n",
      "best_iou ( 0.9383221065419672 ) best_bb  [361.24774315  84.75308475 482.92273042 246.54440857   0.9999975 ]\n",
      "Too many faces ( 2 ) found for  /home/HDD6TB/datasets/emotions/EmotiW/engagement/frames/validation/subject_22_Vid_5/028.png\n",
      "best_iou ( 0.9591397347547871 ) best_bb  [359.97699159  85.83397073 484.05167906 246.89655122   0.99999857]\n",
      "Too many faces ( 2 ) found for  /home/HDD6TB/datasets/emotions/EmotiW/engagement/frames/validation/subject_22_Vid_5/029.png\n",
      "best_iou ( 0.9613981929234313 ) best_bb  [358.79380772  82.19159116 484.80634849 248.31040419   0.99999928]\n",
      "Too many faces ( 2 ) found for  /home/HDD6TB/datasets/emotions/EmotiW/engagement/frames/validation/subject_22_Vid_5/030.png\n",
      "best_iou ( 0.9434820032893637 ) best_bb  [359.95861238  86.367311   483.39057595 246.24380499   0.99999857]\n",
      "Too many faces ( 2 ) found for  /home/HDD6TB/datasets/emotions/EmotiW/engagement/frames/validation/subject_22_Vid_5/031.png\n",
      "best_iou ( 0.9749850849797107 ) best_bb  [359.26955834  83.91985247 483.68624032 246.77312655   0.99999726]\n",
      "Too many faces ( 2 ) found for  /home/HDD6TB/datasets/emotions/EmotiW/engagement/frames/validation/subject_22_Vid_5/032.png\n",
      "best_iou ( 0.9474018207761687 ) best_bb  [361.09915984  83.53557403 481.4042169  242.70498943   0.99998939]\n",
      "Too many faces ( 2 ) found for  /home/HDD6TB/datasets/emotions/EmotiW/engagement/frames/validation/subject_22_Vid_5/033.png\n",
      "best_iou ( 0.9294008249314624 ) best_bb  [357.69709315  82.13560963 482.92130632 246.07639271   0.99999774]\n"
     ]
    },
    {
     "name": "stderr",
     "output_type": "stream",
     "text": [
      "\r",
      " 31%|███▏      | 15/48 [3:23:52<7:51:20, 856.99s/it]"
     ]
    }
   ],
   "source": [
    "def save_aligned_faces(source_path,save_path):\n",
    "    if not os.path.exists(save_path):\n",
    "        os.makedirs(save_path)\n",
    "\n",
    "    for folder in tqdm(os.listdir(source_path)):\n",
    "        if not os.path.exists(os.path.join(save_path, folder)):\n",
    "            os.mkdir(os.path.join(save_path, folder))\n",
    "\n",
    "            prev_b = None\n",
    "            counter = 0\n",
    "\n",
    "            for image in sorted(os.listdir(os.path.join(source_path, folder))):\n",
    "                filename = os.path.join(source_path, folder, image)\n",
    "                frame = cv2.imread(filename)\n",
    "                frame = cv2.cvtColor(frame, cv2.COLOR_BGR2RGB)\n",
    "                bounding_boxes, points = imgProcessing.detect_faces(frame)\n",
    "                points = points.T\n",
    "\n",
    "                best_ind=None\n",
    "                if len(bounding_boxes)==0:\n",
    "                    print('No faces found for ',filename)\n",
    "                    counter+=1\n",
    "                    if prev_b is None or counter>3:\n",
    "                        continue\n",
    "                    else:\n",
    "                        b=prev_b\n",
    "                elif len(bounding_boxes)>1:\n",
    "                    print('Too many faces (',len(bounding_boxes),') found for ',filename)\n",
    "                    if prev_b is None:\n",
    "                        #continue\n",
    "                        best_ind=0\n",
    "                        b=[int(bi) for bi in bounding_boxes[best_ind]]\n",
    "                        counter=0\n",
    "                    else:\n",
    "                        best_iou=0\n",
    "                        for i in range(len(bounding_boxes)):\n",
    "                            iou=get_iou(bounding_boxes[i],prev_b)\n",
    "                            if iou>best_iou:\n",
    "                                best_iou=iou\n",
    "                                best_ind=i\n",
    "                        if best_iou>0:\n",
    "                            b=[int(bi) for bi in bounding_boxes[best_ind]]\n",
    "                            print('best_iou (',best_iou,') best_bb ',bounding_boxes[best_ind])\n",
    "                        else:\n",
    "                            #continue\n",
    "                            best_ind=0\n",
    "                            b=[int(bi) for bi in bounding_boxes[best_ind]]\n",
    "                            counter=0\n",
    "                else:\n",
    "                    best_ind=0\n",
    "                    b=[int(bi) for bi in bounding_boxes[best_ind]]\n",
    "                    counter=0\n",
    "                prev_b=b\n",
    "\n",
    "                if True:\n",
    "                    p=None\n",
    "                    if best_ind is not None:\n",
    "                        p=points[best_ind]\n",
    "                        if True: #not USE_RETINA_FACE:\n",
    "                            p = p.reshape((2,5)).T\n",
    "                    face_img=preprocess(frame,b,None) #p)\n",
    "                else:\n",
    "                    x1,y1,x2,y2=b[0:4]\n",
    "                    face_img=frame[y1:y2,x1:x2,:]\n",
    "                if np.prod(face_img.shape)==0:\n",
    "                    print('Empty face ',b,' found for ',filename)\n",
    "                    continue\n",
    "\n",
    "                cv2.imwrite(os.path.join(save_path, folder, image), cv2.cvtColor(face_img, cv2.COLOR_RGB2BGR)) \n",
    "\n",
    "#aligned\n",
    "save_aligned_faces(os.path.join(DATA_DIR,'frames/validation'),os.path.join(DATA_DIR,'frames/faces/mtcnn_aligned/validation/'))\n",
    "save_aligned_faces(os.path.join(DATA_DIR,'frames/Train'),os.path.join(DATA_DIR,'frames/faces/mtcnn_aligned/Train/'))"
   ]
  },
  {
   "cell_type": "markdown",
   "metadata": {},
   "source": [
    "## Tensorflow"
   ]
  },
  {
   "cell_type": "code",
   "execution_count": 155,
   "metadata": {},
   "outputs": [],
   "source": [
    "from tensorflow.keras.applications import mobilenet\n",
    "from tensorflow.keras.models import load_model,Model"
   ]
  },
  {
   "cell_type": "code",
   "execution_count": 156,
   "metadata": {},
   "outputs": [],
   "source": [
    "def mobilenet_preprocess_input(x,**kwargs):\n",
    "    x[..., 0] -= 103.939\n",
    "    x[..., 1] -= 116.779\n",
    "    x[..., 2] -= 123.68\n",
    "    return x\n",
    "\n",
    "preprocessing_function=mobilenet_preprocess_input"
   ]
  },
  {
   "cell_type": "code",
   "execution_count": 157,
   "metadata": {},
   "outputs": [
    {
     "name": "stdout",
     "output_type": "stream",
     "text": [
      "WARNING:tensorflow:No training configuration found in the save file, so the model was *not* compiled. Compile it manually.\n",
      "Model: \"model\"\n",
      "_________________________________________________________________\n",
      "Layer (type)                 Output Shape              Param #   \n",
      "=================================================================\n",
      "input_1 (InputLayer)         [(None, 224, 224, 3)]     0         \n",
      "_________________________________________________________________\n",
      "conv1_pad (ZeroPadding2D)    (None, 225, 225, 3)       0         \n",
      "_________________________________________________________________\n",
      "conv1 (Conv2D)               (None, 112, 112, 32)      864       \n",
      "_________________________________________________________________\n",
      "conv1_bn (BatchNormalization (None, 112, 112, 32)      128       \n",
      "_________________________________________________________________\n",
      "conv1_relu (ReLU)            (None, 112, 112, 32)      0         \n",
      "_________________________________________________________________\n",
      "conv_dw_1 (DepthwiseConv2D)  (None, 112, 112, 32)      288       \n",
      "_________________________________________________________________\n",
      "conv_dw_1_bn (BatchNormaliza (None, 112, 112, 32)      128       \n",
      "_________________________________________________________________\n",
      "conv_dw_1_relu (ReLU)        (None, 112, 112, 32)      0         \n",
      "_________________________________________________________________\n",
      "conv_pw_1 (Conv2D)           (None, 112, 112, 64)      2048      \n",
      "_________________________________________________________________\n",
      "conv_pw_1_bn (BatchNormaliza (None, 112, 112, 64)      256       \n",
      "_________________________________________________________________\n",
      "conv_pw_1_relu (ReLU)        (None, 112, 112, 64)      0         \n",
      "_________________________________________________________________\n",
      "conv_pad_2 (ZeroPadding2D)   (None, 113, 113, 64)      0         \n",
      "_________________________________________________________________\n",
      "conv_dw_2 (DepthwiseConv2D)  (None, 56, 56, 64)        576       \n",
      "_________________________________________________________________\n",
      "conv_dw_2_bn (BatchNormaliza (None, 56, 56, 64)        256       \n",
      "_________________________________________________________________\n",
      "conv_dw_2_relu (ReLU)        (None, 56, 56, 64)        0         \n",
      "_________________________________________________________________\n",
      "conv_pw_2 (Conv2D)           (None, 56, 56, 128)       8192      \n",
      "_________________________________________________________________\n",
      "conv_pw_2_bn (BatchNormaliza (None, 56, 56, 128)       512       \n",
      "_________________________________________________________________\n",
      "conv_pw_2_relu (ReLU)        (None, 56, 56, 128)       0         \n",
      "_________________________________________________________________\n",
      "conv_dw_3 (DepthwiseConv2D)  (None, 56, 56, 128)       1152      \n",
      "_________________________________________________________________\n",
      "conv_dw_3_bn (BatchNormaliza (None, 56, 56, 128)       512       \n",
      "_________________________________________________________________\n",
      "conv_dw_3_relu (ReLU)        (None, 56, 56, 128)       0         \n",
      "_________________________________________________________________\n",
      "conv_pw_3 (Conv2D)           (None, 56, 56, 128)       16384     \n",
      "_________________________________________________________________\n",
      "conv_pw_3_bn (BatchNormaliza (None, 56, 56, 128)       512       \n",
      "_________________________________________________________________\n",
      "conv_pw_3_relu (ReLU)        (None, 56, 56, 128)       0         \n",
      "_________________________________________________________________\n",
      "conv_pad_4 (ZeroPadding2D)   (None, 57, 57, 128)       0         \n",
      "_________________________________________________________________\n",
      "conv_dw_4 (DepthwiseConv2D)  (None, 28, 28, 128)       1152      \n",
      "_________________________________________________________________\n",
      "conv_dw_4_bn (BatchNormaliza (None, 28, 28, 128)       512       \n",
      "_________________________________________________________________\n",
      "conv_dw_4_relu (ReLU)        (None, 28, 28, 128)       0         \n",
      "_________________________________________________________________\n",
      "conv_pw_4 (Conv2D)           (None, 28, 28, 256)       32768     \n",
      "_________________________________________________________________\n",
      "conv_pw_4_bn (BatchNormaliza (None, 28, 28, 256)       1024      \n",
      "_________________________________________________________________\n",
      "conv_pw_4_relu (ReLU)        (None, 28, 28, 256)       0         \n",
      "_________________________________________________________________\n",
      "conv_dw_5 (DepthwiseConv2D)  (None, 28, 28, 256)       2304      \n",
      "_________________________________________________________________\n",
      "conv_dw_5_bn (BatchNormaliza (None, 28, 28, 256)       1024      \n",
      "_________________________________________________________________\n",
      "conv_dw_5_relu (ReLU)        (None, 28, 28, 256)       0         \n",
      "_________________________________________________________________\n",
      "conv_pw_5 (Conv2D)           (None, 28, 28, 256)       65536     \n",
      "_________________________________________________________________\n",
      "conv_pw_5_bn (BatchNormaliza (None, 28, 28, 256)       1024      \n",
      "_________________________________________________________________\n",
      "conv_pw_5_relu (ReLU)        (None, 28, 28, 256)       0         \n",
      "_________________________________________________________________\n",
      "conv_pad_6 (ZeroPadding2D)   (None, 29, 29, 256)       0         \n",
      "_________________________________________________________________\n",
      "conv_dw_6 (DepthwiseConv2D)  (None, 14, 14, 256)       2304      \n",
      "_________________________________________________________________\n",
      "conv_dw_6_bn (BatchNormaliza (None, 14, 14, 256)       1024      \n",
      "_________________________________________________________________\n",
      "conv_dw_6_relu (ReLU)        (None, 14, 14, 256)       0         \n",
      "_________________________________________________________________\n",
      "conv_pw_6 (Conv2D)           (None, 14, 14, 512)       131072    \n",
      "_________________________________________________________________\n",
      "conv_pw_6_bn (BatchNormaliza (None, 14, 14, 512)       2048      \n",
      "_________________________________________________________________\n",
      "conv_pw_6_relu (ReLU)        (None, 14, 14, 512)       0         \n",
      "_________________________________________________________________\n",
      "conv_dw_7 (DepthwiseConv2D)  (None, 14, 14, 512)       4608      \n",
      "_________________________________________________________________\n",
      "conv_dw_7_bn (BatchNormaliza (None, 14, 14, 512)       2048      \n",
      "_________________________________________________________________\n",
      "conv_dw_7_relu (ReLU)        (None, 14, 14, 512)       0         \n",
      "_________________________________________________________________\n",
      "conv_pw_7 (Conv2D)           (None, 14, 14, 512)       262144    \n",
      "_________________________________________________________________\n",
      "conv_pw_7_bn (BatchNormaliza (None, 14, 14, 512)       2048      \n",
      "_________________________________________________________________\n",
      "conv_pw_7_relu (ReLU)        (None, 14, 14, 512)       0         \n",
      "_________________________________________________________________\n",
      "conv_dw_8 (DepthwiseConv2D)  (None, 14, 14, 512)       4608      \n",
      "_________________________________________________________________\n",
      "conv_dw_8_bn (BatchNormaliza (None, 14, 14, 512)       2048      \n",
      "_________________________________________________________________\n",
      "conv_dw_8_relu (ReLU)        (None, 14, 14, 512)       0         \n",
      "_________________________________________________________________\n",
      "conv_pw_8 (Conv2D)           (None, 14, 14, 512)       262144    \n",
      "_________________________________________________________________\n",
      "conv_pw_8_bn (BatchNormaliza (None, 14, 14, 512)       2048      \n",
      "_________________________________________________________________\n",
      "conv_pw_8_relu (ReLU)        (None, 14, 14, 512)       0         \n",
      "_________________________________________________________________\n",
      "conv_dw_9 (DepthwiseConv2D)  (None, 14, 14, 512)       4608      \n",
      "_________________________________________________________________\n",
      "conv_dw_9_bn (BatchNormaliza (None, 14, 14, 512)       2048      \n",
      "_________________________________________________________________\n",
      "conv_dw_9_relu (ReLU)        (None, 14, 14, 512)       0         \n",
      "_________________________________________________________________\n",
      "conv_pw_9 (Conv2D)           (None, 14, 14, 512)       262144    \n",
      "_________________________________________________________________\n",
      "conv_pw_9_bn (BatchNormaliza (None, 14, 14, 512)       2048      \n",
      "_________________________________________________________________\n",
      "conv_pw_9_relu (ReLU)        (None, 14, 14, 512)       0         \n",
      "_________________________________________________________________\n",
      "conv_dw_10 (DepthwiseConv2D) (None, 14, 14, 512)       4608      \n",
      "_________________________________________________________________\n",
      "conv_dw_10_bn (BatchNormaliz (None, 14, 14, 512)       2048      \n",
      "_________________________________________________________________\n",
      "conv_dw_10_relu (ReLU)       (None, 14, 14, 512)       0         \n",
      "_________________________________________________________________\n",
      "conv_pw_10 (Conv2D)          (None, 14, 14, 512)       262144    \n",
      "_________________________________________________________________\n",
      "conv_pw_10_bn (BatchNormaliz (None, 14, 14, 512)       2048      \n",
      "_________________________________________________________________\n",
      "conv_pw_10_relu (ReLU)       (None, 14, 14, 512)       0         \n",
      "_________________________________________________________________\n",
      "conv_dw_11 (DepthwiseConv2D) (None, 14, 14, 512)       4608      \n",
      "_________________________________________________________________\n",
      "conv_dw_11_bn (BatchNormaliz (None, 14, 14, 512)       2048      \n",
      "_________________________________________________________________\n",
      "conv_dw_11_relu (ReLU)       (None, 14, 14, 512)       0         \n",
      "_________________________________________________________________\n",
      "conv_pw_11 (Conv2D)          (None, 14, 14, 512)       262144    \n",
      "_________________________________________________________________\n",
      "conv_pw_11_bn (BatchNormaliz (None, 14, 14, 512)       2048      \n",
      "_________________________________________________________________\n",
      "conv_pw_11_relu (ReLU)       (None, 14, 14, 512)       0         \n",
      "_________________________________________________________________\n",
      "conv_pad_12 (ZeroPadding2D)  (None, 15, 15, 512)       0         \n",
      "_________________________________________________________________\n",
      "conv_dw_12 (DepthwiseConv2D) (None, 7, 7, 512)         4608      \n",
      "_________________________________________________________________\n",
      "conv_dw_12_bn (BatchNormaliz (None, 7, 7, 512)         2048      \n",
      "_________________________________________________________________\n",
      "conv_dw_12_relu (ReLU)       (None, 7, 7, 512)         0         \n",
      "_________________________________________________________________\n",
      "conv_pw_12 (Conv2D)          (None, 7, 7, 1024)        524288    \n",
      "_________________________________________________________________\n",
      "conv_pw_12_bn (BatchNormaliz (None, 7, 7, 1024)        4096      \n",
      "_________________________________________________________________\n",
      "conv_pw_12_relu (ReLU)       (None, 7, 7, 1024)        0         \n",
      "_________________________________________________________________\n",
      "conv_dw_13 (DepthwiseConv2D) (None, 7, 7, 1024)        9216      \n",
      "_________________________________________________________________\n",
      "conv_dw_13_bn (BatchNormaliz (None, 7, 7, 1024)        4096      \n",
      "_________________________________________________________________\n",
      "conv_dw_13_relu (ReLU)       (None, 7, 7, 1024)        0         \n",
      "_________________________________________________________________\n",
      "conv_pw_13 (Conv2D)          (None, 7, 7, 1024)        1048576   \n",
      "_________________________________________________________________\n",
      "conv_pw_13_bn (BatchNormaliz (None, 7, 7, 1024)        4096      \n",
      "_________________________________________________________________\n",
      "conv_pw_13_relu (ReLU)       (None, 7, 7, 1024)        0         \n",
      "_________________________________________________________________\n",
      "global_pooling (GlobalAverag (None, 1024)              0         \n",
      "_________________________________________________________________\n",
      "dropout_1 (Dropout)          (None, 1024)              0         \n",
      "_________________________________________________________________\n",
      "feats (Dense)                (None, 256)               262400    \n",
      "_________________________________________________________________\n",
      "emotion_preds (Dense)        (None, 7)                 1799      \n",
      "=================================================================\n",
      "Total params: 3,493,063\n",
      "Trainable params: 3,471,175\n",
      "Non-trainable params: 21,888\n",
      "_________________________________________________________________\n",
      "224 224\n"
     ]
    }
   ],
   "source": [
    "model_name='mobilenet_7'\n",
    "base_model=load_model('../../models/affectnet_emotions/'+model_name+'.h5')\n",
    "feature_extractor_model=Model(base_model.input,[base_model.get_layer('global_pooling').output,base_model.get_layer('feats').output,base_model.output])\n",
    "feature_extractor_model.summary()\n",
    "_,w,h,_=feature_extractor_model.input.shape\n",
    "print(w,h)"
   ]
  },
  {
   "cell_type": "code",
   "execution_count": 17,
   "metadata": {},
   "outputs": [
    {
     "data": {
      "text/plain": [
       "[<KerasTensor: shape=(None, 1024) dtype=float32 (created by layer 'global_pooling')>,\n",
       " <KerasTensor: shape=(None, 256) dtype=float32 (created by layer 'feats')>,\n",
       " <KerasTensor: shape=(None, 7) dtype=float32 (created by layer 'emotion_preds')>]"
      ]
     },
     "execution_count": 17,
     "metadata": {},
     "output_type": "execute_result"
    }
   ],
   "source": [
    "feature_extractor_model.output"
   ]
  },
  {
   "cell_type": "code",
   "execution_count": null,
   "metadata": {},
   "outputs": [
    {
     "name": "stderr",
     "output_type": "stream",
     "text": [
      "100%|██████████| 48/48 [57:22<00:00, 71.73s/it]   \n",
      " 33%|███▎      | 48/147 [1:09:54<1:05:02, 39.42s/it]"
     ]
    }
   ],
   "source": [
    "def get_features_scores(data_dir):\n",
    "    filename2features={}\n",
    "    for filename in tqdm(os.listdir(data_dir)):\n",
    "        frames_dir=os.path.join(data_dir,filename)\n",
    "        X_global_features,X_feats,X_scores,X_isface=[],[],[],[]\n",
    "        imgs=[]\n",
    "        faces_only=[fn for fn in os.listdir(frames_dir) if 'noface' not in fn]\n",
    "        for img_name in sorted(faces_only, key=compare_filenames):\n",
    "            img=cv2.imread(os.path.join(frames_dir,img_name))\n",
    "            X_isface.append('noface' not in img_name)\n",
    "                \n",
    "            if img.size:\n",
    "                img=cv2.resize(img,(w,h))\n",
    "                img = cv2.cvtColor(img,cv2.COLOR_BGR2RGB)\n",
    "                imgs.append(img)\n",
    "                if len(imgs)>=512:        \n",
    "                    #inp = preprocessing_function(np.expand_dims(img, axis=0).astype(np.float32))\n",
    "                    inp = preprocessing_function(np.array(imgs, dtype=np.float32))\n",
    "                    global_features,feats,scores=feature_extractor_model.predict(inp)\n",
    "                    #print(global_features.shape,feats.shape,scores.shape)\n",
    "                    if len(X_feats)==0:\n",
    "                        X_feats=feats\n",
    "                        X_global_features=global_features\n",
    "                        X_scores=scores\n",
    "                    else:\n",
    "                        X_feats=np.concatenate((X_feats,feats),axis=0)\n",
    "                        X_global_features=np.concatenate((X_global_features,global_features),axis=0)\n",
    "                        X_scores=np.concatenate((X_scores,scores),axis=0)\n",
    "                    \n",
    "                    imgs=[]\n",
    "\n",
    "        if len(imgs)>0:        \n",
    "            inp = preprocessing_function(np.array(imgs, dtype=np.float32))\n",
    "            global_features,feats,scores=feature_extractor_model.predict(inp)\n",
    "            #print(global_features.shape,feats.shape,scores.shape)\n",
    "            if len(X_feats)==0:\n",
    "                X_feats=feats\n",
    "                X_global_features=global_features\n",
    "                X_scores=scores\n",
    "            else:\n",
    "                X_feats=np.concatenate((X_feats,feats),axis=0)\n",
    "                X_global_features=np.concatenate((X_global_features,global_features),axis=0)\n",
    "                X_scores=np.concatenate((X_scores,scores),axis=0)\n",
    "\n",
    "        X_isface=np.array(X_isface)\n",
    "        #print(X_global_features.shape,X_feats.shape,X_scores.shape)\n",
    "        filename2features[filename]=(X_global_features,X_feats,X_scores,X_isface)\n",
    "    return filename2features\n",
    "\n",
    "filename2features_val=get_features_scores(os.path.join(DATA_DIR,'frames/faces/mtcnn_cropped/validation/')) #mtcnn_aligned\n",
    "filename2features_train=get_features_scores(os.path.join(DATA_DIR,'frames/faces/mtcnn_cropped/Train/')) #_cropped"
   ]
  },
  {
   "cell_type": "markdown",
   "metadata": {},
   "source": [
    "## PyTorch"
   ]
  },
  {
   "cell_type": "code",
   "execution_count": 6,
   "metadata": {},
   "outputs": [
    {
     "name": "stdout",
     "output_type": "stream",
     "text": [
      "Torch: 1.7.1+cu110\n",
      "True\n"
     ]
    }
   ],
   "source": [
    "import glob\n",
    "from itertools import chain\n",
    "import os\n",
    "import random\n",
    "import zipfile\n",
    "\n",
    "import matplotlib.pyplot as plt\n",
    "import numpy as np\n",
    "import pandas as pd\n",
    "import torch\n",
    "import torch.nn as nn\n",
    "import torch.nn.functional as F\n",
    "import torch.optim as optim\n",
    "from PIL import Image\n",
    "from sklearn.model_selection import train_test_split\n",
    "from torch.optim.lr_scheduler import StepLR\n",
    "from torch.utils.data import DataLoader, Dataset\n",
    "from torchvision import datasets, transforms\n",
    "from tqdm.notebook import tqdm\n",
    "\n",
    "print(f\"Torch: {torch.__version__}\")\n",
    "device = 'cuda'\n",
    "use_cuda = torch.cuda.is_available()\n",
    "print(use_cuda)"
   ]
  },
  {
   "cell_type": "code",
   "execution_count": 7,
   "metadata": {},
   "outputs": [],
   "source": [
    "if False:\n",
    "    model_name='enet_b2_8'\n",
    "    IMG_SIZE=260 #224 #\n",
    "else:\n",
    "    model_name='enet_b0_8_best_afew'\n",
    "    IMG_SIZE=224\n",
    "PATH='../../models/affectnet_emotions/'+model_name+'.pt'\n",
    "test_transforms = transforms.Compose(\n",
    "    [\n",
    "        transforms.Resize((IMG_SIZE,IMG_SIZE)),\n",
    "        #transforms.RandomHorizontalFlip(),\n",
    "        transforms.ToTensor(),\n",
    "        transforms.Normalize(mean=[0.485, 0.456, 0.406],\n",
    "                                     std=[0.229, 0.224, 0.225])\n",
    "    ]\n",
    ")\n",
    "np_transforms = transforms.Compose(\n",
    "    [\n",
    "        transforms.ToPILImage(None),\n",
    "        transforms.Resize((IMG_SIZE,IMG_SIZE)),\n",
    "        #transforms.RandomHorizontalFlip(),\n",
    "        transforms.ToTensor(),\n",
    "        transforms.Normalize(mean=[0.485, 0.456, 0.406],\n",
    "                                     std=[0.229, 0.224, 0.225])\n",
    "    ]\n",
    ")\n",
    "\n",
    "feature_extractor_model = torch.load(PATH)"
   ]
  },
  {
   "cell_type": "code",
   "execution_count": 8,
   "metadata": {},
   "outputs": [
    {
     "name": "stdout",
     "output_type": "stream",
     "text": [
      "(8, 1280) [[ 0.00515123 -0.00972202 -0.01203173 ...  0.05333852 -0.06858566\n",
      "  -0.12183831]\n",
      " [ 0.05973773 -0.01306326 -0.00981904 ...  0.04521868  0.03189689\n",
      "   0.16130415]\n",
      " [-0.02749952 -0.1972647   0.02720864 ...  0.18251328 -0.03125019\n",
      "  -0.07623435]\n",
      " ...\n",
      " [-0.15567695  0.09653756 -0.02194299 ... -0.07001057  0.00730149\n",
      "   0.11114535]\n",
      " [ 0.08313771 -0.16218805 -0.10610525 ... -0.05499801 -0.00550514\n",
      "   0.12355816]\n",
      " [-0.04981646  0.23458022 -0.16780637 ... -0.24049994  0.02247157\n",
      "  -0.10648516]]\n",
      "(8,) [-0.02634053  0.05532073 -0.09343545  0.01225835  0.05623824  0.05436933\n",
      " -0.0242617   0.02030101]\n"
     ]
    }
   ],
   "source": [
    "if True:\n",
    "    classifier_weights=feature_extractor_model.classifier[0].weight.cpu().data.numpy()\n",
    "    classifier_bias=feature_extractor_model.classifier[0].bias.cpu().data.numpy()\n",
    "else:\n",
    "    classifier_weights=feature_extractor_model.classifier.weight.cpu().data.numpy()\n",
    "    classifier_bias=feature_extractor_model.classifier.bias.cpu().data.numpy()\n",
    "print(classifier_weights.shape,classifier_weights)\n",
    "print(classifier_bias.shape,classifier_bias)"
   ]
  },
  {
   "cell_type": "code",
   "execution_count": 9,
   "metadata": {},
   "outputs": [
    {
     "data": {
      "text/plain": [
       "EfficientNet(\n",
       "  (conv_stem): Conv2dSame(3, 32, kernel_size=(3, 3), stride=(2, 2), bias=False)\n",
       "  (bn1): BatchNorm2d(32, eps=0.001, momentum=0.1, affine=True, track_running_stats=True)\n",
       "  (act1): SiLU(inplace=True)\n",
       "  (blocks): Sequential(\n",
       "    (0): Sequential(\n",
       "      (0): DepthwiseSeparableConv(\n",
       "        (conv_dw): Conv2d(32, 32, kernel_size=(3, 3), stride=(1, 1), padding=(1, 1), groups=32, bias=False)\n",
       "        (bn1): BatchNorm2d(32, eps=0.001, momentum=0.1, affine=True, track_running_stats=True)\n",
       "        (act1): SiLU(inplace=True)\n",
       "        (se): SqueezeExcite(\n",
       "          (conv_reduce): Conv2d(32, 8, kernel_size=(1, 1), stride=(1, 1))\n",
       "          (act1): SiLU(inplace=True)\n",
       "          (conv_expand): Conv2d(8, 32, kernel_size=(1, 1), stride=(1, 1))\n",
       "        )\n",
       "        (conv_pw): Conv2d(32, 16, kernel_size=(1, 1), stride=(1, 1), bias=False)\n",
       "        (bn2): BatchNorm2d(16, eps=0.001, momentum=0.1, affine=True, track_running_stats=True)\n",
       "        (act2): Identity()\n",
       "      )\n",
       "    )\n",
       "    (1): Sequential(\n",
       "      (0): InvertedResidual(\n",
       "        (conv_pw): Conv2d(16, 96, kernel_size=(1, 1), stride=(1, 1), bias=False)\n",
       "        (bn1): BatchNorm2d(96, eps=0.001, momentum=0.1, affine=True, track_running_stats=True)\n",
       "        (act1): SiLU(inplace=True)\n",
       "        (conv_dw): Conv2dSame(96, 96, kernel_size=(3, 3), stride=(2, 2), groups=96, bias=False)\n",
       "        (bn2): BatchNorm2d(96, eps=0.001, momentum=0.1, affine=True, track_running_stats=True)\n",
       "        (act2): SiLU(inplace=True)\n",
       "        (se): SqueezeExcite(\n",
       "          (conv_reduce): Conv2d(96, 4, kernel_size=(1, 1), stride=(1, 1))\n",
       "          (act1): SiLU(inplace=True)\n",
       "          (conv_expand): Conv2d(4, 96, kernel_size=(1, 1), stride=(1, 1))\n",
       "        )\n",
       "        (conv_pwl): Conv2d(96, 24, kernel_size=(1, 1), stride=(1, 1), bias=False)\n",
       "        (bn3): BatchNorm2d(24, eps=0.001, momentum=0.1, affine=True, track_running_stats=True)\n",
       "      )\n",
       "      (1): InvertedResidual(\n",
       "        (conv_pw): Conv2d(24, 144, kernel_size=(1, 1), stride=(1, 1), bias=False)\n",
       "        (bn1): BatchNorm2d(144, eps=0.001, momentum=0.1, affine=True, track_running_stats=True)\n",
       "        (act1): SiLU(inplace=True)\n",
       "        (conv_dw): Conv2d(144, 144, kernel_size=(3, 3), stride=(1, 1), padding=(1, 1), groups=144, bias=False)\n",
       "        (bn2): BatchNorm2d(144, eps=0.001, momentum=0.1, affine=True, track_running_stats=True)\n",
       "        (act2): SiLU(inplace=True)\n",
       "        (se): SqueezeExcite(\n",
       "          (conv_reduce): Conv2d(144, 6, kernel_size=(1, 1), stride=(1, 1))\n",
       "          (act1): SiLU(inplace=True)\n",
       "          (conv_expand): Conv2d(6, 144, kernel_size=(1, 1), stride=(1, 1))\n",
       "        )\n",
       "        (conv_pwl): Conv2d(144, 24, kernel_size=(1, 1), stride=(1, 1), bias=False)\n",
       "        (bn3): BatchNorm2d(24, eps=0.001, momentum=0.1, affine=True, track_running_stats=True)\n",
       "      )\n",
       "    )\n",
       "    (2): Sequential(\n",
       "      (0): InvertedResidual(\n",
       "        (conv_pw): Conv2d(24, 144, kernel_size=(1, 1), stride=(1, 1), bias=False)\n",
       "        (bn1): BatchNorm2d(144, eps=0.001, momentum=0.1, affine=True, track_running_stats=True)\n",
       "        (act1): SiLU(inplace=True)\n",
       "        (conv_dw): Conv2dSame(144, 144, kernel_size=(5, 5), stride=(2, 2), groups=144, bias=False)\n",
       "        (bn2): BatchNorm2d(144, eps=0.001, momentum=0.1, affine=True, track_running_stats=True)\n",
       "        (act2): SiLU(inplace=True)\n",
       "        (se): SqueezeExcite(\n",
       "          (conv_reduce): Conv2d(144, 6, kernel_size=(1, 1), stride=(1, 1))\n",
       "          (act1): SiLU(inplace=True)\n",
       "          (conv_expand): Conv2d(6, 144, kernel_size=(1, 1), stride=(1, 1))\n",
       "        )\n",
       "        (conv_pwl): Conv2d(144, 40, kernel_size=(1, 1), stride=(1, 1), bias=False)\n",
       "        (bn3): BatchNorm2d(40, eps=0.001, momentum=0.1, affine=True, track_running_stats=True)\n",
       "      )\n",
       "      (1): InvertedResidual(\n",
       "        (conv_pw): Conv2d(40, 240, kernel_size=(1, 1), stride=(1, 1), bias=False)\n",
       "        (bn1): BatchNorm2d(240, eps=0.001, momentum=0.1, affine=True, track_running_stats=True)\n",
       "        (act1): SiLU(inplace=True)\n",
       "        (conv_dw): Conv2d(240, 240, kernel_size=(5, 5), stride=(1, 1), padding=(2, 2), groups=240, bias=False)\n",
       "        (bn2): BatchNorm2d(240, eps=0.001, momentum=0.1, affine=True, track_running_stats=True)\n",
       "        (act2): SiLU(inplace=True)\n",
       "        (se): SqueezeExcite(\n",
       "          (conv_reduce): Conv2d(240, 10, kernel_size=(1, 1), stride=(1, 1))\n",
       "          (act1): SiLU(inplace=True)\n",
       "          (conv_expand): Conv2d(10, 240, kernel_size=(1, 1), stride=(1, 1))\n",
       "        )\n",
       "        (conv_pwl): Conv2d(240, 40, kernel_size=(1, 1), stride=(1, 1), bias=False)\n",
       "        (bn3): BatchNorm2d(40, eps=0.001, momentum=0.1, affine=True, track_running_stats=True)\n",
       "      )\n",
       "    )\n",
       "    (3): Sequential(\n",
       "      (0): InvertedResidual(\n",
       "        (conv_pw): Conv2d(40, 240, kernel_size=(1, 1), stride=(1, 1), bias=False)\n",
       "        (bn1): BatchNorm2d(240, eps=0.001, momentum=0.1, affine=True, track_running_stats=True)\n",
       "        (act1): SiLU(inplace=True)\n",
       "        (conv_dw): Conv2dSame(240, 240, kernel_size=(3, 3), stride=(2, 2), groups=240, bias=False)\n",
       "        (bn2): BatchNorm2d(240, eps=0.001, momentum=0.1, affine=True, track_running_stats=True)\n",
       "        (act2): SiLU(inplace=True)\n",
       "        (se): SqueezeExcite(\n",
       "          (conv_reduce): Conv2d(240, 10, kernel_size=(1, 1), stride=(1, 1))\n",
       "          (act1): SiLU(inplace=True)\n",
       "          (conv_expand): Conv2d(10, 240, kernel_size=(1, 1), stride=(1, 1))\n",
       "        )\n",
       "        (conv_pwl): Conv2d(240, 80, kernel_size=(1, 1), stride=(1, 1), bias=False)\n",
       "        (bn3): BatchNorm2d(80, eps=0.001, momentum=0.1, affine=True, track_running_stats=True)\n",
       "      )\n",
       "      (1): InvertedResidual(\n",
       "        (conv_pw): Conv2d(80, 480, kernel_size=(1, 1), stride=(1, 1), bias=False)\n",
       "        (bn1): BatchNorm2d(480, eps=0.001, momentum=0.1, affine=True, track_running_stats=True)\n",
       "        (act1): SiLU(inplace=True)\n",
       "        (conv_dw): Conv2d(480, 480, kernel_size=(3, 3), stride=(1, 1), padding=(1, 1), groups=480, bias=False)\n",
       "        (bn2): BatchNorm2d(480, eps=0.001, momentum=0.1, affine=True, track_running_stats=True)\n",
       "        (act2): SiLU(inplace=True)\n",
       "        (se): SqueezeExcite(\n",
       "          (conv_reduce): Conv2d(480, 20, kernel_size=(1, 1), stride=(1, 1))\n",
       "          (act1): SiLU(inplace=True)\n",
       "          (conv_expand): Conv2d(20, 480, kernel_size=(1, 1), stride=(1, 1))\n",
       "        )\n",
       "        (conv_pwl): Conv2d(480, 80, kernel_size=(1, 1), stride=(1, 1), bias=False)\n",
       "        (bn3): BatchNorm2d(80, eps=0.001, momentum=0.1, affine=True, track_running_stats=True)\n",
       "      )\n",
       "      (2): InvertedResidual(\n",
       "        (conv_pw): Conv2d(80, 480, kernel_size=(1, 1), stride=(1, 1), bias=False)\n",
       "        (bn1): BatchNorm2d(480, eps=0.001, momentum=0.1, affine=True, track_running_stats=True)\n",
       "        (act1): SiLU(inplace=True)\n",
       "        (conv_dw): Conv2d(480, 480, kernel_size=(3, 3), stride=(1, 1), padding=(1, 1), groups=480, bias=False)\n",
       "        (bn2): BatchNorm2d(480, eps=0.001, momentum=0.1, affine=True, track_running_stats=True)\n",
       "        (act2): SiLU(inplace=True)\n",
       "        (se): SqueezeExcite(\n",
       "          (conv_reduce): Conv2d(480, 20, kernel_size=(1, 1), stride=(1, 1))\n",
       "          (act1): SiLU(inplace=True)\n",
       "          (conv_expand): Conv2d(20, 480, kernel_size=(1, 1), stride=(1, 1))\n",
       "        )\n",
       "        (conv_pwl): Conv2d(480, 80, kernel_size=(1, 1), stride=(1, 1), bias=False)\n",
       "        (bn3): BatchNorm2d(80, eps=0.001, momentum=0.1, affine=True, track_running_stats=True)\n",
       "      )\n",
       "    )\n",
       "    (4): Sequential(\n",
       "      (0): InvertedResidual(\n",
       "        (conv_pw): Conv2d(80, 480, kernel_size=(1, 1), stride=(1, 1), bias=False)\n",
       "        (bn1): BatchNorm2d(480, eps=0.001, momentum=0.1, affine=True, track_running_stats=True)\n",
       "        (act1): SiLU(inplace=True)\n",
       "        (conv_dw): Conv2d(480, 480, kernel_size=(5, 5), stride=(1, 1), padding=(2, 2), groups=480, bias=False)\n",
       "        (bn2): BatchNorm2d(480, eps=0.001, momentum=0.1, affine=True, track_running_stats=True)\n",
       "        (act2): SiLU(inplace=True)\n",
       "        (se): SqueezeExcite(\n",
       "          (conv_reduce): Conv2d(480, 20, kernel_size=(1, 1), stride=(1, 1))\n",
       "          (act1): SiLU(inplace=True)\n",
       "          (conv_expand): Conv2d(20, 480, kernel_size=(1, 1), stride=(1, 1))\n",
       "        )\n",
       "        (conv_pwl): Conv2d(480, 112, kernel_size=(1, 1), stride=(1, 1), bias=False)\n",
       "        (bn3): BatchNorm2d(112, eps=0.001, momentum=0.1, affine=True, track_running_stats=True)\n",
       "      )\n",
       "      (1): InvertedResidual(\n",
       "        (conv_pw): Conv2d(112, 672, kernel_size=(1, 1), stride=(1, 1), bias=False)\n",
       "        (bn1): BatchNorm2d(672, eps=0.001, momentum=0.1, affine=True, track_running_stats=True)\n",
       "        (act1): SiLU(inplace=True)\n",
       "        (conv_dw): Conv2d(672, 672, kernel_size=(5, 5), stride=(1, 1), padding=(2, 2), groups=672, bias=False)\n",
       "        (bn2): BatchNorm2d(672, eps=0.001, momentum=0.1, affine=True, track_running_stats=True)\n",
       "        (act2): SiLU(inplace=True)\n",
       "        (se): SqueezeExcite(\n",
       "          (conv_reduce): Conv2d(672, 28, kernel_size=(1, 1), stride=(1, 1))\n",
       "          (act1): SiLU(inplace=True)\n",
       "          (conv_expand): Conv2d(28, 672, kernel_size=(1, 1), stride=(1, 1))\n",
       "        )\n",
       "        (conv_pwl): Conv2d(672, 112, kernel_size=(1, 1), stride=(1, 1), bias=False)\n",
       "        (bn3): BatchNorm2d(112, eps=0.001, momentum=0.1, affine=True, track_running_stats=True)\n",
       "      )\n",
       "      (2): InvertedResidual(\n",
       "        (conv_pw): Conv2d(112, 672, kernel_size=(1, 1), stride=(1, 1), bias=False)\n",
       "        (bn1): BatchNorm2d(672, eps=0.001, momentum=0.1, affine=True, track_running_stats=True)\n",
       "        (act1): SiLU(inplace=True)\n",
       "        (conv_dw): Conv2d(672, 672, kernel_size=(5, 5), stride=(1, 1), padding=(2, 2), groups=672, bias=False)\n",
       "        (bn2): BatchNorm2d(672, eps=0.001, momentum=0.1, affine=True, track_running_stats=True)\n",
       "        (act2): SiLU(inplace=True)\n",
       "        (se): SqueezeExcite(\n",
       "          (conv_reduce): Conv2d(672, 28, kernel_size=(1, 1), stride=(1, 1))\n",
       "          (act1): SiLU(inplace=True)\n",
       "          (conv_expand): Conv2d(28, 672, kernel_size=(1, 1), stride=(1, 1))\n",
       "        )\n",
       "        (conv_pwl): Conv2d(672, 112, kernel_size=(1, 1), stride=(1, 1), bias=False)\n",
       "        (bn3): BatchNorm2d(112, eps=0.001, momentum=0.1, affine=True, track_running_stats=True)\n",
       "      )\n",
       "    )\n",
       "    (5): Sequential(\n",
       "      (0): InvertedResidual(\n",
       "        (conv_pw): Conv2d(112, 672, kernel_size=(1, 1), stride=(1, 1), bias=False)\n",
       "        (bn1): BatchNorm2d(672, eps=0.001, momentum=0.1, affine=True, track_running_stats=True)\n",
       "        (act1): SiLU(inplace=True)\n",
       "        (conv_dw): Conv2dSame(672, 672, kernel_size=(5, 5), stride=(2, 2), groups=672, bias=False)\n",
       "        (bn2): BatchNorm2d(672, eps=0.001, momentum=0.1, affine=True, track_running_stats=True)\n",
       "        (act2): SiLU(inplace=True)\n",
       "        (se): SqueezeExcite(\n",
       "          (conv_reduce): Conv2d(672, 28, kernel_size=(1, 1), stride=(1, 1))\n",
       "          (act1): SiLU(inplace=True)\n",
       "          (conv_expand): Conv2d(28, 672, kernel_size=(1, 1), stride=(1, 1))\n",
       "        )\n",
       "        (conv_pwl): Conv2d(672, 192, kernel_size=(1, 1), stride=(1, 1), bias=False)\n",
       "        (bn3): BatchNorm2d(192, eps=0.001, momentum=0.1, affine=True, track_running_stats=True)\n",
       "      )\n",
       "      (1): InvertedResidual(\n",
       "        (conv_pw): Conv2d(192, 1152, kernel_size=(1, 1), stride=(1, 1), bias=False)\n",
       "        (bn1): BatchNorm2d(1152, eps=0.001, momentum=0.1, affine=True, track_running_stats=True)\n",
       "        (act1): SiLU(inplace=True)\n",
       "        (conv_dw): Conv2d(1152, 1152, kernel_size=(5, 5), stride=(1, 1), padding=(2, 2), groups=1152, bias=False)\n",
       "        (bn2): BatchNorm2d(1152, eps=0.001, momentum=0.1, affine=True, track_running_stats=True)\n",
       "        (act2): SiLU(inplace=True)\n",
       "        (se): SqueezeExcite(\n",
       "          (conv_reduce): Conv2d(1152, 48, kernel_size=(1, 1), stride=(1, 1))\n",
       "          (act1): SiLU(inplace=True)\n",
       "          (conv_expand): Conv2d(48, 1152, kernel_size=(1, 1), stride=(1, 1))\n",
       "        )\n",
       "        (conv_pwl): Conv2d(1152, 192, kernel_size=(1, 1), stride=(1, 1), bias=False)\n",
       "        (bn3): BatchNorm2d(192, eps=0.001, momentum=0.1, affine=True, track_running_stats=True)\n",
       "      )\n",
       "      (2): InvertedResidual(\n",
       "        (conv_pw): Conv2d(192, 1152, kernel_size=(1, 1), stride=(1, 1), bias=False)\n",
       "        (bn1): BatchNorm2d(1152, eps=0.001, momentum=0.1, affine=True, track_running_stats=True)\n",
       "        (act1): SiLU(inplace=True)\n",
       "        (conv_dw): Conv2d(1152, 1152, kernel_size=(5, 5), stride=(1, 1), padding=(2, 2), groups=1152, bias=False)\n",
       "        (bn2): BatchNorm2d(1152, eps=0.001, momentum=0.1, affine=True, track_running_stats=True)\n",
       "        (act2): SiLU(inplace=True)\n",
       "        (se): SqueezeExcite(\n",
       "          (conv_reduce): Conv2d(1152, 48, kernel_size=(1, 1), stride=(1, 1))\n",
       "          (act1): SiLU(inplace=True)\n",
       "          (conv_expand): Conv2d(48, 1152, kernel_size=(1, 1), stride=(1, 1))\n",
       "        )\n",
       "        (conv_pwl): Conv2d(1152, 192, kernel_size=(1, 1), stride=(1, 1), bias=False)\n",
       "        (bn3): BatchNorm2d(192, eps=0.001, momentum=0.1, affine=True, track_running_stats=True)\n",
       "      )\n",
       "      (3): InvertedResidual(\n",
       "        (conv_pw): Conv2d(192, 1152, kernel_size=(1, 1), stride=(1, 1), bias=False)\n",
       "        (bn1): BatchNorm2d(1152, eps=0.001, momentum=0.1, affine=True, track_running_stats=True)\n",
       "        (act1): SiLU(inplace=True)\n",
       "        (conv_dw): Conv2d(1152, 1152, kernel_size=(5, 5), stride=(1, 1), padding=(2, 2), groups=1152, bias=False)\n",
       "        (bn2): BatchNorm2d(1152, eps=0.001, momentum=0.1, affine=True, track_running_stats=True)\n",
       "        (act2): SiLU(inplace=True)\n",
       "        (se): SqueezeExcite(\n",
       "          (conv_reduce): Conv2d(1152, 48, kernel_size=(1, 1), stride=(1, 1))\n",
       "          (act1): SiLU(inplace=True)\n",
       "          (conv_expand): Conv2d(48, 1152, kernel_size=(1, 1), stride=(1, 1))\n",
       "        )\n",
       "        (conv_pwl): Conv2d(1152, 192, kernel_size=(1, 1), stride=(1, 1), bias=False)\n",
       "        (bn3): BatchNorm2d(192, eps=0.001, momentum=0.1, affine=True, track_running_stats=True)\n",
       "      )\n",
       "    )\n",
       "    (6): Sequential(\n",
       "      (0): InvertedResidual(\n",
       "        (conv_pw): Conv2d(192, 1152, kernel_size=(1, 1), stride=(1, 1), bias=False)\n",
       "        (bn1): BatchNorm2d(1152, eps=0.001, momentum=0.1, affine=True, track_running_stats=True)\n",
       "        (act1): SiLU(inplace=True)\n",
       "        (conv_dw): Conv2d(1152, 1152, kernel_size=(3, 3), stride=(1, 1), padding=(1, 1), groups=1152, bias=False)\n",
       "        (bn2): BatchNorm2d(1152, eps=0.001, momentum=0.1, affine=True, track_running_stats=True)\n",
       "        (act2): SiLU(inplace=True)\n",
       "        (se): SqueezeExcite(\n",
       "          (conv_reduce): Conv2d(1152, 48, kernel_size=(1, 1), stride=(1, 1))\n",
       "          (act1): SiLU(inplace=True)\n",
       "          (conv_expand): Conv2d(48, 1152, kernel_size=(1, 1), stride=(1, 1))\n",
       "        )\n",
       "        (conv_pwl): Conv2d(1152, 320, kernel_size=(1, 1), stride=(1, 1), bias=False)\n",
       "        (bn3): BatchNorm2d(320, eps=0.001, momentum=0.1, affine=True, track_running_stats=True)\n",
       "      )\n",
       "    )\n",
       "  )\n",
       "  (conv_head): Conv2d(320, 1280, kernel_size=(1, 1), stride=(1, 1), bias=False)\n",
       "  (bn2): BatchNorm2d(1280, eps=0.001, momentum=0.1, affine=True, track_running_stats=True)\n",
       "  (act2): SiLU(inplace=True)\n",
       "  (global_pool): SelectAdaptivePool2d (pool_type=avg, flatten=True)\n",
       "  (classifier): Identity()\n",
       ")"
      ]
     },
     "execution_count": 9,
     "metadata": {},
     "output_type": "execute_result"
    }
   ],
   "source": [
    "feature_extractor_model.classifier=torch.nn.Identity()\n",
    "feature_extractor_model.eval()"
   ]
  },
  {
   "cell_type": "code",
   "execution_count": 13,
   "metadata": {},
   "outputs": [],
   "source": [
    "def get_probab(features):\n",
    "    x=np.dot(features,np.transpose(classifier_weights))+classifier_bias\n",
    "    #print(x)\n",
    "    e_x = np.exp(x - np.max(x,axis=0))\n",
    "    return e_x / e_x.sum(axis=1)[:,None]\n",
    "#print(get_probab(feats))"
   ]
  },
  {
   "cell_type": "code",
   "execution_count": 14,
   "metadata": {},
   "outputs": [],
   "source": [
    "emotion_ind2label={0: 'Anger', 1: 'Contempt', 2: 'Disgust', 3: 'Fear', 4: 'Happiness', 5: 'Neutral', 6: 'Sadness', 7: 'Surprise'}"
   ]
  },
  {
   "cell_type": "markdown",
   "metadata": {},
   "source": [
    "-----------------------------"
   ]
  },
  {
   "cell_type": "code",
   "execution_count": 10,
   "metadata": {},
   "outputs": [
    {
     "name": "stdout",
     "output_type": "stream",
     "text": [
      "Compose(\n",
      "    Resize(size=(224, 224), interpolation=PIL.Image.BILINEAR)\n",
      "    ToTensor()\n",
      "    Normalize(mean=[0.485, 0.456, 0.406], std=[0.229, 0.224, 0.225])\n",
      ")\n"
     ]
    },
    {
     "data": {
      "application/vnd.jupyter.widget-view+json": {
       "model_id": "c473bbdba16a4afdb386adcd660852fd",
       "version_major": 2,
       "version_minor": 0
      },
      "text/plain": [
       "  0%|          | 0/48 [00:00<?, ?it/s]"
      ]
     },
     "metadata": {},
     "output_type": "display_data"
    },
    {
     "data": {
      "application/vnd.jupyter.widget-view+json": {
       "model_id": "0eebb2ee8ba3490ea557a6aba614df42",
       "version_major": 2,
       "version_minor": 0
      },
      "text/plain": [
       "  0%|          | 0/147 [00:00<?, ?it/s]"
      ]
     },
     "metadata": {},
     "output_type": "display_data"
    }
   ],
   "source": [
    "def get_features(data_dir):\n",
    "    filename2features={}\n",
    "    for filename in tqdm(os.listdir(data_dir)):\n",
    "        frames_dir=os.path.join(data_dir,filename)\n",
    "        X_global_features=[]\n",
    "        imgs=[]\n",
    "        faces_only=[fn for fn in os.listdir(frames_dir) if 'noface' not in fn]\n",
    "        for img_name in sorted(faces_only, key=compare_filenames):\n",
    "            img = Image.open(os.path.join(frames_dir,img_name))\n",
    "            img_tensor = test_transforms(img)\n",
    "            if img.size:\n",
    "                imgs.append(img_tensor)\n",
    "                if len(imgs)>=32:        \n",
    "                    features = feature_extractor_model(torch.stack(imgs, dim=0).to(device))\n",
    "                    features=features.data.cpu().numpy()\n",
    "                    #print(features.shape)\n",
    "\n",
    "                    if len(X_global_features)==0:\n",
    "                        X_global_features=features\n",
    "                    else:\n",
    "                        X_global_features=np.concatenate((X_global_features,features),axis=0)\n",
    "\n",
    "                    imgs=[]\n",
    "            \n",
    "\n",
    "        if len(imgs)>0:        \n",
    "            features = feature_extractor_model(torch.stack(imgs, dim=0).to(device))\n",
    "            features=features.data.cpu().numpy()\n",
    "            #print(features.shape)\n",
    "\n",
    "            if len(X_global_features)==0:\n",
    "                X_global_features=features\n",
    "            else:\n",
    "                X_global_features=np.concatenate((X_global_features,features),axis=0)\n",
    "\n",
    "            imgs=[]\n",
    "\n",
    "        #print(X_global_features.shape,X_feats.shape,X_scores.shape)\n",
    "        filename2features[filename]=X_global_features\n",
    "    return filename2features\n",
    "\n",
    "print(test_transforms)\n",
    "filename2features_val=get_features(os.path.join(DATA_DIR,'frames/faces/mtcnn_aligned/validation/')) #mtcnn_aligned\n",
    "filename2features_train=get_features(os.path.join(DATA_DIR,'frames/faces/mtcnn_aligned/Train/')) #_cropped"
   ]
  },
  {
   "cell_type": "markdown",
   "metadata": {},
   "source": [
    "### Whole pipeline"
   ]
  },
  {
   "cell_type": "code",
   "execution_count": 17,
   "metadata": {},
   "outputs": [],
   "source": [
    "from facenet_pytorch import MTCNN\n",
    "mtcnn = MTCNN(keep_all=True, min_face_size=40, device='cuda:0')"
   ]
  },
  {
   "cell_type": "code",
   "execution_count": 18,
   "metadata": {},
   "outputs": [],
   "source": [
    "def get_faces(frames,prev_b,counter,frame_count):\n",
    "    imgs=[]\n",
    "    bounding_boxes_batch, _, points_batch = mtcnn.detect(frames, landmarks=True)\n",
    "    current_frame_ind=frame_count-len(frames)-1\n",
    "    for frame, bounding_boxes, points in zip(frames,bounding_boxes_batch,points_batch):\n",
    "        best_ind=None\n",
    "        current_frame_ind+=1\n",
    "        if bounding_boxes is None or len(bounding_boxes)==0:\n",
    "            print('No faces found for ',current_frame_ind)\n",
    "            counter+=1\n",
    "            if prev_b is None or counter>3:\n",
    "                continue\n",
    "            else:\n",
    "                b=prev_b\n",
    "        elif len(bounding_boxes)>1:\n",
    "            print('Too many faces (',len(bounding_boxes),') found for ',current_frame_ind)\n",
    "            if prev_b is None:\n",
    "                continue\n",
    "            else:\n",
    "                best_iou=0\n",
    "                for i in range(len(bounding_boxes)):\n",
    "                    iou=get_iou(bounding_boxes[i],prev_b)\n",
    "                    if iou>best_iou:\n",
    "                        best_iou=iou\n",
    "                        best_ind=i\n",
    "                if best_iou>0:\n",
    "                    b=[int(bi) for bi in bounding_boxes[best_ind]]\n",
    "                    print('best_iou (',best_iou,') best_bb ',bounding_boxes[best_ind])\n",
    "                else:\n",
    "                    continue\n",
    "        else:\n",
    "            best_ind=0\n",
    "            b=[int(bi) for bi in bounding_boxes[best_ind]]\n",
    "            counter=0\n",
    "        prev_b=b\n",
    "\n",
    "        if True:\n",
    "            p=None\n",
    "            if best_ind is not None:\n",
    "                p=points[best_ind]\n",
    "            face_img=preprocess(frame,b,None) #p)\n",
    "        else:\n",
    "            x1,y1,x2,y2=b[0:4]\n",
    "            face_img=frame[y1:y2,x1:x2,:]\n",
    "\n",
    "        if np.prod(face_img.shape)==0:\n",
    "            continue\n",
    "        imgs.append(face_img)\n",
    "    \n",
    "    return imgs,prev_b,counter"
   ]
  },
  {
   "cell_type": "code",
   "execution_count": null,
   "metadata": {},
   "outputs": [
    {
     "data": {
      "image/png": "[encoded data removed]",
      "text/plain": [
       "<Figure size 432x288 with 1 Axes>"
      ]
     },
     "metadata": {
      "needs_background": "light"
     },
     "output_type": "display_data"
    }
   ],
   "source": [
    "from IPython import display\n",
    "\n",
    "source_path=os.path.join(DATA_DIR,'validation')\n",
    "video_path=os.path.join(source_path, 'subject_20_Vid_1.avi')\n",
    "print(video_path)\n",
    "cap = cv2.VideoCapture(video_path)\n",
    "fps = cap.get(cv2.CAP_PROP_FPS)\n",
    "frame_count = 0\n",
    "prev_b=None\n",
    "counter=0\n",
    "n_frames=1\n",
    "total_frames = int(cap.get(cv2.CAP_PROP_FRAME_COUNT))//n_frames\n",
    "print('total_frames:',total_frames)\n",
    "frames=[]\n",
    "for frame_count in range(n_frames,n_frames*(total_frames+1),n_frames):\n",
    "    cap.set(cv2.CAP_PROP_POS_FRAMES,frame_count)\n",
    "    ret, frame_bgr = cap.read()\n",
    "    if not ret:\n",
    "        #cap.release()\n",
    "        #break\n",
    "        continue\n",
    "    frame = cv2.cvtColor(frame_bgr, cv2.COLOR_BGR2RGB)\n",
    "    frames.append(frame)\n",
    "    if len(frames)>=64:\n",
    "        imgs,prev_b,counter=get_faces(frames,prev_b,counter,frame_count)\n",
    "        if len(imgs)>0:        \n",
    "            features = feature_extractor_model(torch.stack([np_transforms(img) for img in imgs], dim=0).to(device))\n",
    "            features=features.data.cpu().numpy()\n",
    "            probabs=get_probab(features)\n",
    "            emotion_inds=np.argmax(probabs,axis=1)\n",
    "            print(probabs.shape,emotion_inds.shape)\n",
    "            for img,emotion_ind in zip(imgs,emotion_inds):\n",
    "                display.clear_output(wait=True)\n",
    "                plt.axis('off')\n",
    "                title=emotion_ind2label[emotion_ind]\n",
    "                plt.title(title)\n",
    "                plt.imshow(img)\n",
    "                plt.show()\n",
    "        frames=[]\n",
    "\n",
    "if len(frames)>0:\n",
    "    imgs,prev_b,counter=get_faces(frames,prev_b,counter,frame_count)\n",
    "    if len(imgs)>0:        \n",
    "        features = feature_extractor_model(torch.stack([np_transforms(img) for img in imgs], dim=0).to(device))\n",
    "        features=features.data.cpu().numpy()\n",
    "        probabs=get_probab(features)\n",
    "        emotion_inds=np.argmax(probabs,axis=1)\n",
    "        print(probabs.shape,emotion_inds.shape)\n",
    "        for img,emotion_ind in zip(imgs,emotion_inds):\n",
    "            display.clear_output(wait=True)\n",
    "            plt.axis('off')\n",
    "            title=emotion_ind2label[emotion_ind]\n",
    "            plt.title(title)\n",
    "            plt.imshow(img)\n",
    "            plt.show()\n",
    "    frames=[]\n",
    "cap.release()"
   ]
  },
  {
   "cell_type": "markdown",
   "metadata": {},
   "source": [
    "### Save/load features "
   ]
  },
  {
   "cell_type": "code",
   "execution_count": 21,
   "metadata": {},
   "outputs": [
    {
     "name": "stdout",
     "output_type": "stream",
     "text": [
      "enet_b0_8_best_afew_aligned.pickle\n"
     ]
    }
   ],
   "source": [
    "import pickle\n",
    "USE_ALL_FEATURES=False\n",
    "\n",
    "MODEL2EMOTIW_FEATURES=model_name+'_aligned.pickle' #'_feat_bgr_emotiw.pickle'\n",
    "#MODEL2EMOTIW_FEATURES=model_name+'_cropped.pickle'\n",
    "#MODEL2EMOTIW_FEATURES='enet0_vggface2_pt_feat_emotiw.pickle'\n",
    "#MODEL2EMOTIW_FEATURES='enet0_affectnet_7_vggface2_new_pt_scores_emotiw.pickle'\n",
    "\n",
    "print(MODEL2EMOTIW_FEATURES)"
   ]
  },
  {
   "cell_type": "code",
   "execution_count": 38,
   "metadata": {},
   "outputs": [],
   "source": [
    "if False:\n",
    "    with open(MODEL2EMOTIW_FEATURES, 'wb') as handle:\n",
    "        pickle.dump([filename2features_train,filename2features_val], handle, protocol=pickle.HIGHEST_PROTOCOL)"
   ]
  },
  {
   "cell_type": "code",
   "execution_count": 7,
   "metadata": {},
   "outputs": [
    {
     "name": "stdout",
     "output_type": "stream",
     "text": [
      "147 48\n"
     ]
    }
   ],
   "source": [
    "with open(MODEL2EMOTIW_FEATURES, 'rb') as handle:\n",
    "    filename2features_train,filename2features_val=pickle.load(handle)\n",
    "print(len(filename2features_train),len(filename2features_val))"
   ]
  },
  {
   "cell_type": "markdown",
   "metadata": {},
   "source": [
    "## Visualize "
   ]
  },
  {
   "cell_type": "code",
   "execution_count": 11,
   "metadata": {},
   "outputs": [
    {
     "data": {
      "text/plain": [
       "dict_keys(['subject_7_Vid_5', 'subject_9_Vid_6', 'subject_13_Vid_6', 'subject_8_Vid_6', 'subject_7_Vid_3', 'subject_20_Vid_5', 'subject_7_Vid_2', 'subject_1_Vid_2', 'subject_5_Vid_6', 'subject_11_Vid_6', 'subject_1_Vid_4', 'subject_1_Vid_3', 'subject_20_Vid_5_1', 'subject_18_Vid_6', 'subject_22_Vid_5', 'subject_3_Vid_2', 'subject_20_Vid_7', 'subject_16_Vid_6', 'subject_20_Vid_6', 'subject_7_Vid_4', 'subject_31_Vid_6', 'subject_3_Vid_1', 'subject_6_Vid_6', 'subject_14_Vid_6', 'subject_20_Vid_5_2', 'subject_3_Vid_6', 'subject_20_Vid_3', 'subject_3_Vid_5', 'subject_1_Vid_5', 'subject_12_Vid_6', 'subject_3_Vid_3', 'subject_3_Vid_7', 'subject_20_Vid_2', 'subject_20_Vid_1', 'subject_4_Vid_6', 'subject_3_Vid_4', 'subject_7_Vid_1', 'subject_20_Vid_4', 'subject_19_Vid_6', 'subject_15_Vid_6', 'subject_24_Vid_5', 'subject_17_Vid_6', 'subject_25_Vid_5', 'subject_23_Vid_5', 'subject_10_Vid_6', 'subject_2_Vid_6', 'subject_1_Vid_1', 'subject_21_Vid_5'])"
      ]
     },
     "execution_count": 11,
     "metadata": {},
     "output_type": "execute_result"
    }
   ],
   "source": [
    "filename2features_val.keys()"
   ]
  },
  {
   "cell_type": "code",
   "execution_count": 15,
   "metadata": {},
   "outputs": [],
   "source": [
    "from IPython import display\n",
    "filename='subject_84_Vid_3'\n",
    "\n",
    "#data_dir=os.path.join(DATA_DIR,'frames/faces/mtcnn_aligned/validation/')\n",
    "data_dir=os.path.join(DATA_DIR,'frames/faces/mtcnn_aligned/Train/')\n",
    "features=filename2features_train[filename] #filename2features_val[filename] #\n",
    "frames_probabs=get_probab(features)\n",
    "frames_dir=os.path.join(data_dir,filename)\n",
    "faces_only=[fn for fn in os.listdir(frames_dir) if 'noface' not in fn]\n",
    "faces_only=sorted(faces_only, key=compare_filenames)"
   ]
  },
  {
   "cell_type": "code",
   "execution_count": 16,
   "metadata": {},
   "outputs": [
    {
     "data": {
      "image/png": "[encoded data removed]",
      "text/plain": [
       "<Figure size 432x288 with 1 Axes>"
      ]
     },
     "metadata": {
      "needs_background": "light"
     },
     "output_type": "display_data"
    }
   ],
   "source": [
    "for img_name,probabs in zip(faces_only,frames_probabs):\n",
    "    img = Image.open(os.path.join(frames_dir,img_name))\n",
    "    display.clear_output(wait=True)\n",
    "    plt.axis('off')\n",
    "    emotion_ind=np.argmax(probabs)\n",
    "    title=emotion_ind2label[emotion_ind]+\": {:.2f}\".format(probabs[emotion_ind])\n",
    "    plt.title(title)\n",
    "    plt.imshow(img)\n",
    "    plt.show()"
   ]
  },
  {
   "cell_type": "markdown",
   "metadata": {},
   "source": [
    "## Classify "
   ]
  },
  {
   "cell_type": "code",
   "execution_count": 17,
   "metadata": {},
   "outputs": [
    {
     "name": "stdout",
     "output_type": "stream",
     "text": [
      "first: ['subject', 'label']\n"
     ]
    }
   ],
   "source": [
    "import csv\n",
    "video2label={}\n",
    "with open(os.path.join(DATA_DIR,'Engagement_Labels_Engagement.csv'), mode='r') as csvfile:\n",
    "    labels_reader = csv.reader(csvfile, delimiter='\\t')\n",
    "    for i,row in enumerate(labels_reader):\n",
    "        if i==0:\n",
    "            print('first:',row)\n",
    "            continue\n",
    "        videoname,label=row[0],float(row[1])\n",
    "        video2label[videoname]=label\n",
    "        #print(videoname,label)\n",
    "        #if (videoname not in filename2features_val) and (videoname not in filename2features_train):\n",
    "        #    print(videoname,label)"
   ]
  },
  {
   "cell_type": "code",
   "execution_count": 18,
   "metadata": {},
   "outputs": [],
   "source": [
    "#check if fix is incorrect\n",
    "video2label['subject_87_Vid_3']=video2label['subject_77_Vid_6']"
   ]
  },
  {
   "cell_type": "code",
   "execution_count": 19,
   "metadata": {},
   "outputs": [],
   "source": [
    "def compute_descriptor(cur_features):\n",
    "    #cur_features=cur_features[1000:]\n",
    "    #cur_features=cur_features[30:-30]\n",
    "    #mean_features=features.mean(axis=0)\n",
    "    mean_features = np.mean(cur_features, axis=0)\n",
    "    std_features = np.std(cur_features, axis=0)\n",
    "    max_features = np.max(cur_features, axis=0)\n",
    "    min_features = np.min(cur_features, axis=0)\n",
    "\n",
    "    # join several features together\n",
    "    #feature = np.concatenate((mean_features, std_features, min_features, max_features), axis=None)                    \n",
    "    #feature = np.concatenate((mean_features, std_features, max_features), axis=None)\n",
    "    #feature = np.concatenate((mean_features, min_features, max_features), axis=None)\n",
    "    #feature = np.concatenate((mean_features, std_features), axis=None)\n",
    "    #feature = np.concatenate((max_features, std_features), axis=None)\n",
    "\n",
    "    feature=std_features\n",
    "    #feature=mean_features\n",
    "    #feature=cur_features[-1]\n",
    "    #feature=np.percentile(cur_features, 100,axis=0)\n",
    "    return feature"
   ]
  },
  {
   "cell_type": "code",
   "execution_count": 22,
   "metadata": {},
   "outputs": [
    {
     "name": "stdout",
     "output_type": "stream",
     "text": [
      "(147, 1280) (147,)\n",
      "(48, 1280) (48,)\n"
     ]
    }
   ],
   "source": [
    "def create_dataset(filename2features):\n",
    "    x = []\n",
    "    y = []\n",
    "    ind=0\n",
    "    for fn in filename2features:\n",
    "        features=filename2features[fn]\n",
    "        total_features=None\n",
    "        if USE_ALL_FEATURES:\n",
    "            #prev=features[0].shape\n",
    "            cur_features=features[0][features[-1]==1]\n",
    "            #if filename2features_val==filename2features:\n",
    "            #    print(cur_features.shape)\n",
    "            #    cur_features=cur_features[2:]\n",
    "            #print(prev,features.shape)\n",
    "        else:\n",
    "            cur_features=features\n",
    "        \n",
    "        total_features=compute_descriptor(cur_features)\n",
    "        if total_features is not None:\n",
    "            x.append(total_features)\n",
    "            y.append(video2label[fn])\n",
    "    x=np.array(x)\n",
    "    y=np.array(y)\n",
    "    print(x.shape,y.shape)\n",
    "    return x,y\n",
    "\n",
    "x_train, y_train = create_dataset(filename2features_train)\n",
    "x_test, y_test = create_dataset(filename2features_val)"
   ]
  },
  {
   "cell_type": "code",
   "execution_count": 23,
   "metadata": {},
   "outputs": [],
   "source": [
    "x_train_norm=preprocessing.normalize(x_train,norm='l2')\n",
    "x_test_norm=preprocessing.normalize(x_test,norm='l2')"
   ]
  },
  {
   "cell_type": "code",
   "execution_count": 24,
   "metadata": {},
   "outputs": [
    {
     "name": "stdout",
     "output_type": "stream",
     "text": [
      "MSE: 0.0777201859768104\n"
     ]
    }
   ],
   "source": [
    "#reg = svm.LinearSVR(C=1) #0.5 1.1\n",
    "reg = svm.SVR(kernel='rbf')\n",
    "#np.random.seed(1)\n",
    "#reg=RandomForestRegressor(n_estimators=100,max_depth=7, n_jobs=-1)\n",
    "\n",
    "#import xgboost as xgb\n",
    "#reg = xgb.XGBRegressor(n_estimators=100,use_label_encoder=False)\n",
    "\n",
    "if False:    \n",
    "    reg.fit(x_train_norm, y_train)\n",
    "    y_pred = reg.predict(x_test_norm)\n",
    "else:\n",
    "    reg.fit(x_train, y_train)\n",
    "    y_pred = reg.predict(x_test)\n",
    "\n",
    "y_pred = np.clip(y_pred, 0,1)\n",
    "#y_pred[y_pred<0.1]=0\n",
    "#y_pred[y_pred>0.9]=1\n",
    "print(\"MSE:\",((y_test-y_pred)**2).mean())"
   ]
  },
  {
   "cell_type": "code",
   "execution_count": 25,
   "metadata": {},
   "outputs": [],
   "source": [
    "float2int={0:0,0.33:1,0.66:2,1:3}\n",
    "int2float={i:f for (f,i) in float2int.items()}\n",
    "y_train_int=np.array([float2int[y] for y in y_train])\n",
    "y_test_int=np.array([float2int[y] for y in y_test])"
   ]
  },
  {
   "cell_type": "code",
   "execution_count": 26,
   "metadata": {},
   "outputs": [],
   "source": [
    "IC = type('IdentityClassifier', (), {\"predict\": lambda i : i, \"_estimator_type\": \"classifier\"})\n",
    "import matplotlib.pyplot as plt\n",
    "from sklearn.metrics import plot_confusion_matrix\n",
    "def plt_conf_matrix(y_true,y_pred,filename=None):\n",
    "    print(y_pred.shape,y_true.shape, (y_pred==y_true).mean())\n",
    "\n",
    "    fig, ax = plt.subplots(figsize=(7, 7))\n",
    "    plot_confusion_matrix(IC, y_pred,y_true,display_labels=['0','0.33','0.66','1'],cmap=plt.cm.Blues,ax=ax) #,normalize='true'\n",
    "    plt.tight_layout()\n",
    "    plt.show()"
   ]
  },
  {
   "cell_type": "code",
   "execution_count": 27,
   "metadata": {},
   "outputs": [
    {
     "name": "stdout",
     "output_type": "stream",
     "text": [
      "MSE: 0.05555555555555555\n",
      "orig MSE: 0.05626458333333333\n"
     ]
    }
   ],
   "source": [
    "import mord\n",
    "\n",
    "reg = mord.OrdinalRidge(alpha=0.5) #1\n",
    "\n",
    "if False:    \n",
    "    reg.fit(x_train_norm, y_train_int)\n",
    "    y_pred = reg.predict(x_test_norm)\n",
    "else:\n",
    "    reg.fit(x_train, y_train_int)\n",
    "    y_pred = reg.predict(x_test)\n",
    "print(\"MSE:\",((y_test_int-y_pred)**2).mean()/9)\n",
    "\n",
    "y_pred_float=np.array([int2float[y] for y in y_pred])\n",
    "print(\"orig MSE:\",((y_test-y_pred_float)**2).mean())"
   ]
  },
  {
   "cell_type": "code",
   "execution_count": 28,
   "metadata": {},
   "outputs": [
    {
     "name": "stdout",
     "output_type": "stream",
     "text": [
      "(48,) (48,) 0.5\n"
     ]
    },
    {
     "data": {
      "image/png": "[encoded data removed]",
      "text/plain": [
       "<Figure size 504x504 with 2 Axes>"
      ]
     },
     "metadata": {
      "needs_background": "light"
     },
     "output_type": "display_data"
    }
   ],
   "source": [
    "plt_conf_matrix(y_test_int,y_pred)"
   ]
  },
  {
   "cell_type": "markdown",
   "metadata": {},
   "source": [
    "### Other train-test split "
   ]
  },
  {
   "cell_type": "code",
   "execution_count": 29,
   "metadata": {},
   "outputs": [
    {
     "name": "stdout",
     "output_type": "stream",
     "text": [
      "(195, 1280) (195,)\n",
      "[0.   0.33 0.66 1.  ] [ 9 45 98 43]\n"
     ]
    }
   ],
   "source": [
    "x_all=np.concatenate((x_train,x_test),axis=0)\n",
    "y_all=np.concatenate((y_train,y_test),axis=0)\n",
    "print(x_all.shape,y_all.shape)\n",
    "\n",
    "labels,counts=np.unique(y_all,return_counts=True)\n",
    "print(labels,counts)"
   ]
  },
  {
   "cell_type": "code",
   "execution_count": 30,
   "metadata": {},
   "outputs": [
    {
     "name": "stdout",
     "output_type": "stream",
     "text": [
      "0.77\n"
     ]
    }
   ],
   "source": [
    "SPLIT_RATIO=0.77 #len(y_train)/len(y_all) #5/6 #0.8\n",
    "print(SPLIT_RATIO)"
   ]
  },
  {
   "cell_type": "code",
   "execution_count": 31,
   "metadata": {},
   "outputs": [
    {
     "name": "stdout",
     "output_type": "stream",
     "text": [
      "(148, 1280) (148,) (47, 1280) (47,)\n",
      "(array([0.  , 0.33, 0.66, 1.  ]), array([ 6, 34, 75, 33]))\n",
      "(array([0.  , 0.33, 0.66, 1.  ]), array([ 3, 11, 23, 10]))\n"
     ]
    }
   ],
   "source": [
    "import random\n",
    "random.seed(7)\n",
    "\n",
    "def get_train_test_indices():\n",
    "    inds_train, inds_test = [], []\n",
    "    inds = np.arange(len(y_all))\n",
    "\n",
    "    for lbl in np.unique(y_all):\n",
    "        tmp_inds = inds[y_all == lbl]\n",
    "        random.shuffle(tmp_inds)\n",
    "        \n",
    "        ind=int(len(tmp_inds) * SPLIT_RATIO)\n",
    "        inds_train.append(tmp_inds[:ind])\n",
    "        inds_test.append(tmp_inds[ind:])\n",
    "    \n",
    "    inds_train = np.concatenate(inds_train, axis=0)\n",
    "    inds_test = np.concatenate(inds_test, axis=0)\n",
    "    return inds_train, inds_test\n",
    "\n",
    "def get_train_test():\n",
    "    inds_train, inds_test = get_train_test_indices()\n",
    "    X_train=x_all[inds_train]\n",
    "    y_train=y_all[inds_train]\n",
    "    X_test=x_all[inds_test]\n",
    "    y_test=y_all[inds_test]\n",
    "    return X_train,y_train,X_test,y_test\n",
    "\n",
    "x_train_new,y_train_new,x_test_new,y_test_new=get_train_test()\n",
    "print(x_train_new.shape,y_train_new.shape,x_test_new.shape,y_test_new.shape)\n",
    "print(np.unique(y_train_new,return_counts=True))\n",
    "print(np.unique(y_test_new,return_counts=True))\n",
    "\n",
    "y_train_new_int=np.array([float2int[y] for y in y_train_new])\n",
    "y_test_new_int=np.array([float2int[y] for y in y_test_new])"
   ]
  },
  {
   "cell_type": "code",
   "execution_count": 32,
   "metadata": {},
   "outputs": [
    {
     "name": "stdout",
     "output_type": "stream",
     "text": [
      "MSE: 0.0591016548463357\n",
      "orig MSE: 0.059348936170212786\n"
     ]
    }
   ],
   "source": [
    "reg = mord.OrdinalRidge(alpha=0.5) #1\n",
    "reg.fit(x_train_new, y_train_new_int)\n",
    "y_pred = reg.predict(x_test_new)\n",
    "print(\"MSE:\",((y_test_new_int-y_pred)**2).mean()/9)\n",
    "\n",
    "y_pred_float=np.array([int2float[y] for y in y_pred])\n",
    "print(\"orig MSE:\",((y_test_new-y_pred_float)**2).mean())"
   ]
  },
  {
   "cell_type": "code",
   "execution_count": 33,
   "metadata": {},
   "outputs": [],
   "source": [
    "x_train_new_norm=preprocessing.normalize(x_train_new,norm='l2')\n",
    "x_test_new_norm=preprocessing.normalize(x_test_new,norm='l2')"
   ]
  },
  {
   "cell_type": "code",
   "execution_count": 34,
   "metadata": {},
   "outputs": [
    {
     "name": "stdout",
     "output_type": "stream",
     "text": [
      "MSE: 0.054357857229250996\n"
     ]
    }
   ],
   "source": [
    "#reg = svm.LinearSVR(C=0.5) #0.5 1.1 1.0\n",
    "reg = svm.SVR(kernel='rbf')\n",
    "#np.random.seed(1)\n",
    "#reg=RandomForestRegressor(n_estimators=100,max_depth=10, n_jobs=-1)\n",
    "\n",
    "#import xgboost as xgb\n",
    "#reg = xgb.XGBRegressor(n_estimators=100,use_label_encoder=False)\n",
    "\n",
    "if False:    \n",
    "    reg.fit(x_train_new_norm, y_train_new)\n",
    "    y_pred = reg.predict(x_test_new_norm)\n",
    "else:\n",
    "    reg.fit(x_train_new, y_train_new)\n",
    "    y_pred = reg.predict(x_test_new)\n",
    "\n",
    "y_pred = np.clip(y_pred, 0,1)\n",
    "#y_pred[y_pred<0.1]=0\n",
    "#y_pred[y_pred>0.9]=1\n",
    "print(\"MSE:\",((y_test_new-y_pred)**2).mean())"
   ]
  },
  {
   "cell_type": "code",
   "execution_count": 35,
   "metadata": {},
   "outputs": [
    {
     "name": "stdout",
     "output_type": "stream",
     "text": [
      "ridge (int) 0.0521188510638298 0.007089241123211507\n",
      "svr rbf 0.0510496096884753 0.0062436253668110096\n",
      "svr linear 0.05094895134921972 0.006776527403010952\n",
      "rf 0.05162876095893995 0.005602720594731017\n"
     ]
    }
   ],
   "source": [
    "random.seed(7)\n",
    "np.random.seed(1)\n",
    "\n",
    "NUM_TESTS=100\n",
    "regressors={'ridge (int)':mord.OrdinalRidge(alpha=0.5), #0.5 #1\n",
    "            'svr rbf':svm.SVR(kernel='rbf'),\n",
    "            'svr linear':svm.LinearSVR(C=0.5),\n",
    "            'rf':RandomForestRegressor(n_estimators=100,max_depth=7, n_jobs=-1),\n",
    "           }\n",
    "reg2MSEs={reg_name:[] for reg_name in regressors.keys()}\n",
    "for _ in range(NUM_TESTS):\n",
    "    x_train_new,y_train_new,x_test_new,y_test_new=get_train_test()\n",
    "    y_train_new_int=np.array([float2int[y] for y in y_train_new])\n",
    "    y_test_new_int=np.array([float2int[y] for y in y_test_new])\n",
    "    for reg_name,reg in regressors.items():\n",
    "        if reg_name.endswith('(int)'):\n",
    "            reg.fit(x_train_new, y_train_new_int)\n",
    "            y_pred = reg.predict(x_test_new)\n",
    "            y_pred=np.array([int2float[y] for y in y_pred])\n",
    "        else:\n",
    "            reg.fit(x_train_new, y_train_new)\n",
    "            y_pred = reg.predict(x_test_new)\n",
    "            y_pred = np.clip(y_pred, 0,1)\n",
    "        \n",
    "        mse=((y_test_new-y_pred)**2).mean()\n",
    "        #print(reg_name,mse)\n",
    "        reg2MSEs[reg_name].append(mse)\n",
    "\n",
    "for reg_name,MSEs in reg2MSEs.items():\n",
    "    print(reg_name,np.mean(MSEs),np.std(MSEs))"
   ]
  },
  {
   "cell_type": "markdown",
   "metadata": {},
   "source": [
    "------------------"
   ]
  },
  {
   "cell_type": "code",
   "execution_count": 36,
   "metadata": {},
   "outputs": [
    {
     "name": "stdout",
     "output_type": "stream",
     "text": [
      "195\n",
      "148\n",
      "47\n"
     ]
    }
   ],
   "source": [
    "filenames_all=list(filename2features_train.keys())+list(filename2features_val.keys())\n",
    "print(len(filenames_all))\n",
    "\n",
    "random.seed(7)\n",
    "inds_train, inds_val = get_train_test_indices()\n",
    "\n",
    "def get_filename2features_new(inds):\n",
    "    filename2features_new={}\n",
    "    for ind in inds:\n",
    "        filename=filenames_all[ind]\n",
    "        if filename in filename2features_train:\n",
    "            filename2features_new[filename]=filename2features_train[filename]\n",
    "        else:\n",
    "            filename2features_new[filename]=filename2features_val[filename]\n",
    "    print(len(filename2features_new))\n",
    "    return filename2features_new\n",
    "filename2features_train_new=get_filename2features_new(inds_train)\n",
    "filename2features_val_new=get_filename2features_new(inds_val)"
   ]
  },
  {
   "cell_type": "markdown",
   "metadata": {},
   "source": [
    "# Sequence"
   ]
  },
  {
   "cell_type": "code",
   "execution_count": 38,
   "metadata": {},
   "outputs": [],
   "source": [
    "CONCATENATE_STAT=True\n",
    "stat_function=np.std\n",
    "CONVERT2INT=False"
   ]
  },
  {
   "cell_type": "code",
   "execution_count": 39,
   "metadata": {},
   "outputs": [],
   "source": [
    "if False:\n",
    "    file2feat_train,file2feat_val=filename2features_train,filename2features_val\n",
    "else:\n",
    "    file2feat_train,file2feat_val=filename2features_train_new,filename2features_val_new"
   ]
  },
  {
   "cell_type": "code",
   "execution_count": 40,
   "metadata": {},
   "outputs": [],
   "source": [
    "from tensorflow.keras.models import load_model,Model\n",
    "class SaveBestModel(tf.keras.callbacks.Callback):\n",
    "    def __init__(self, save_best_metric='val_loss', this_max=False):\n",
    "        self.save_best_metric = save_best_metric\n",
    "        self.max = this_max\n",
    "        if this_max:\n",
    "            self.best = float('-inf')\n",
    "        else:\n",
    "            self.best = float('inf')\n",
    "\n",
    "    def on_epoch_end(self, epoch, logs=None):\n",
    "        metric_value = logs[self.save_best_metric]\n",
    "        if self.max:\n",
    "            if metric_value > self.best:\n",
    "                self.best = metric_value\n",
    "                self.best_model_weights = self.model.get_weights()\n",
    "\n",
    "        else:\n",
    "            if metric_value < self.best:\n",
    "                self.best = metric_value\n",
    "                self.best_model_weights = self.model.get_weights()"
   ]
  },
  {
   "cell_type": "code",
   "execution_count": 41,
   "metadata": {},
   "outputs": [],
   "source": [
    "def print_mse(model,filename2features):\n",
    "    diff_correct,num_total=0.0,0\n",
    "    for fn in filename2features:\n",
    "        features=filename2features[fn]\n",
    "        total_features=None\n",
    "        if USE_ALL_FEATURES:\n",
    "            x=features[0][features[-1]==1]\n",
    "        else:\n",
    "            x=features\n",
    "        max_ind=len(x)-IMAGE_SET_SIZE\n",
    "        if max_ind<=0:\n",
    "            continue\n",
    "        if CONCATENATE_STAT:\n",
    "            stat_x=np.repeat(stat_function(x,axis=0).reshape((1,-1)),len(x),axis=0)            \n",
    "            preds=model.predict(np.expand_dims(np.concatenate((stat_x,x),axis=1), axis=0))[0]\n",
    "        else:\n",
    "            preds=model.predict(np.expand_dims(x, axis=0))[0]\n",
    "        #print(preds.shape,preds,video2label[fn])\n",
    "        if CONVERT2INT:\n",
    "            pred=int2float[np.argmax(preds)]\n",
    "        else:\n",
    "            pred=preds[0]\n",
    "        diff_correct+=(pred-video2label[fn])**2\n",
    "        num_total+=1\n",
    "    print(num_total,diff_correct/num_total)"
   ]
  },
  {
   "cell_type": "code",
   "execution_count": 42,
   "metadata": {},
   "outputs": [
    {
     "name": "stdout",
     "output_type": "stream",
     "text": [
      "(5678, 128, 2560) (5678,)\n",
      "(2055, 128, 2560) (2055,)\n"
     ]
    }
   ],
   "source": [
    "IMAGE_SET_SIZE=128 #32 #20\n",
    "def get_samples(filename2features):\n",
    "    X_subsample,y_subsample=[],[]\n",
    "    for fn in filename2features:\n",
    "        features=filename2features[fn]\n",
    "        total_features=None\n",
    "        if USE_ALL_FEATURES:\n",
    "            x=features[0][features[-1]==1]\n",
    "        else:\n",
    "            x=features\n",
    "        max_ind=len(x)-IMAGE_SET_SIZE\n",
    "        if max_ind<=0:\n",
    "            continue\n",
    "        stat_x=stat_function(x,axis=0)\n",
    "        num_samples=max(max_ind//(IMAGE_SET_SIZE),1)\n",
    "        for frame_ind in random.sample(range(max_ind),k=num_samples):\n",
    "            if CONCATENATE_STAT:\n",
    "                X_current=[np.concatenate((stat_x,x[frame_ind+i])) for i in range(IMAGE_SET_SIZE)]\n",
    "            else:\n",
    "                X_current=[x[frame_ind+i] for i in range(IMAGE_SET_SIZE)]\n",
    "            X_subsample.append(X_current)\n",
    "            if CONVERT2INT:\n",
    "                y_subsample.append(float2int[video2label[fn]])\n",
    "            else:\n",
    "                y_subsample.append(video2label[fn])\n",
    "    \n",
    " \n",
    "    X_subsample = np.array(X_subsample)\n",
    "    y_subsample=np.array(y_subsample)\n",
    "    print(X_subsample.shape,y_subsample.shape)\n",
    "    return X_subsample,y_subsample\n",
    "\n",
    "X_subsample_train,y_subsample_train=get_samples(file2feat_train)\n",
    "X_subsample_test,y_subsample_test=get_samples(file2feat_val)"
   ]
  },
  {
   "cell_type": "markdown",
   "metadata": {},
   "source": [
    "## RNN "
   ]
  },
  {
   "cell_type": "code",
   "execution_count": 43,
   "metadata": {},
   "outputs": [
    {
     "name": "stdout",
     "output_type": "stream",
     "text": [
      "Model: \"model\"\n",
      "_________________________________________________________________\n",
      "Layer (type)                 Output Shape              Param #   \n",
      "=================================================================\n",
      "input_1 (InputLayer)         [(None, None, 2560)]      0         \n",
      "_________________________________________________________________\n",
      "gru (GRU)                    (None, 128)               1032960   \n",
      "_________________________________________________________________\n",
      "dense (Dense)                (None, 1)                 129       \n",
      "=================================================================\n",
      "Total params: 1,033,089\n",
      "Trainable params: 1,033,089\n",
      "Non-trainable params: 0\n",
      "_________________________________________________________________\n",
      "Epoch 1/20\n",
      "23/23 [==============================] - 7s 179ms/step - loss: 0.0882 - mae: 0.2258 - val_loss: 0.0945 - val_mae: 0.2289\n",
      "Epoch 2/20\n",
      "23/23 [==============================] - 3s 115ms/step - loss: 0.0586 - mae: 0.1775 - val_loss: 0.0847 - val_mae: 0.2239\n",
      "Epoch 3/20\n",
      "23/23 [==============================] - 3s 117ms/step - loss: 0.0448 - mae: 0.1560 - val_loss: 0.0806 - val_mae: 0.2190\n",
      "Epoch 4/20\n",
      "23/23 [==============================] - 3s 123ms/step - loss: 0.0358 - mae: 0.1360 - val_loss: 0.0758 - val_mae: 0.2102\n",
      "Epoch 5/20\n",
      "23/23 [==============================] - 3s 120ms/step - loss: 0.0294 - mae: 0.1191 - val_loss: 0.0742 - val_mae: 0.2101\n",
      "Epoch 6/20\n",
      "23/23 [==============================] - 3s 119ms/step - loss: 0.0249 - mae: 0.1049 - val_loss: 0.0721 - val_mae: 0.2096\n",
      "Epoch 7/20\n",
      "23/23 [==============================] - 3s 121ms/step - loss: 0.0219 - mae: 0.0951 - val_loss: 0.0753 - val_mae: 0.2167\n",
      "Epoch 8/20\n",
      "23/23 [==============================] - 3s 120ms/step - loss: 0.0204 - mae: 0.0895 - val_loss: 0.0741 - val_mae: 0.2137\n",
      "Epoch 9/20\n",
      "23/23 [==============================] - 3s 119ms/step - loss: 0.0191 - mae: 0.0855 - val_loss: 0.0757 - val_mae: 0.2158\n",
      "Epoch 10/20\n",
      "23/23 [==============================] - 3s 118ms/step - loss: 0.0169 - mae: 0.0775 - val_loss: 0.0748 - val_mae: 0.2131\n",
      "Epoch 11/20\n",
      "23/23 [==============================] - 3s 116ms/step - loss: 0.0160 - mae: 0.0735 - val_loss: 0.0788 - val_mae: 0.2178\n",
      "Epoch 12/20\n",
      "23/23 [==============================] - 3s 118ms/step - loss: 0.0151 - mae: 0.0714 - val_loss: 0.0810 - val_mae: 0.2233\n",
      "Epoch 13/20\n",
      "23/23 [==============================] - 3s 119ms/step - loss: 0.0147 - mae: 0.0698 - val_loss: 0.0818 - val_mae: 0.2261\n",
      "Epoch 14/20\n",
      "23/23 [==============================] - 3s 118ms/step - loss: 0.0136 - mae: 0.0656 - val_loss: 0.0832 - val_mae: 0.2280\n",
      "Epoch 15/20\n",
      "23/23 [==============================] - 3s 119ms/step - loss: 0.0131 - mae: 0.0628 - val_loss: 0.0838 - val_mae: 0.2268\n",
      "Epoch 16/20\n",
      "23/23 [==============================] - 3s 121ms/step - loss: 0.0126 - mae: 0.0615 - val_loss: 0.0868 - val_mae: 0.2314\n",
      "Epoch 17/20\n",
      "23/23 [==============================] - 3s 118ms/step - loss: 0.0116 - mae: 0.0555 - val_loss: 0.0860 - val_mae: 0.2302\n",
      "Epoch 18/20\n",
      "23/23 [==============================] - 3s 119ms/step - loss: 0.0109 - mae: 0.0526 - val_loss: 0.0879 - val_mae: 0.2311\n",
      "Epoch 19/20\n",
      "23/23 [==============================] - 3s 118ms/step - loss: 0.0106 - mae: 0.0513 - val_loss: 0.0898 - val_mae: 0.2325\n",
      "Epoch 20/20\n",
      "23/23 [==============================] - 3s 122ms/step - loss: 0.0099 - mae: 0.0491 - val_loss: 0.0900 - val_mae: 0.2330\n",
      "0.07207021117210388\n"
     ]
    }
   ],
   "source": [
    "from tensorflow.keras.layers import LSTM,GRU,Input\n",
    "batch_size=256\n",
    "\n",
    "inputs = Input(shape=(None,X_subsample_train.shape[2]))\n",
    "x=GRU(128,return_sequences=False)(inputs)\n",
    "if CONVERT2INT:\n",
    "    pred=Dense(len(float2int),activation='softmax')(x)\n",
    "    modelSeq=Model(inputs=inputs,outputs=pred)\n",
    "    modelSeq.compile(optimizer=Adam(lr=1e-4), loss='sparse_categorical_crossentropy', metrics=['accuracy'])\n",
    "    modelSeq.summary()\n",
    "\n",
    "    save_best_model = SaveBestModel('val_accuracy',True)\n",
    "else:\n",
    "    #pred=Dense(1,activation='sigmoid')(x)\n",
    "    pred=Dense(1,activation='sigmoid',kernel_regularizer=tf.keras.regularizers.l2(1.0/batch_size))(x)\n",
    "    modelSeq=Model(inputs=inputs,outputs=pred)\n",
    "    modelSeq.compile(optimizer=Adam(lr=1e-4), loss='mse', metrics=['mae'])\n",
    "    modelSeq.summary()\n",
    "\n",
    "    save_best_model = SaveBestModel('val_loss',False)\n",
    "\n",
    "modelSeq.fit(X_subsample_train,y_subsample_train, batch_size=batch_size, epochs=20, verbose=1, callbacks=[save_best_model],\n",
    "             validation_data=(X_subsample_test,y_subsample_test))\n",
    "best_model_weights = save_best_model.best_model_weights\n",
    "print(save_best_model.best)"
   ]
  },
  {
   "cell_type": "code",
   "execution_count": 44,
   "metadata": {},
   "outputs": [
    {
     "name": "stdout",
     "output_type": "stream",
     "text": [
      "47 0.07781394190059297\n",
      "47 0.05431346238124553\n"
     ]
    }
   ],
   "source": [
    "print_mse(modelSeq,file2feat_val)\n",
    "modelSeq.set_weights(best_model_weights)\n",
    "print_mse(modelSeq,file2feat_val)"
   ]
  },
  {
   "cell_type": "markdown",
   "metadata": {},
   "source": [
    "## Attention "
   ]
  },
  {
   "cell_type": "code",
   "execution_count": 45,
   "metadata": {},
   "outputs": [
    {
     "name": "stdout",
     "output_type": "stream",
     "text": [
      "2560\n"
     ]
    }
   ],
   "source": [
    "from tensorflow.keras import backend as K\n",
    "from tensorflow.keras.layers import Input, Dropout, Dense, Activation, Concatenate, Reshape\n",
    "from tensorflow.keras.layers import Flatten, RepeatVector, Permute, TimeDistributed\n",
    "from tensorflow.keras.layers import Multiply, Lambda, Softmax\n",
    "\n",
    "FEATURE_VECTOR_DIM=X_subsample_train.shape[-1]\n",
    "print(FEATURE_VECTOR_DIM)"
   ]
  },
  {
   "cell_type": "code",
   "execution_count": 46,
   "metadata": {},
   "outputs": [],
   "source": [
    "inputs = Input(shape=(None, FEATURE_VECTOR_DIM),name='image_set')  # (batch, samples, features)\n",
    "e = Dense(1, activation='linear', name='e')(inputs)\n",
    "e = Reshape([-1], name='alignment')(e)\n",
    "alpha = Activation('softmax', name='alpha')(e)\n",
    "\n",
    "alpha_repeated = Permute([2, 1],name='alpha_repeated')(RepeatVector(FEATURE_VECTOR_DIM, name='repeat')(alpha))\n",
    "\n",
    "c = Multiply(name='c')([inputs, alpha_repeated])\n",
    "x = Lambda(lambda xin: K.sum(xin, axis=1), output_shape=(FEATURE_VECTOR_DIM,), name='context')(c)\n",
    "\n",
    "#x = Dropout(0.3)(x)\n",
    "x = Dense(units=512, activation='relu', name='hidden_FC')(x)  # (batch, units) #128 64\n",
    "#x = tf.keras.activations.gelu(Dense(512, activation='linear')(x))"
   ]
  },
  {
   "cell_type": "code",
   "execution_count": 47,
   "metadata": {},
   "outputs": [
    {
     "name": "stdout",
     "output_type": "stream",
     "text": [
      "Model: \"model_1\"\n",
      "__________________________________________________________________________________________________\n",
      "Layer (type)                    Output Shape         Param #     Connected to                     \n",
      "==================================================================================================\n",
      "image_set (InputLayer)          [(None, None, 2560)] 0                                            \n",
      "__________________________________________________________________________________________________\n",
      "e (Dense)                       (None, None, 1)      2561        image_set[0][0]                  \n",
      "__________________________________________________________________________________________________\n",
      "alignment (Reshape)             (None, None)         0           e[0][0]                          \n",
      "__________________________________________________________________________________________________\n",
      "alpha (Activation)              (None, None)         0           alignment[0][0]                  \n",
      "__________________________________________________________________________________________________\n",
      "repeat (RepeatVector)           (None, 2560, None)   0           alpha[0][0]                      \n",
      "__________________________________________________________________________________________________\n",
      "alpha_repeated (Permute)        (None, None, 2560)   0           repeat[0][0]                     \n",
      "__________________________________________________________________________________________________\n",
      "c (Multiply)                    (None, None, 2560)   0           image_set[0][0]                  \n",
      "                                                                 alpha_repeated[0][0]             \n",
      "__________________________________________________________________________________________________\n",
      "context (Lambda)                (None, 2560)         0           c[0][0]                          \n",
      "__________________________________________________________________________________________________\n",
      "hidden_FC (Dense)               (None, 512)          1311232     context[0][0]                    \n",
      "__________________________________________________________________________________________________\n",
      "dense_1 (Dense)                 (None, 1)            513         hidden_FC[0][0]                  \n",
      "==================================================================================================\n",
      "Total params: 1,314,306\n",
      "Trainable params: 1,314,306\n",
      "Non-trainable params: 0\n",
      "__________________________________________________________________________________________________\n",
      "Epoch 1/20\n",
      "89/89 [==============================] - 5s 51ms/step - loss: 0.0567 - mae: 0.1881 - val_loss: 0.0698 - val_mae: 0.2155\n",
      "Epoch 2/20\n",
      "89/89 [==============================] - 3s 38ms/step - loss: 0.0225 - mae: 0.1208 - val_loss: 0.0656 - val_mae: 0.2081\n",
      "Epoch 3/20\n",
      "89/89 [==============================] - 3s 38ms/step - loss: 0.0149 - mae: 0.0969 - val_loss: 0.0664 - val_mae: 0.2108\n",
      "Epoch 4/20\n",
      "89/89 [==============================] - 3s 38ms/step - loss: 0.0116 - mae: 0.0850 - val_loss: 0.0645 - val_mae: 0.2102\n",
      "Epoch 5/20\n",
      "89/89 [==============================] - 3s 38ms/step - loss: 0.0093 - mae: 0.0740 - val_loss: 0.0636 - val_mae: 0.2094\n",
      "Epoch 6/20\n",
      "89/89 [==============================] - 3s 38ms/step - loss: 0.0084 - mae: 0.0702 - val_loss: 0.0656 - val_mae: 0.2126\n",
      "Epoch 7/20\n",
      "89/89 [==============================] - 3s 37ms/step - loss: 0.0070 - mae: 0.0635 - val_loss: 0.0668 - val_mae: 0.2147\n",
      "Epoch 8/20\n",
      "89/89 [==============================] - 3s 39ms/step - loss: 0.0060 - mae: 0.0582 - val_loss: 0.0669 - val_mae: 0.2151\n",
      "Epoch 9/20\n",
      "89/89 [==============================] - 3s 38ms/step - loss: 0.0053 - mae: 0.0540 - val_loss: 0.0670 - val_mae: 0.2160\n",
      "Epoch 10/20\n",
      "89/89 [==============================] - 3s 38ms/step - loss: 0.0050 - mae: 0.0525 - val_loss: 0.0688 - val_mae: 0.2195\n",
      "Epoch 11/20\n",
      "89/89 [==============================] - 3s 38ms/step - loss: 0.0044 - mae: 0.0497 - val_loss: 0.0688 - val_mae: 0.2199\n",
      "Epoch 12/20\n",
      "89/89 [==============================] - 3s 38ms/step - loss: 0.0040 - mae: 0.0474 - val_loss: 0.0687 - val_mae: 0.2198\n",
      "Epoch 13/20\n",
      "89/89 [==============================] - 3s 38ms/step - loss: 0.0039 - mae: 0.0459 - val_loss: 0.0683 - val_mae: 0.2195\n",
      "Epoch 14/20\n",
      "89/89 [==============================] - 3s 38ms/step - loss: 0.0034 - mae: 0.0435 - val_loss: 0.0685 - val_mae: 0.2196\n",
      "Epoch 15/20\n",
      "89/89 [==============================] - 3s 38ms/step - loss: 0.0033 - mae: 0.0411 - val_loss: 0.0687 - val_mae: 0.2209\n",
      "Epoch 16/20\n",
      "89/89 [==============================] - 3s 38ms/step - loss: 0.0028 - mae: 0.0382 - val_loss: 0.0684 - val_mae: 0.2190\n",
      "Epoch 17/20\n",
      "89/89 [==============================] - 3s 38ms/step - loss: 0.0027 - mae: 0.0379 - val_loss: 0.0680 - val_mae: 0.2201\n",
      "Epoch 18/20\n",
      "89/89 [==============================] - 3s 38ms/step - loss: 0.0025 - mae: 0.0361 - val_loss: 0.0676 - val_mae: 0.2192\n",
      "Epoch 19/20\n",
      "89/89 [==============================] - 3s 37ms/step - loss: 0.0022 - mae: 0.0335 - val_loss: 0.0669 - val_mae: 0.2183\n",
      "Epoch 20/20\n",
      "89/89 [==============================] - 3s 38ms/step - loss: 0.0024 - mae: 0.0357 - val_loss: 0.0679 - val_mae: 0.2201\n",
      "0.06363435089588165\n"
     ]
    }
   ],
   "source": [
    "if CONVERT2INT:\n",
    "    pred=Dense(len(float2int),activation='softmax')(x)\n",
    "    modelAtn=Model(inputs=inputs,outputs=pred)\n",
    "    modelAtn.compile(optimizer=Adam(lr=1e-4), loss='sparse_categorical_crossentropy', metrics=['accuracy'])\n",
    "    modelAtn.summary()\n",
    "\n",
    "    save_best_model = SaveBestModel('val_accuracy',True)\n",
    "else:\n",
    "    pred=Dense(1,activation='sigmoid')(x)\n",
    "    modelAtn=Model(inputs=inputs,outputs=pred)\n",
    "    modelAtn.compile(optimizer=Adam(lr=1e-4), loss='mse', metrics=['mae'])\n",
    "    modelAtn.summary()\n",
    "\n",
    "    save_best_model = SaveBestModel('val_loss',False)\n",
    "\n",
    "modelAtn.fit(X_subsample_train,y_subsample_train, batch_size=64, epochs=20, verbose=1, callbacks=[save_best_model],\n",
    "             validation_data=(X_subsample_test,y_subsample_test))\n",
    "best_model_weights = save_best_model.best_model_weights\n",
    "print(save_best_model.best)"
   ]
  },
  {
   "cell_type": "code",
   "execution_count": 48,
   "metadata": {},
   "outputs": [
    {
     "name": "stdout",
     "output_type": "stream",
     "text": [
      "47 0.05944726246491419\n",
      "47 0.05441490147802574\n"
     ]
    }
   ],
   "source": [
    "print_mse(modelAtn,file2feat_val)\n",
    "modelAtn.set_weights(best_model_weights)\n",
    "print_mse(modelAtn,file2feat_val)\n",
    "#51 0.04833589804423626"
   ]
  },
  {
   "cell_type": "code",
   "execution_count": null,
   "metadata": {},
   "outputs": [],
   "source": []
  }
 ],
 "metadata": {
  "kernelspec": {
   "display_name": "Python 3",
   "language": "python",
   "name": "python3"
  },
  "language_info": {
   "codemirror_mode": {
    "name": "ipython",
    "version": 3
   },
   "file_extension": ".py",
   "mimetype": "text/x-python",
   "name": "python",
   "nbconvert_exporter": "python",
   "pygments_lexer": "ipython3",
   "version": "3.8.10"
  }
 },
 "nbformat": 4,
 "nbformat_minor": 2
}
